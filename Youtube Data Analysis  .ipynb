{
 "cells": [
  {
   "cell_type": "code",
   "execution_count": null,
   "id": "2573b9ed-872b-4188-9d29-f51d4a842747",
   "metadata": {},
   "outputs": [],
   "source": []
  },
  {
   "cell_type": "code",
   "execution_count": 55,
   "id": "f660fe68-6c3f-407f-9466-59e2d0382ae0",
   "metadata": {},
   "outputs": [
    {
     "data": {
      "text/html": [
       "<div>\n",
       "<style scoped>\n",
       "    .dataframe tbody tr th:only-of-type {\n",
       "        vertical-align: middle;\n",
       "    }\n",
       "\n",
       "    .dataframe tbody tr th {\n",
       "        vertical-align: top;\n",
       "    }\n",
       "\n",
       "    .dataframe thead th {\n",
       "        text-align: right;\n",
       "    }\n",
       "</style>\n",
       "<table border=\"1\" class=\"dataframe\">\n",
       "  <thead>\n",
       "    <tr style=\"text-align: right;\">\n",
       "      <th></th>\n",
       "      <th>video_id</th>\n",
       "      <th>comment_text</th>\n",
       "      <th>likes</th>\n",
       "      <th>replies</th>\n",
       "    </tr>\n",
       "  </thead>\n",
       "  <tbody>\n",
       "    <tr>\n",
       "      <th>0</th>\n",
       "      <td>XpVt6Z1Gjjo</td>\n",
       "      <td>Logan Paul it's yo big day ‼️‼️‼️</td>\n",
       "      <td>4</td>\n",
       "      <td>0</td>\n",
       "    </tr>\n",
       "    <tr>\n",
       "      <th>1</th>\n",
       "      <td>XpVt6Z1Gjjo</td>\n",
       "      <td>I've been following you from the start of your...</td>\n",
       "      <td>3</td>\n",
       "      <td>0</td>\n",
       "    </tr>\n",
       "    <tr>\n",
       "      <th>2</th>\n",
       "      <td>XpVt6Z1Gjjo</td>\n",
       "      <td>Say hi to Kong and maverick for me</td>\n",
       "      <td>3</td>\n",
       "      <td>0</td>\n",
       "    </tr>\n",
       "    <tr>\n",
       "      <th>3</th>\n",
       "      <td>XpVt6Z1Gjjo</td>\n",
       "      <td>MY FAN . attendance</td>\n",
       "      <td>3</td>\n",
       "      <td>0</td>\n",
       "    </tr>\n",
       "    <tr>\n",
       "      <th>4</th>\n",
       "      <td>XpVt6Z1Gjjo</td>\n",
       "      <td>trending 😉</td>\n",
       "      <td>3</td>\n",
       "      <td>0</td>\n",
       "    </tr>\n",
       "  </tbody>\n",
       "</table>\n",
       "</div>"
      ],
      "text/plain": [
       "      video_id                                       comment_text likes  \\\n",
       "0  XpVt6Z1Gjjo                  Logan Paul it's yo big day ‼️‼️‼️     4   \n",
       "1  XpVt6Z1Gjjo  I've been following you from the start of your...     3   \n",
       "2  XpVt6Z1Gjjo                 Say hi to Kong and maverick for me     3   \n",
       "3  XpVt6Z1Gjjo                                MY FAN . attendance     3   \n",
       "4  XpVt6Z1Gjjo                                         trending 😉     3   \n",
       "\n",
       "  replies  \n",
       "0       0  \n",
       "1       0  \n",
       "2       0  \n",
       "3       0  \n",
       "4       0  "
      ]
     },
     "execution_count": 55,
     "metadata": {},
     "output_type": "execute_result"
    }
   ],
   "source": [
    "import pandas as pd\n",
    "import numpy as np\n",
    "import seaborn as sns\n",
    "import matplotlib.pyplot as plt \n",
    "\n",
    "file = pd.read_csv(r'UScomments.csv', on_bad_lines='skip')\n",
    "file.head()"
   ]
  },
  {
   "cell_type": "code",
   "execution_count": 56,
   "id": "e3b6221e-113d-4550-8165-955560189fac",
   "metadata": {},
   "outputs": [
    {
     "data": {
      "text/plain": [
       "video_id         0\n",
       "comment_text    26\n",
       "likes            0\n",
       "replies          0\n",
       "dtype: int64"
      ]
     },
     "execution_count": 56,
     "metadata": {},
     "output_type": "execute_result"
    }
   ],
   "source": [
    "file.isnull().sum()"
   ]
  },
  {
   "cell_type": "code",
   "execution_count": 59,
   "id": "864fc83b-3c61-4cef-8573-8383d0753bb8",
   "metadata": {},
   "outputs": [
    {
     "data": {
      "text/plain": [
       "video_id        0\n",
       "comment_text    0\n",
       "likes           0\n",
       "replies         0\n",
       "dtype: int64"
      ]
     },
     "execution_count": 59,
     "metadata": {},
     "output_type": "execute_result"
    }
   ],
   "source": [
    "file.dropna(inplace = True)\n",
    "file.isnull().sum()"
   ]
  },
  {
   "cell_type": "code",
   "execution_count": 61,
   "id": "ec8d58f4-2d0e-4a31-a809-f4f67913426f",
   "metadata": {},
   "outputs": [
    {
     "name": "stdout",
     "output_type": "stream",
     "text": [
      "Requirement already satisfied: textblob in /opt/anaconda3/lib/python3.12/site-packages (0.18.0.post0)\n",
      "Requirement already satisfied: nltk>=3.8 in /opt/anaconda3/lib/python3.12/site-packages (from textblob) (3.9.1)\n",
      "Requirement already satisfied: click in /opt/anaconda3/lib/python3.12/site-packages (from nltk>=3.8->textblob) (8.1.7)\n",
      "Requirement already satisfied: joblib in /opt/anaconda3/lib/python3.12/site-packages (from nltk>=3.8->textblob) (1.4.2)\n",
      "Requirement already satisfied: regex>=2021.8.3 in /opt/anaconda3/lib/python3.12/site-packages (from nltk>=3.8->textblob) (2024.9.11)\n",
      "Requirement already satisfied: tqdm in /opt/anaconda3/lib/python3.12/site-packages (from nltk>=3.8->textblob) (4.66.5)\n"
     ]
    }
   ],
   "source": [
    "!pip install textblob\n"
   ]
  },
  {
   "cell_type": "code",
   "execution_count": 62,
   "id": "b0fec5e5-6c70-499f-a70e-a655f1fe842e",
   "metadata": {},
   "outputs": [
    {
     "data": {
      "text/html": [
       "<div>\n",
       "<style scoped>\n",
       "    .dataframe tbody tr th:only-of-type {\n",
       "        vertical-align: middle;\n",
       "    }\n",
       "\n",
       "    .dataframe tbody tr th {\n",
       "        vertical-align: top;\n",
       "    }\n",
       "\n",
       "    .dataframe thead th {\n",
       "        text-align: right;\n",
       "    }\n",
       "</style>\n",
       "<table border=\"1\" class=\"dataframe\">\n",
       "  <thead>\n",
       "    <tr style=\"text-align: right;\">\n",
       "      <th></th>\n",
       "      <th>video_id</th>\n",
       "      <th>comment_text</th>\n",
       "      <th>likes</th>\n",
       "      <th>replies</th>\n",
       "    </tr>\n",
       "  </thead>\n",
       "  <tbody>\n",
       "    <tr>\n",
       "      <th>0</th>\n",
       "      <td>XpVt6Z1Gjjo</td>\n",
       "      <td>Logan Paul it's yo big day ‼️‼️‼️</td>\n",
       "      <td>4</td>\n",
       "      <td>0</td>\n",
       "    </tr>\n",
       "    <tr>\n",
       "      <th>1</th>\n",
       "      <td>XpVt6Z1Gjjo</td>\n",
       "      <td>I've been following you from the start of your...</td>\n",
       "      <td>3</td>\n",
       "      <td>0</td>\n",
       "    </tr>\n",
       "    <tr>\n",
       "      <th>2</th>\n",
       "      <td>XpVt6Z1Gjjo</td>\n",
       "      <td>Say hi to Kong and maverick for me</td>\n",
       "      <td>3</td>\n",
       "      <td>0</td>\n",
       "    </tr>\n",
       "    <tr>\n",
       "      <th>3</th>\n",
       "      <td>XpVt6Z1Gjjo</td>\n",
       "      <td>MY FAN . attendance</td>\n",
       "      <td>3</td>\n",
       "      <td>0</td>\n",
       "    </tr>\n",
       "    <tr>\n",
       "      <th>4</th>\n",
       "      <td>XpVt6Z1Gjjo</td>\n",
       "      <td>trending 😉</td>\n",
       "      <td>3</td>\n",
       "      <td>0</td>\n",
       "    </tr>\n",
       "    <tr>\n",
       "      <th>5</th>\n",
       "      <td>XpVt6Z1Gjjo</td>\n",
       "      <td>#1 on trending AYYEEEEE</td>\n",
       "      <td>3</td>\n",
       "      <td>0</td>\n",
       "    </tr>\n",
       "    <tr>\n",
       "      <th>6</th>\n",
       "      <td>XpVt6Z1Gjjo</td>\n",
       "      <td>The end though 😭👍🏻❤️</td>\n",
       "      <td>4</td>\n",
       "      <td>0</td>\n",
       "    </tr>\n",
       "  </tbody>\n",
       "</table>\n",
       "</div>"
      ],
      "text/plain": [
       "      video_id                                       comment_text likes  \\\n",
       "0  XpVt6Z1Gjjo                  Logan Paul it's yo big day ‼️‼️‼️     4   \n",
       "1  XpVt6Z1Gjjo  I've been following you from the start of your...     3   \n",
       "2  XpVt6Z1Gjjo                 Say hi to Kong and maverick for me     3   \n",
       "3  XpVt6Z1Gjjo                                MY FAN . attendance     3   \n",
       "4  XpVt6Z1Gjjo                                         trending 😉     3   \n",
       "5  XpVt6Z1Gjjo                            #1 on trending AYYEEEEE     3   \n",
       "6  XpVt6Z1Gjjo                               The end though 😭👍🏻❤️     4   \n",
       "\n",
       "  replies  \n",
       "0       0  \n",
       "1       0  \n",
       "2       0  \n",
       "3       0  \n",
       "4       0  \n",
       "5       0  \n",
       "6       0  "
      ]
     },
     "execution_count": 62,
     "metadata": {},
     "output_type": "execute_result"
    }
   ],
   "source": [
    "from textblob import TextBlob\n",
    "file.head(7)\n"
   ]
  },
  {
   "cell_type": "code",
   "execution_count": 65,
   "id": "9270c844-b8f7-468a-afe9-a9121e29eb4f",
   "metadata": {},
   "outputs": [
    {
     "data": {
      "text/plain": [
       "(1000, 4)"
      ]
     },
     "execution_count": 65,
     "metadata": {},
     "output_type": "execute_result"
    }
   ],
   "source": [
    "TextBlob('trending 😉').sentiment.polarity\n",
    "sample = file[0:1000]\n",
    "sample.shape"
   ]
  },
  {
   "cell_type": "code",
   "execution_count": 67,
   "id": "eabd4ded-5748-49ea-8d65-5a96e09bcfad",
   "metadata": {},
   "outputs": [],
   "source": [
    "polarity = []\n",
    "for comment in file['comment_text']:\n",
    "    try:\n",
    "        polarity.append(TextBlob(comment).sentiment.polarity)\n",
    "    except:\n",
    "        polarity.append(0)"
   ]
  },
  {
   "cell_type": "code",
   "execution_count": 68,
   "id": "b346f5bf-2558-496d-8aac-cd7a0e7e93e5",
   "metadata": {},
   "outputs": [
    {
     "data": {
      "text/plain": [
       "691374"
      ]
     },
     "execution_count": 68,
     "metadata": {},
     "output_type": "execute_result"
    }
   ],
   "source": [
    "len(polarity)"
   ]
  },
  {
   "cell_type": "code",
   "execution_count": 69,
   "id": "30e3128b-3ba2-4ef1-9d7f-c6bc33dd1904",
   "metadata": {},
   "outputs": [
    {
     "data": {
      "text/html": [
       "<div>\n",
       "<style scoped>\n",
       "    .dataframe tbody tr th:only-of-type {\n",
       "        vertical-align: middle;\n",
       "    }\n",
       "\n",
       "    .dataframe tbody tr th {\n",
       "        vertical-align: top;\n",
       "    }\n",
       "\n",
       "    .dataframe thead th {\n",
       "        text-align: right;\n",
       "    }\n",
       "</style>\n",
       "<table border=\"1\" class=\"dataframe\">\n",
       "  <thead>\n",
       "    <tr style=\"text-align: right;\">\n",
       "      <th></th>\n",
       "      <th>video_id</th>\n",
       "      <th>comment_text</th>\n",
       "      <th>likes</th>\n",
       "      <th>replies</th>\n",
       "      <th>Polarity</th>\n",
       "    </tr>\n",
       "  </thead>\n",
       "  <tbody>\n",
       "    <tr>\n",
       "      <th>0</th>\n",
       "      <td>XpVt6Z1Gjjo</td>\n",
       "      <td>Logan Paul it's yo big day ‼️‼️‼️</td>\n",
       "      <td>4</td>\n",
       "      <td>0</td>\n",
       "      <td>0.0</td>\n",
       "    </tr>\n",
       "    <tr>\n",
       "      <th>1</th>\n",
       "      <td>XpVt6Z1Gjjo</td>\n",
       "      <td>I've been following you from the start of your...</td>\n",
       "      <td>3</td>\n",
       "      <td>0</td>\n",
       "      <td>0.0</td>\n",
       "    </tr>\n",
       "    <tr>\n",
       "      <th>2</th>\n",
       "      <td>XpVt6Z1Gjjo</td>\n",
       "      <td>Say hi to Kong and maverick for me</td>\n",
       "      <td>3</td>\n",
       "      <td>0</td>\n",
       "      <td>0.0</td>\n",
       "    </tr>\n",
       "    <tr>\n",
       "      <th>3</th>\n",
       "      <td>XpVt6Z1Gjjo</td>\n",
       "      <td>MY FAN . attendance</td>\n",
       "      <td>3</td>\n",
       "      <td>0</td>\n",
       "      <td>0.0</td>\n",
       "    </tr>\n",
       "    <tr>\n",
       "      <th>4</th>\n",
       "      <td>XpVt6Z1Gjjo</td>\n",
       "      <td>trending 😉</td>\n",
       "      <td>3</td>\n",
       "      <td>0</td>\n",
       "      <td>0.0</td>\n",
       "    </tr>\n",
       "  </tbody>\n",
       "</table>\n",
       "</div>"
      ],
      "text/plain": [
       "      video_id                                       comment_text likes  \\\n",
       "0  XpVt6Z1Gjjo                  Logan Paul it's yo big day ‼️‼️‼️     4   \n",
       "1  XpVt6Z1Gjjo  I've been following you from the start of your...     3   \n",
       "2  XpVt6Z1Gjjo                 Say hi to Kong and maverick for me     3   \n",
       "3  XpVt6Z1Gjjo                                MY FAN . attendance     3   \n",
       "4  XpVt6Z1Gjjo                                         trending 😉     3   \n",
       "\n",
       "  replies  Polarity  \n",
       "0       0       0.0  \n",
       "1       0       0.0  \n",
       "2       0       0.0  \n",
       "3       0       0.0  \n",
       "4       0       0.0  "
      ]
     },
     "execution_count": 69,
     "metadata": {},
     "output_type": "execute_result"
    }
   ],
   "source": [
    "file['Polarity'] = polarity\n",
    "file.head()"
   ]
  },
  {
   "cell_type": "code",
   "execution_count": 70,
   "id": "4373690d-9bdc-4452-b1e6-8397c4627cc7",
   "metadata": {},
   "outputs": [
    {
     "data": {
      "text/plain": [
       "0.13781192172891152"
      ]
     },
     "execution_count": 70,
     "metadata": {},
     "output_type": "execute_result"
    }
   ],
   "source": [
    "file['Polarity'].mean()"
   ]
  },
  {
   "cell_type": "code",
   "execution_count": 71,
   "id": "a66fadf7-3168-4497-b7f9-d19e65dedf87",
   "metadata": {},
   "outputs": [
    {
     "data": {
      "text/html": [
       "<div>\n",
       "<style scoped>\n",
       "    .dataframe tbody tr th:only-of-type {\n",
       "        vertical-align: middle;\n",
       "    }\n",
       "\n",
       "    .dataframe tbody tr th {\n",
       "        vertical-align: top;\n",
       "    }\n",
       "\n",
       "    .dataframe thead th {\n",
       "        text-align: right;\n",
       "    }\n",
       "</style>\n",
       "<table border=\"1\" class=\"dataframe\">\n",
       "  <thead>\n",
       "    <tr style=\"text-align: right;\">\n",
       "      <th></th>\n",
       "      <th>video_id</th>\n",
       "      <th>comment_text</th>\n",
       "      <th>likes</th>\n",
       "      <th>replies</th>\n",
       "      <th>Polarity</th>\n",
       "    </tr>\n",
       "  </thead>\n",
       "  <tbody>\n",
       "    <tr>\n",
       "      <th>64</th>\n",
       "      <td>XpVt6Z1Gjjo</td>\n",
       "      <td>yu are the best</td>\n",
       "      <td>1</td>\n",
       "      <td>0</td>\n",
       "      <td>1.0</td>\n",
       "    </tr>\n",
       "    <tr>\n",
       "      <th>156</th>\n",
       "      <td>cLdxuaxaQwc</td>\n",
       "      <td>Power is the disease.  Care is the cure.  Keep...</td>\n",
       "      <td>0</td>\n",
       "      <td>0</td>\n",
       "      <td>1.0</td>\n",
       "    </tr>\n",
       "    <tr>\n",
       "      <th>227</th>\n",
       "      <td>WYYvHb03Eog</td>\n",
       "      <td>YAS Can't wait to get it! I just need to sell ...</td>\n",
       "      <td>0</td>\n",
       "      <td>0</td>\n",
       "      <td>1.0</td>\n",
       "    </tr>\n",
       "    <tr>\n",
       "      <th>307</th>\n",
       "      <td>sjlHnJvXdQs</td>\n",
       "      <td>This is priceless</td>\n",
       "      <td>0</td>\n",
       "      <td>0</td>\n",
       "      <td>1.0</td>\n",
       "    </tr>\n",
       "    <tr>\n",
       "      <th>319</th>\n",
       "      <td>sjlHnJvXdQs</td>\n",
       "      <td>Summed up perfectly</td>\n",
       "      <td>0</td>\n",
       "      <td>0</td>\n",
       "      <td>1.0</td>\n",
       "    </tr>\n",
       "    <tr>\n",
       "      <th>...</th>\n",
       "      <td>...</td>\n",
       "      <td>...</td>\n",
       "      <td>...</td>\n",
       "      <td>...</td>\n",
       "      <td>...</td>\n",
       "    </tr>\n",
       "    <tr>\n",
       "      <th>691373</th>\n",
       "      <td>EoejGgUNmVU</td>\n",
       "      <td>Perfect. Every version</td>\n",
       "      <td>0</td>\n",
       "      <td>0</td>\n",
       "      <td>1.0</td>\n",
       "    </tr>\n",
       "    <tr>\n",
       "      <th>691383</th>\n",
       "      <td>EoejGgUNmVU</td>\n",
       "      <td>Me encantaaaaa &lt;3</td>\n",
       "      <td>0</td>\n",
       "      <td>0</td>\n",
       "      <td>1.0</td>\n",
       "    </tr>\n",
       "    <tr>\n",
       "      <th>691388</th>\n",
       "      <td>EoejGgUNmVU</td>\n",
       "      <td>Best song ever 🤘</td>\n",
       "      <td>0</td>\n",
       "      <td>0</td>\n",
       "      <td>1.0</td>\n",
       "    </tr>\n",
       "    <tr>\n",
       "      <th>691389</th>\n",
       "      <td>EoejGgUNmVU</td>\n",
       "      <td>excellent performance</td>\n",
       "      <td>0</td>\n",
       "      <td>0</td>\n",
       "      <td>1.0</td>\n",
       "    </tr>\n",
       "    <tr>\n",
       "      <th>691393</th>\n",
       "      <td>EoejGgUNmVU</td>\n",
       "      <td>&lt;3</td>\n",
       "      <td>0</td>\n",
       "      <td>0</td>\n",
       "      <td>1.0</td>\n",
       "    </tr>\n",
       "  </tbody>\n",
       "</table>\n",
       "<p>19390 rows × 5 columns</p>\n",
       "</div>"
      ],
      "text/plain": [
       "           video_id                                       comment_text likes  \\\n",
       "64      XpVt6Z1Gjjo                                    yu are the best     1   \n",
       "156     cLdxuaxaQwc  Power is the disease.  Care is the cure.  Keep...     0   \n",
       "227     WYYvHb03Eog  YAS Can't wait to get it! I just need to sell ...     0   \n",
       "307     sjlHnJvXdQs                                  This is priceless     0   \n",
       "319     sjlHnJvXdQs                                Summed up perfectly     0   \n",
       "...             ...                                                ...   ...   \n",
       "691373  EoejGgUNmVU                             Perfect. Every version     0   \n",
       "691383  EoejGgUNmVU                                  Me encantaaaaa <3     0   \n",
       "691388  EoejGgUNmVU                                   Best song ever 🤘     0   \n",
       "691389  EoejGgUNmVU                              excellent performance     0   \n",
       "691393  EoejGgUNmVU                                                 <3     0   \n",
       "\n",
       "       replies  Polarity  \n",
       "64           0       1.0  \n",
       "156          0       1.0  \n",
       "227          0       1.0  \n",
       "307          0       1.0  \n",
       "319          0       1.0  \n",
       "...        ...       ...  \n",
       "691373       0       1.0  \n",
       "691383       0       1.0  \n",
       "691388       0       1.0  \n",
       "691389       0       1.0  \n",
       "691393       0       1.0  \n",
       "\n",
       "[19390 rows x 5 columns]"
      ]
     },
     "execution_count": 71,
     "metadata": {},
     "output_type": "execute_result"
    }
   ],
   "source": [
    "positive_words = file['Polarity'] ==1\n",
    "negative_words = file['Polarity'] ==-1\n",
    "file[positive_words]"
   ]
  },
  {
   "cell_type": "code",
   "execution_count": 72,
   "id": "d8563caf-fcf7-4ec7-a00e-5152f37d30f1",
   "metadata": {},
   "outputs": [
    {
     "data": {
      "text/html": [
       "<div>\n",
       "<style scoped>\n",
       "    .dataframe tbody tr th:only-of-type {\n",
       "        vertical-align: middle;\n",
       "    }\n",
       "\n",
       "    .dataframe tbody tr th {\n",
       "        vertical-align: top;\n",
       "    }\n",
       "\n",
       "    .dataframe thead th {\n",
       "        text-align: right;\n",
       "    }\n",
       "</style>\n",
       "<table border=\"1\" class=\"dataframe\">\n",
       "  <thead>\n",
       "    <tr style=\"text-align: right;\">\n",
       "      <th></th>\n",
       "      <th>video_id</th>\n",
       "      <th>comment_text</th>\n",
       "      <th>likes</th>\n",
       "      <th>replies</th>\n",
       "      <th>Polarity</th>\n",
       "    </tr>\n",
       "  </thead>\n",
       "  <tbody>\n",
       "    <tr>\n",
       "      <th>512</th>\n",
       "      <td>8wNr-NQImFg</td>\n",
       "      <td>BEN CARSON IS THE MAN!!!!! THEY HATE HIM CAUSE...</td>\n",
       "      <td>0</td>\n",
       "      <td>0</td>\n",
       "      <td>-1.0</td>\n",
       "    </tr>\n",
       "    <tr>\n",
       "      <th>562</th>\n",
       "      <td>8wNr-NQImFg</td>\n",
       "      <td>Well… The brain surgeon Ben Carson just proved...</td>\n",
       "      <td>0</td>\n",
       "      <td>0</td>\n",
       "      <td>-1.0</td>\n",
       "    </tr>\n",
       "    <tr>\n",
       "      <th>952</th>\n",
       "      <td>Ayb_2qbZHm4</td>\n",
       "      <td>WHY DID YOU MAKE FURRY FORCE?! SO NASTY!!!</td>\n",
       "      <td>0</td>\n",
       "      <td>0</td>\n",
       "      <td>-1.0</td>\n",
       "    </tr>\n",
       "    <tr>\n",
       "      <th>1371</th>\n",
       "      <td>vu_9muoxT50</td>\n",
       "      <td>WTF BRUH!!!!!!</td>\n",
       "      <td>0</td>\n",
       "      <td>0</td>\n",
       "      <td>-1.0</td>\n",
       "    </tr>\n",
       "    <tr>\n",
       "      <th>1391</th>\n",
       "      <td>vu_9muoxT50</td>\n",
       "      <td>cheeseus christ thats insane!!!</td>\n",
       "      <td>0</td>\n",
       "      <td>0</td>\n",
       "      <td>-1.0</td>\n",
       "    </tr>\n",
       "    <tr>\n",
       "      <th>...</th>\n",
       "      <td>...</td>\n",
       "      <td>...</td>\n",
       "      <td>...</td>\n",
       "      <td>...</td>\n",
       "      <td>...</td>\n",
       "    </tr>\n",
       "    <tr>\n",
       "      <th>690788</th>\n",
       "      <td>Hlt3rA-oDao</td>\n",
       "      <td>Like Kelly she evil</td>\n",
       "      <td>0</td>\n",
       "      <td>0</td>\n",
       "      <td>-1.0</td>\n",
       "    </tr>\n",
       "    <tr>\n",
       "      <th>690865</th>\n",
       "      <td>Ni5Uc-DdMqk</td>\n",
       "      <td>R U FUCKING KIDDING ME?!?!?!?!</td>\n",
       "      <td>11</td>\n",
       "      <td>1</td>\n",
       "      <td>-1.0</td>\n",
       "    </tr>\n",
       "    <tr>\n",
       "      <th>691073</th>\n",
       "      <td>4kmSATD25iY</td>\n",
       "      <td>This is horribly offensive please report</td>\n",
       "      <td>0</td>\n",
       "      <td>0</td>\n",
       "      <td>-1.0</td>\n",
       "    </tr>\n",
       "    <tr>\n",
       "      <th>691180</th>\n",
       "      <td>xlu6i6lT_vk</td>\n",
       "      <td>Sink holes looks terrifying sinkholes sink you...</td>\n",
       "      <td>0</td>\n",
       "      <td>0</td>\n",
       "      <td>-1.0</td>\n",
       "    </tr>\n",
       "    <tr>\n",
       "      <th>691224</th>\n",
       "      <td>qRoVlH1OcI4</td>\n",
       "      <td>Trump talked to the president of US Virgin Isl...</td>\n",
       "      <td>0</td>\n",
       "      <td>0</td>\n",
       "      <td>-1.0</td>\n",
       "    </tr>\n",
       "  </tbody>\n",
       "</table>\n",
       "<p>3508 rows × 5 columns</p>\n",
       "</div>"
      ],
      "text/plain": [
       "           video_id                                       comment_text likes  \\\n",
       "512     8wNr-NQImFg  BEN CARSON IS THE MAN!!!!! THEY HATE HIM CAUSE...     0   \n",
       "562     8wNr-NQImFg  Well… The brain surgeon Ben Carson just proved...     0   \n",
       "952     Ayb_2qbZHm4         WHY DID YOU MAKE FURRY FORCE?! SO NASTY!!!     0   \n",
       "1371    vu_9muoxT50                                     WTF BRUH!!!!!!     0   \n",
       "1391    vu_9muoxT50                    cheeseus christ thats insane!!!     0   \n",
       "...             ...                                                ...   ...   \n",
       "690788  Hlt3rA-oDao                                Like Kelly she evil     0   \n",
       "690865  Ni5Uc-DdMqk                     R U FUCKING KIDDING ME?!?!?!?!    11   \n",
       "691073  4kmSATD25iY           This is horribly offensive please report     0   \n",
       "691180  xlu6i6lT_vk  Sink holes looks terrifying sinkholes sink you...     0   \n",
       "691224  qRoVlH1OcI4  Trump talked to the president of US Virgin Isl...     0   \n",
       "\n",
       "       replies  Polarity  \n",
       "512          0      -1.0  \n",
       "562          0      -1.0  \n",
       "952          0      -1.0  \n",
       "1371         0      -1.0  \n",
       "1391         0      -1.0  \n",
       "...        ...       ...  \n",
       "690788       0      -1.0  \n",
       "690865       1      -1.0  \n",
       "691073       0      -1.0  \n",
       "691180       0      -1.0  \n",
       "691224       0      -1.0  \n",
       "\n",
       "[3508 rows x 5 columns]"
      ]
     },
     "execution_count": 72,
     "metadata": {},
     "output_type": "execute_result"
    }
   ],
   "source": [
    "file[negative_words]"
   ]
  },
  {
   "cell_type": "code",
   "execution_count": 115,
   "id": "d585040b-bf4a-4938-aaaa-1e7262a8a6d7",
   "metadata": {},
   "outputs": [],
   "source": [
    "negative_comments = file[negative_words]\n",
    "positive_comments = file[positive_words]"
   ]
  },
  {
   "cell_type": "code",
   "execution_count": 117,
   "id": "bd2d9344-064e-40b8-a936-25c12d818e13",
   "metadata": {},
   "outputs": [
    {
     "data": {
      "text/html": [
       "<div>\n",
       "<style scoped>\n",
       "    .dataframe tbody tr th:only-of-type {\n",
       "        vertical-align: middle;\n",
       "    }\n",
       "\n",
       "    .dataframe tbody tr th {\n",
       "        vertical-align: top;\n",
       "    }\n",
       "\n",
       "    .dataframe thead th {\n",
       "        text-align: right;\n",
       "    }\n",
       "</style>\n",
       "<table border=\"1\" class=\"dataframe\">\n",
       "  <thead>\n",
       "    <tr style=\"text-align: right;\">\n",
       "      <th></th>\n",
       "      <th>video_id</th>\n",
       "      <th>comment_text</th>\n",
       "      <th>likes</th>\n",
       "      <th>replies</th>\n",
       "      <th>Polarity</th>\n",
       "    </tr>\n",
       "  </thead>\n",
       "  <tbody>\n",
       "    <tr>\n",
       "      <th>64</th>\n",
       "      <td>XpVt6Z1Gjjo</td>\n",
       "      <td>yu are the best</td>\n",
       "      <td>1</td>\n",
       "      <td>0</td>\n",
       "      <td>1.0</td>\n",
       "    </tr>\n",
       "    <tr>\n",
       "      <th>156</th>\n",
       "      <td>cLdxuaxaQwc</td>\n",
       "      <td>Power is the disease.  Care is the cure.  Keep...</td>\n",
       "      <td>0</td>\n",
       "      <td>0</td>\n",
       "      <td>1.0</td>\n",
       "    </tr>\n",
       "    <tr>\n",
       "      <th>227</th>\n",
       "      <td>WYYvHb03Eog</td>\n",
       "      <td>YAS Can't wait to get it! I just need to sell ...</td>\n",
       "      <td>0</td>\n",
       "      <td>0</td>\n",
       "      <td>1.0</td>\n",
       "    </tr>\n",
       "    <tr>\n",
       "      <th>307</th>\n",
       "      <td>sjlHnJvXdQs</td>\n",
       "      <td>This is priceless</td>\n",
       "      <td>0</td>\n",
       "      <td>0</td>\n",
       "      <td>1.0</td>\n",
       "    </tr>\n",
       "    <tr>\n",
       "      <th>319</th>\n",
       "      <td>sjlHnJvXdQs</td>\n",
       "      <td>Summed up perfectly</td>\n",
       "      <td>0</td>\n",
       "      <td>0</td>\n",
       "      <td>1.0</td>\n",
       "    </tr>\n",
       "  </tbody>\n",
       "</table>\n",
       "</div>"
      ],
      "text/plain": [
       "        video_id                                       comment_text likes  \\\n",
       "64   XpVt6Z1Gjjo                                    yu are the best     1   \n",
       "156  cLdxuaxaQwc  Power is the disease.  Care is the cure.  Keep...     0   \n",
       "227  WYYvHb03Eog  YAS Can't wait to get it! I just need to sell ...     0   \n",
       "307  sjlHnJvXdQs                                  This is priceless     0   \n",
       "319  sjlHnJvXdQs                                Summed up perfectly     0   \n",
       "\n",
       "    replies  Polarity  \n",
       "64        0       1.0  \n",
       "156       0       1.0  \n",
       "227       0       1.0  \n",
       "307       0       1.0  \n",
       "319       0       1.0  "
      ]
     },
     "execution_count": 117,
     "metadata": {},
     "output_type": "execute_result"
    }
   ],
   "source": [
    "positive_comments.head()\n"
   ]
  },
  {
   "cell_type": "code",
   "execution_count": 119,
   "id": "377493f6-c213-4780-bec2-983674fdb13a",
   "metadata": {},
   "outputs": [
    {
     "name": "stdout",
     "output_type": "stream",
     "text": [
      "Requirement already satisfied: wordcloud in /opt/anaconda3/lib/python3.12/site-packages (1.9.3)\n",
      "Requirement already satisfied: numpy>=1.6.1 in /opt/anaconda3/lib/python3.12/site-packages (from wordcloud) (1.26.4)\n",
      "Requirement already satisfied: pillow in /opt/anaconda3/lib/python3.12/site-packages (from wordcloud) (10.4.0)\n",
      "Requirement already satisfied: matplotlib in /opt/anaconda3/lib/python3.12/site-packages (from wordcloud) (3.9.2)\n",
      "Requirement already satisfied: contourpy>=1.0.1 in /opt/anaconda3/lib/python3.12/site-packages (from matplotlib->wordcloud) (1.2.0)\n",
      "Requirement already satisfied: cycler>=0.10 in /opt/anaconda3/lib/python3.12/site-packages (from matplotlib->wordcloud) (0.11.0)\n",
      "Requirement already satisfied: fonttools>=4.22.0 in /opt/anaconda3/lib/python3.12/site-packages (from matplotlib->wordcloud) (4.51.0)\n",
      "Requirement already satisfied: kiwisolver>=1.3.1 in /opt/anaconda3/lib/python3.12/site-packages (from matplotlib->wordcloud) (1.4.4)\n",
      "Requirement already satisfied: packaging>=20.0 in /opt/anaconda3/lib/python3.12/site-packages (from matplotlib->wordcloud) (24.1)\n",
      "Requirement already satisfied: pyparsing>=2.3.1 in /opt/anaconda3/lib/python3.12/site-packages (from matplotlib->wordcloud) (3.1.2)\n",
      "Requirement already satisfied: python-dateutil>=2.7 in /opt/anaconda3/lib/python3.12/site-packages (from matplotlib->wordcloud) (2.9.0.post0)\n",
      "Requirement already satisfied: six>=1.5 in /opt/anaconda3/lib/python3.12/site-packages (from python-dateutil>=2.7->matplotlib->wordcloud) (1.16.0)\n"
     ]
    }
   ],
   "source": [
    "!pip install wordcloud"
   ]
  },
  {
   "cell_type": "code",
   "execution_count": 120,
   "id": "e9a438fc-f78a-44f1-b874-de5be43135c4",
   "metadata": {},
   "outputs": [],
   "source": [
    "from wordcloud import WordCloud, STOPWORDS\n",
    "stopwords = set(STOPWORDS)"
   ]
  },
  {
   "cell_type": "code",
   "execution_count": 123,
   "id": "5c4496cc-9636-4088-8f0f-a1f850dac403",
   "metadata": {},
   "outputs": [
    {
     "data": {
      "text/plain": [
       "0                         Logan Paul it's yo big day ‼️‼️‼️\n",
       "1         I've been following you from the start of your...\n",
       "2                        Say hi to Kong and maverick for me\n",
       "3                                       MY FAN . attendance\n",
       "4                                                trending 😉\n",
       "                                ...                        \n",
       "691395                                               Лучшая\n",
       "691396    qu'est ce que j'aimerais que tu viennes à Roan...\n",
       "691397                            Ven a mexico! 😍 te amo LP\n",
       "691398                                      Islığı yeter...\n",
       "691399    Kocham tą piosenkę😍❤❤❤byłam zakochana po uszy ...\n",
       "Name: comment_text, Length: 691374, dtype: object"
      ]
     },
     "execution_count": 123,
     "metadata": {},
     "output_type": "execute_result"
    }
   ],
   "source": [
    "file['comment_text']"
   ]
  },
  {
   "cell_type": "code",
   "execution_count": 394,
   "id": "fb0399a9-92c7-4723-90c9-36d9b67d6bdc",
   "metadata": {},
   "outputs": [],
   "source": [
    "total_positive_comments = ' '.join(positive_comments['comment_text'])\n",
    "total_negative_comments = ' '.join(negative_comments['comment_text'])"
   ]
  },
  {
   "cell_type": "code",
   "execution_count": 127,
   "id": "9b0c0fcb-753b-4a10-846b-6177046d243f",
   "metadata": {},
   "outputs": [],
   "source": [
    "postitve_wordcloud = WordCloud(stopwords = set(STOPWORDS)).generate(total_positive_comments)\n",
    "negative_wordcloud = WordCloud(stopwords = set(STOPWORDS)).generate(total_negative_comments)\n"
   ]
  },
  {
   "cell_type": "code",
   "execution_count": 129,
   "id": "645173c7-5b45-476d-81d9-1999d3a88534",
   "metadata": {},
   "outputs": [
    {
     "data": {
      "text/plain": [
       "(-0.5, 399.5, 199.5, -0.5)"
      ]
     },
     "execution_count": 129,
     "metadata": {},
     "output_type": "execute_result"
    },
    {
     "data": {
      "image/png": "[encoded data removed]",
      "text/plain": [
       "<Figure size 640x480 with 1 Axes>"
      ]
     },
     "metadata": {},
     "output_type": "display_data"
    }
   ],
   "source": [
    "plt.imshow(postitve_wordcloud)\n",
    "plt.axis('off')"
   ]
  },
  {
   "cell_type": "code",
   "execution_count": 131,
   "id": "88077d8c-61c4-44d4-90d0-89a5abc07fca",
   "metadata": {},
   "outputs": [
    {
     "data": {
      "text/plain": [
       "(-0.5, 399.5, 199.5, -0.5)"
      ]
     },
     "execution_count": 131,
     "metadata": {},
     "output_type": "execute_result"
    },
    {
     "data": {
      "image/png": "[encoded data removed]",
      "text/plain": [
       "<Figure size 640x480 with 1 Axes>"
      ]
     },
     "metadata": {},
     "output_type": "display_data"
    }
   ],
   "source": [
    "plt.imshow(negative_wordcloud)\n",
    "plt.axis('off')"
   ]
  },
  {
   "cell_type": "code",
   "execution_count": 133,
   "id": "dafe8774-b842-45c3-884e-12b71bced6a6",
   "metadata": {},
   "outputs": [
    {
     "name": "stdout",
     "output_type": "stream",
     "text": [
      "Requirement already satisfied: emoji in /opt/anaconda3/lib/python3.12/site-packages (2.14.0)\n"
     ]
    }
   ],
   "source": [
    "!pip install emoji\n"
   ]
  },
  {
   "cell_type": "code",
   "execution_count": 134,
   "id": "f54855b3-aadb-4618-9f3d-e23685a34e07",
   "metadata": {},
   "outputs": [
    {
     "data": {
      "text/plain": [
       "0                    Logan Paul it's yo big day ‼️‼️‼️\n",
       "1    I've been following you from the start of your...\n",
       "2                   Say hi to Kong and maverick for me\n",
       "3                                  MY FAN . attendance\n",
       "4                                           trending 😉\n",
       "5                              #1 on trending AYYEEEEE\n",
       "6                                 The end though 😭👍🏻❤️\n",
       "7                                 #1 trending!!!!!!!!!\n",
       "8                          Happy one year vlogaversary\n",
       "Name: comment_text, dtype: object"
      ]
     },
     "execution_count": 134,
     "metadata": {},
     "output_type": "execute_result"
    }
   ],
   "source": [
    "import emoji\n",
    "file['comment_text'].head(9)"
   ]
  },
  {
   "cell_type": "code",
   "execution_count": 137,
   "id": "471f009b-615a-4f15-981b-e3a1647a81bb",
   "metadata": {},
   "outputs": [
    {
     "data": {
      "text/plain": [
       "'trending 😉'"
      ]
     },
     "execution_count": 137,
     "metadata": {},
     "output_type": "execute_result"
    }
   ],
   "source": [
    "trending_comment = file['comment_text'].iloc[4]\n",
    "trending_comment"
   ]
  },
  {
   "cell_type": "code",
   "execution_count": 139,
   "id": "6cbc7f86-7137-4526-9e0a-eedcd800f218",
   "metadata": {},
   "outputs": [],
   "source": [
    "emoji_list = []\n",
    "\n",
    "for comment in file['comment_text'].dropna():\n",
    "    for char in comment:\n",
    "        if char in emoji.EMOJI_DATA:\n",
    "            emoji_list.append(char)"
   ]
  },
  {
   "cell_type": "code",
   "execution_count": 140,
   "id": "05d2a739-29ae-4d6d-b8c7-903684364f0b",
   "metadata": {},
   "outputs": [
    {
     "data": {
      "text/plain": [
       "['‼', '‼', '‼', '😉', '😭', '👍', '🏻', '❤', '😍', '💋']"
      ]
     },
     "execution_count": 140,
     "metadata": {},
     "output_type": "execute_result"
    }
   ],
   "source": [
    "emoji_list[0:10]"
   ]
  },
  {
   "cell_type": "code",
   "execution_count": 141,
   "id": "7cddff57-63b2-4d4d-82c3-6749decb5c74",
   "metadata": {},
   "outputs": [],
   "source": [
    "from collections import Counter"
   ]
  },
  {
   "cell_type": "code",
   "execution_count": 142,
   "id": "a87b3181-6407-4081-bf49-2eba765b24ca",
   "metadata": {},
   "outputs": [
    {
     "data": {
      "text/plain": [
       "[('😂', 36987),\n",
       " ('😍', 33453),\n",
       " ('❤', 31119),\n",
       " ('🔥', 8694),\n",
       " ('😭', 8398),\n",
       " ('👏', 5719),\n",
       " ('😘', 5545),\n",
       " ('👍', 5476),\n",
       " ('💖', 5359),\n",
       " ('💕', 5147)]"
      ]
     },
     "execution_count": 142,
     "metadata": {},
     "output_type": "execute_result"
    }
   ],
   "source": [
    "Counter(emoji_list).most_common(10)"
   ]
  },
  {
   "cell_type": "code",
   "execution_count": 147,
   "id": "ab5d3da2-ac2c-4f99-b546-c00d8ea2807a",
   "metadata": {},
   "outputs": [
    {
     "data": {
      "text/plain": [
       "'😂'"
      ]
     },
     "execution_count": 147,
     "metadata": {},
     "output_type": "execute_result"
    }
   ],
   "source": [
    "Counter(emoji_list).most_common(10)[0][0]"
   ]
  },
  {
   "cell_type": "code",
   "execution_count": 149,
   "id": "0d990701-ee02-413a-aefe-53d470954986",
   "metadata": {},
   "outputs": [
    {
     "data": {
      "text/plain": [
       "['😂', '😍', '❤', '🔥', '😭', '👏', '😘', '👍', '💖', '💕']"
      ]
     },
     "execution_count": 149,
     "metadata": {},
     "output_type": "execute_result"
    }
   ],
   "source": [
    "total_emoji = [Counter(emoji_list).most_common(10)[i][0] for i in range(10)]\n",
    "total_emoji"
   ]
  },
  {
   "cell_type": "code",
   "execution_count": 151,
   "id": "3af9b282-53f8-45e2-958c-5e1aabc20ffc",
   "metadata": {},
   "outputs": [
    {
     "data": {
      "text/plain": [
       "[36987, 33453, 31119, 8694, 8398, 5719, 5545, 5476, 5359, 5147]"
      ]
     },
     "execution_count": 151,
     "metadata": {},
     "output_type": "execute_result"
    }
   ],
   "source": [
    "total_count = [Counter(emoji_list).most_common(10)[i][1] for i in range(10)]\n",
    "total_count"
   ]
  },
  {
   "cell_type": "code",
   "execution_count": 153,
   "id": "b9e14dab-bb29-4b57-9146-a8457b6465ef",
   "metadata": {},
   "outputs": [
    {
     "data": {
      "application/vnd.plotly.v1+json": {
       "config": {
        "linkText": "Export to plot.ly",
        "plotlyServerURL": "https://plot.ly",
        "showLink": false
       },
       "data": [
        {
         "type": "bar",
         "x": [
          "😂",
          "😍",
          "❤",
          "🔥",
          "😭",
          "👏",
          "😘",
          "👍",
          "💖",
          "💕"
         ],
         "y": [
          36987,
          33453,
          31119,
          8694,
          8398,
          5719,
          5545,
          5476,
          5359,
          5147
         ]
        }
       ],
       "layout": {
        "autosize": true,
        "template": {
         "data": {
          "bar": [
           {
            "error_x": {
             "color": "#2a3f5f"
            },
            "error_y": {
             "color": "#2a3f5f"
            },
            "marker": {
             "line": {
              "color": "#E5ECF6",
              "width": 0.5
             },
             "pattern": {
              "fillmode": "overlay",
              "size": 10,
              "solidity": 0.2
             }
            },
            "type": "bar"
           }
          ],
          "barpolar": [
           {
            "marker": {
             "line": {
              "color": "#E5ECF6",
              "width": 0.5
             },
             "pattern": {
              "fillmode": "overlay",
              "size": 10,
              "solidity": 0.2
             }
            },
            "type": "barpolar"
           }
          ],
          "carpet": [
           {
            "aaxis": {
             "endlinecolor": "#2a3f5f",
             "gridcolor": "white",
             "linecolor": "white",
             "minorgridcolor": "white",
             "startlinecolor": "#2a3f5f"
            },
            "baxis": {
             "endlinecolor": "#2a3f5f",
             "gridcolor": "white",
             "linecolor": "white",
             "minorgridcolor": "white",
             "startlinecolor": "#2a3f5f"
            },
            "type": "carpet"
           }
          ],
          "choropleth": [
           {
            "colorbar": {
             "outlinewidth": 0,
             "ticks": ""
            },
            "type": "choropleth"
           }
          ],
          "contour": [
           {
            "colorbar": {
             "outlinewidth": 0,
             "ticks": ""
            },
            "colorscale": [
             [
              0,
              "#0d0887"
             ],
             [
              0.1111111111111111,
              "#46039f"
             ],
             [
              0.2222222222222222,
              "#7201a8"
             ],
             [
              0.3333333333333333,
              "#9c179e"
             ],
             [
              0.4444444444444444,
              "#bd3786"
             ],
             [
              0.5555555555555556,
              "#d8576b"
             ],
             [
              0.6666666666666666,
              "#ed7953"
             ],
             [
              0.7777777777777778,
              "#fb9f3a"
             ],
             [
              0.8888888888888888,
              "#fdca26"
             ],
             [
              1,
              "#f0f921"
             ]
            ],
            "type": "contour"
           }
          ],
          "contourcarpet": [
           {
            "colorbar": {
             "outlinewidth": 0,
             "ticks": ""
            },
            "type": "contourcarpet"
           }
          ],
          "heatmap": [
           {
            "colorbar": {
             "outlinewidth": 0,
             "ticks": ""
            },
            "colorscale": [
             [
              0,
              "#0d0887"
             ],
             [
              0.1111111111111111,
              "#46039f"
             ],
             [
              0.2222222222222222,
              "#7201a8"
             ],
             [
              0.3333333333333333,
              "#9c179e"
             ],
             [
              0.4444444444444444,
              "#bd3786"
             ],
             [
              0.5555555555555556,
              "#d8576b"
             ],
             [
              0.6666666666666666,
              "#ed7953"
             ],
             [
              0.7777777777777778,
              "#fb9f3a"
             ],
             [
              0.8888888888888888,
              "#fdca26"
             ],
             [
              1,
              "#f0f921"
             ]
            ],
            "type": "heatmap"
           }
          ],
          "heatmapgl": [
           {
            "colorbar": {
             "outlinewidth": 0,
             "ticks": ""
            },
            "colorscale": [
             [
              0,
              "#0d0887"
             ],
             [
              0.1111111111111111,
              "#46039f"
             ],
             [
              0.2222222222222222,
              "#7201a8"
             ],
             [
              0.3333333333333333,
              "#9c179e"
             ],
             [
              0.4444444444444444,
              "#bd3786"
             ],
             [
              0.5555555555555556,
              "#d8576b"
             ],
             [
              0.6666666666666666,
              "#ed7953"
             ],
             [
              0.7777777777777778,
              "#fb9f3a"
             ],
             [
              0.8888888888888888,
              "#fdca26"
             ],
             [
              1,
              "#f0f921"
             ]
            ],
            "type": "heatmapgl"
           }
          ],
          "histogram": [
           {
            "marker": {
             "pattern": {
              "fillmode": "overlay",
              "size": 10,
              "solidity": 0.2
             }
            },
            "type": "histogram"
           }
          ],
          "histogram2d": [
           {
            "colorbar": {
             "outlinewidth": 0,
             "ticks": ""
            },
            "colorscale": [
             [
              0,
              "#0d0887"
             ],
             [
              0.1111111111111111,
              "#46039f"
             ],
             [
              0.2222222222222222,
              "#7201a8"
             ],
             [
              0.3333333333333333,
              "#9c179e"
             ],
             [
              0.4444444444444444,
              "#bd3786"
             ],
             [
              0.5555555555555556,
              "#d8576b"
             ],
             [
              0.6666666666666666,
              "#ed7953"
             ],
             [
              0.7777777777777778,
              "#fb9f3a"
             ],
             [
              0.8888888888888888,
              "#fdca26"
             ],
             [
              1,
              "#f0f921"
             ]
            ],
            "type": "histogram2d"
           }
          ],
          "histogram2dcontour": [
           {
            "colorbar": {
             "outlinewidth": 0,
             "ticks": ""
            },
            "colorscale": [
             [
              0,
              "#0d0887"
             ],
             [
              0.1111111111111111,
              "#46039f"
             ],
             [
              0.2222222222222222,
              "#7201a8"
             ],
             [
              0.3333333333333333,
              "#9c179e"
             ],
             [
              0.4444444444444444,
              "#bd3786"
             ],
             [
              0.5555555555555556,
              "#d8576b"
             ],
             [
              0.6666666666666666,
              "#ed7953"
             ],
             [
              0.7777777777777778,
              "#fb9f3a"
             ],
             [
              0.8888888888888888,
              "#fdca26"
             ],
             [
              1,
              "#f0f921"
             ]
            ],
            "type": "histogram2dcontour"
           }
          ],
          "mesh3d": [
           {
            "colorbar": {
             "outlinewidth": 0,
             "ticks": ""
            },
            "type": "mesh3d"
           }
          ],
          "parcoords": [
           {
            "line": {
             "colorbar": {
              "outlinewidth": 0,
              "ticks": ""
             }
            },
            "type": "parcoords"
           }
          ],
          "pie": [
           {
            "automargin": true,
            "type": "pie"
           }
          ],
          "scatter": [
           {
            "fillpattern": {
             "fillmode": "overlay",
             "size": 10,
             "solidity": 0.2
            },
            "type": "scatter"
           }
          ],
          "scatter3d": [
           {
            "line": {
             "colorbar": {
              "outlinewidth": 0,
              "ticks": ""
             }
            },
            "marker": {
             "colorbar": {
              "outlinewidth": 0,
              "ticks": ""
             }
            },
            "type": "scatter3d"
           }
          ],
          "scattercarpet": [
           {
            "marker": {
             "colorbar": {
              "outlinewidth": 0,
              "ticks": ""
             }
            },
            "type": "scattercarpet"
           }
          ],
          "scattergeo": [
           {
            "marker": {
             "colorbar": {
              "outlinewidth": 0,
              "ticks": ""
             }
            },
            "type": "scattergeo"
           }
          ],
          "scattergl": [
           {
            "marker": {
             "colorbar": {
              "outlinewidth": 0,
              "ticks": ""
             }
            },
            "type": "scattergl"
           }
          ],
          "scattermapbox": [
           {
            "marker": {
             "colorbar": {
              "outlinewidth": 0,
              "ticks": ""
             }
            },
            "type": "scattermapbox"
           }
          ],
          "scatterpolar": [
           {
            "marker": {
             "colorbar": {
              "outlinewidth": 0,
              "ticks": ""
             }
            },
            "type": "scatterpolar"
           }
          ],
          "scatterpolargl": [
           {
            "marker": {
             "colorbar": {
              "outlinewidth": 0,
              "ticks": ""
             }
            },
            "type": "scatterpolargl"
           }
          ],
          "scatterternary": [
           {
            "marker": {
             "colorbar": {
              "outlinewidth": 0,
              "ticks": ""
             }
            },
            "type": "scatterternary"
           }
          ],
          "surface": [
           {
            "colorbar": {
             "outlinewidth": 0,
             "ticks": ""
            },
            "colorscale": [
             [
              0,
              "#0d0887"
             ],
             [
              0.1111111111111111,
              "#46039f"
             ],
             [
              0.2222222222222222,
              "#7201a8"
             ],
             [
              0.3333333333333333,
              "#9c179e"
             ],
             [
              0.4444444444444444,
              "#bd3786"
             ],
             [
              0.5555555555555556,
              "#d8576b"
             ],
             [
              0.6666666666666666,
              "#ed7953"
             ],
             [
              0.7777777777777778,
              "#fb9f3a"
             ],
             [
              0.8888888888888888,
              "#fdca26"
             ],
             [
              1,
              "#f0f921"
             ]
            ],
            "type": "surface"
           }
          ],
          "table": [
           {
            "cells": {
             "fill": {
              "color": "#EBF0F8"
             },
             "line": {
              "color": "white"
             }
            },
            "header": {
             "fill": {
              "color": "#C8D4E3"
             },
             "line": {
              "color": "white"
             }
            },
            "type": "table"
           }
          ]
         },
         "layout": {
          "annotationdefaults": {
           "arrowcolor": "#2a3f5f",
           "arrowhead": 0,
           "arrowwidth": 1
          },
          "autotypenumbers": "strict",
          "coloraxis": {
           "colorbar": {
            "outlinewidth": 0,
            "ticks": ""
           }
          },
          "colorscale": {
           "diverging": [
            [
             0,
             "#8e0152"
            ],
            [
             0.1,
             "#c51b7d"
            ],
            [
             0.2,
             "#de77ae"
            ],
            [
             0.3,
             "#f1b6da"
            ],
            [
             0.4,
             "#fde0ef"
            ],
            [
             0.5,
             "#f7f7f7"
            ],
            [
             0.6,
             "#e6f5d0"
            ],
            [
             0.7,
             "#b8e186"
            ],
            [
             0.8,
             "#7fbc41"
            ],
            [
             0.9,
             "#4d9221"
            ],
            [
             1,
             "#276419"
            ]
           ],
           "sequential": [
            [
             0,
             "#0d0887"
            ],
            [
             0.1111111111111111,
             "#46039f"
            ],
            [
             0.2222222222222222,
             "#7201a8"
            ],
            [
             0.3333333333333333,
             "#9c179e"
            ],
            [
             0.4444444444444444,
             "#bd3786"
            ],
            [
             0.5555555555555556,
             "#d8576b"
            ],
            [
             0.6666666666666666,
             "#ed7953"
            ],
            [
             0.7777777777777778,
             "#fb9f3a"
            ],
            [
             0.8888888888888888,
             "#fdca26"
            ],
            [
             1,
             "#f0f921"
            ]
           ],
           "sequentialminus": [
            [
             0,
             "#0d0887"
            ],
            [
             0.1111111111111111,
             "#46039f"
            ],
            [
             0.2222222222222222,
             "#7201a8"
            ],
            [
             0.3333333333333333,
             "#9c179e"
            ],
            [
             0.4444444444444444,
             "#bd3786"
            ],
            [
             0.5555555555555556,
             "#d8576b"
            ],
            [
             0.6666666666666666,
             "#ed7953"
            ],
            [
             0.7777777777777778,
             "#fb9f3a"
            ],
            [
             0.8888888888888888,
             "#fdca26"
            ],
            [
             1,
             "#f0f921"
            ]
           ]
          },
          "colorway": [
           "#636efa",
           "#EF553B",
           "#00cc96",
           "#ab63fa",
           "#FFA15A",
           "#19d3f3",
           "#FF6692",
           "#B6E880",
           "#FF97FF",
           "#FECB52"
          ],
          "font": {
           "color": "#2a3f5f"
          },
          "geo": {
           "bgcolor": "white",
           "lakecolor": "white",
           "landcolor": "#E5ECF6",
           "showlakes": true,
           "showland": true,
           "subunitcolor": "white"
          },
          "hoverlabel": {
           "align": "left"
          },
          "hovermode": "closest",
          "mapbox": {
           "style": "light"
          },
          "paper_bgcolor": "white",
          "plot_bgcolor": "#E5ECF6",
          "polar": {
           "angularaxis": {
            "gridcolor": "white",
            "linecolor": "white",
            "ticks": ""
           },
           "bgcolor": "#E5ECF6",
           "radialaxis": {
            "gridcolor": "white",
            "linecolor": "white",
            "ticks": ""
           }
          },
          "scene": {
           "xaxis": {
            "backgroundcolor": "#E5ECF6",
            "gridcolor": "white",
            "gridwidth": 2,
            "linecolor": "white",
            "showbackground": true,
            "ticks": "",
            "zerolinecolor": "white"
           },
           "yaxis": {
            "backgroundcolor": "#E5ECF6",
            "gridcolor": "white",
            "gridwidth": 2,
            "linecolor": "white",
            "showbackground": true,
            "ticks": "",
            "zerolinecolor": "white"
           },
           "zaxis": {
            "backgroundcolor": "#E5ECF6",
            "gridcolor": "white",
            "gridwidth": 2,
            "linecolor": "white",
            "showbackground": true,
            "ticks": "",
            "zerolinecolor": "white"
           }
          },
          "shapedefaults": {
           "line": {
            "color": "#2a3f5f"
           }
          },
          "ternary": {
           "aaxis": {
            "gridcolor": "white",
            "linecolor": "white",
            "ticks": ""
           },
           "baxis": {
            "gridcolor": "white",
            "linecolor": "white",
            "ticks": ""
           },
           "bgcolor": "#E5ECF6",
           "caxis": {
            "gridcolor": "white",
            "linecolor": "white",
            "ticks": ""
           }
          },
          "title": {
           "x": 0.05
          },
          "xaxis": {
           "automargin": true,
           "gridcolor": "white",
           "linecolor": "white",
           "ticks": "",
           "title": {
            "standoff": 15
           },
           "zerolinecolor": "white",
           "zerolinewidth": 2
          },
          "yaxis": {
           "automargin": true,
           "gridcolor": "white",
           "linecolor": "white",
           "ticks": "",
           "title": {
            "standoff": 15
           },
           "zerolinecolor": "white",
           "zerolinewidth": 2
          }
         }
        },
        "xaxis": {
         "autorange": true,
         "range": [
          -0.5,
          9.5
         ],
         "type": "category"
        },
        "yaxis": {
         "autorange": true,
         "range": [
          0,
          38933.68421052631
         ],
         "type": "linear"
        }
       }
      },
      "image/png": "[encoded data removed]",
      "text/html": [
       "<div>                            <div id=\"5a3a62af-56fd-4f07-a28f-1c1e70d260cf\" class=\"plotly-graph-div\" style=\"height:525px; width:100%;\"></div>            <script type=\"text/javascript\">                require([\"plotly\"], function(Plotly) {                    window.PLOTLYENV=window.PLOTLYENV || {};                                    if (document.getElementById(\"5a3a62af-56fd-4f07-a28f-1c1e70d260cf\")) {                    Plotly.newPlot(                        \"5a3a62af-56fd-4f07-a28f-1c1e70d260cf\",                        [{\"x\":[\"\\ud83d\\ude02\",\"\\ud83d\\ude0d\",\"\\u2764\",\"\\ud83d\\udd25\",\"\\ud83d\\ude2d\",\"\\ud83d\\udc4f\",\"\\ud83d\\ude18\",\"\\ud83d\\udc4d\",\"\\ud83d\\udc96\",\"\\ud83d\\udc95\"],\"y\":[36987,33453,31119,8694,8398,5719,5545,5476,5359,5147],\"type\":\"bar\"}],                        {\"template\":{\"data\":{\"barpolar\":[{\"marker\":{\"line\":{\"color\":\"#E5ECF6\",\"width\":0.5},\"pattern\":{\"fillmode\":\"overlay\",\"size\":10,\"solidity\":0.2}},\"type\":\"barpolar\"}],\"bar\":[{\"error_x\":{\"color\":\"#2a3f5f\"},\"error_y\":{\"color\":\"#2a3f5f\"},\"marker\":{\"line\":{\"color\":\"#E5ECF6\",\"width\":0.5},\"pattern\":{\"fillmode\":\"overlay\",\"size\":10,\"solidity\":0.2}},\"type\":\"bar\"}],\"carpet\":[{\"aaxis\":{\"endlinecolor\":\"#2a3f5f\",\"gridcolor\":\"white\",\"linecolor\":\"white\",\"minorgridcolor\":\"white\",\"startlinecolor\":\"#2a3f5f\"},\"baxis\":{\"endlinecolor\":\"#2a3f5f\",\"gridcolor\":\"white\",\"linecolor\":\"white\",\"minorgridcolor\":\"white\",\"startlinecolor\":\"#2a3f5f\"},\"type\":\"carpet\"}],\"choropleth\":[{\"colorbar\":{\"outlinewidth\":0,\"ticks\":\"\"},\"type\":\"choropleth\"}],\"contourcarpet\":[{\"colorbar\":{\"outlinewidth\":0,\"ticks\":\"\"},\"type\":\"contourcarpet\"}],\"contour\":[{\"colorbar\":{\"outlinewidth\":0,\"ticks\":\"\"},\"colorscale\":[[0.0,\"#0d0887\"],[0.1111111111111111,\"#46039f\"],[0.2222222222222222,\"#7201a8\"],[0.3333333333333333,\"#9c179e\"],[0.4444444444444444,\"#bd3786\"],[0.5555555555555556,\"#d8576b\"],[0.6666666666666666,\"#ed7953\"],[0.7777777777777778,\"#fb9f3a\"],[0.8888888888888888,\"#fdca26\"],[1.0,\"#f0f921\"]],\"type\":\"contour\"}],\"heatmapgl\":[{\"colorbar\":{\"outlinewidth\":0,\"ticks\":\"\"},\"colorscale\":[[0.0,\"#0d0887\"],[0.1111111111111111,\"#46039f\"],[0.2222222222222222,\"#7201a8\"],[0.3333333333333333,\"#9c179e\"],[0.4444444444444444,\"#bd3786\"],[0.5555555555555556,\"#d8576b\"],[0.6666666666666666,\"#ed7953\"],[0.7777777777777778,\"#fb9f3a\"],[0.8888888888888888,\"#fdca26\"],[1.0,\"#f0f921\"]],\"type\":\"heatmapgl\"}],\"heatmap\":[{\"colorbar\":{\"outlinewidth\":0,\"ticks\":\"\"},\"colorscale\":[[0.0,\"#0d0887\"],[0.1111111111111111,\"#46039f\"],[0.2222222222222222,\"#7201a8\"],[0.3333333333333333,\"#9c179e\"],[0.4444444444444444,\"#bd3786\"],[0.5555555555555556,\"#d8576b\"],[0.6666666666666666,\"#ed7953\"],[0.7777777777777778,\"#fb9f3a\"],[0.8888888888888888,\"#fdca26\"],[1.0,\"#f0f921\"]],\"type\":\"heatmap\"}],\"histogram2dcontour\":[{\"colorbar\":{\"outlinewidth\":0,\"ticks\":\"\"},\"colorscale\":[[0.0,\"#0d0887\"],[0.1111111111111111,\"#46039f\"],[0.2222222222222222,\"#7201a8\"],[0.3333333333333333,\"#9c179e\"],[0.4444444444444444,\"#bd3786\"],[0.5555555555555556,\"#d8576b\"],[0.6666666666666666,\"#ed7953\"],[0.7777777777777778,\"#fb9f3a\"],[0.8888888888888888,\"#fdca26\"],[1.0,\"#f0f921\"]],\"type\":\"histogram2dcontour\"}],\"histogram2d\":[{\"colorbar\":{\"outlinewidth\":0,\"ticks\":\"\"},\"colorscale\":[[0.0,\"#0d0887\"],[0.1111111111111111,\"#46039f\"],[0.2222222222222222,\"#7201a8\"],[0.3333333333333333,\"#9c179e\"],[0.4444444444444444,\"#bd3786\"],[0.5555555555555556,\"#d8576b\"],[0.6666666666666666,\"#ed7953\"],[0.7777777777777778,\"#fb9f3a\"],[0.8888888888888888,\"#fdca26\"],[1.0,\"#f0f921\"]],\"type\":\"histogram2d\"}],\"histogram\":[{\"marker\":{\"pattern\":{\"fillmode\":\"overlay\",\"size\":10,\"solidity\":0.2}},\"type\":\"histogram\"}],\"mesh3d\":[{\"colorbar\":{\"outlinewidth\":0,\"ticks\":\"\"},\"type\":\"mesh3d\"}],\"parcoords\":[{\"line\":{\"colorbar\":{\"outlinewidth\":0,\"ticks\":\"\"}},\"type\":\"parcoords\"}],\"pie\":[{\"automargin\":true,\"type\":\"pie\"}],\"scatter3d\":[{\"line\":{\"colorbar\":{\"outlinewidth\":0,\"ticks\":\"\"}},\"marker\":{\"colorbar\":{\"outlinewidth\":0,\"ticks\":\"\"}},\"type\":\"scatter3d\"}],\"scattercarpet\":[{\"marker\":{\"colorbar\":{\"outlinewidth\":0,\"ticks\":\"\"}},\"type\":\"scattercarpet\"}],\"scattergeo\":[{\"marker\":{\"colorbar\":{\"outlinewidth\":0,\"ticks\":\"\"}},\"type\":\"scattergeo\"}],\"scattergl\":[{\"marker\":{\"colorbar\":{\"outlinewidth\":0,\"ticks\":\"\"}},\"type\":\"scattergl\"}],\"scattermapbox\":[{\"marker\":{\"colorbar\":{\"outlinewidth\":0,\"ticks\":\"\"}},\"type\":\"scattermapbox\"}],\"scatterpolargl\":[{\"marker\":{\"colorbar\":{\"outlinewidth\":0,\"ticks\":\"\"}},\"type\":\"scatterpolargl\"}],\"scatterpolar\":[{\"marker\":{\"colorbar\":{\"outlinewidth\":0,\"ticks\":\"\"}},\"type\":\"scatterpolar\"}],\"scatter\":[{\"fillpattern\":{\"fillmode\":\"overlay\",\"size\":10,\"solidity\":0.2},\"type\":\"scatter\"}],\"scatterternary\":[{\"marker\":{\"colorbar\":{\"outlinewidth\":0,\"ticks\":\"\"}},\"type\":\"scatterternary\"}],\"surface\":[{\"colorbar\":{\"outlinewidth\":0,\"ticks\":\"\"},\"colorscale\":[[0.0,\"#0d0887\"],[0.1111111111111111,\"#46039f\"],[0.2222222222222222,\"#7201a8\"],[0.3333333333333333,\"#9c179e\"],[0.4444444444444444,\"#bd3786\"],[0.5555555555555556,\"#d8576b\"],[0.6666666666666666,\"#ed7953\"],[0.7777777777777778,\"#fb9f3a\"],[0.8888888888888888,\"#fdca26\"],[1.0,\"#f0f921\"]],\"type\":\"surface\"}],\"table\":[{\"cells\":{\"fill\":{\"color\":\"#EBF0F8\"},\"line\":{\"color\":\"white\"}},\"header\":{\"fill\":{\"color\":\"#C8D4E3\"},\"line\":{\"color\":\"white\"}},\"type\":\"table\"}]},\"layout\":{\"annotationdefaults\":{\"arrowcolor\":\"#2a3f5f\",\"arrowhead\":0,\"arrowwidth\":1},\"autotypenumbers\":\"strict\",\"coloraxis\":{\"colorbar\":{\"outlinewidth\":0,\"ticks\":\"\"}},\"colorscale\":{\"diverging\":[[0,\"#8e0152\"],[0.1,\"#c51b7d\"],[0.2,\"#de77ae\"],[0.3,\"#f1b6da\"],[0.4,\"#fde0ef\"],[0.5,\"#f7f7f7\"],[0.6,\"#e6f5d0\"],[0.7,\"#b8e186\"],[0.8,\"#7fbc41\"],[0.9,\"#4d9221\"],[1,\"#276419\"]],\"sequential\":[[0.0,\"#0d0887\"],[0.1111111111111111,\"#46039f\"],[0.2222222222222222,\"#7201a8\"],[0.3333333333333333,\"#9c179e\"],[0.4444444444444444,\"#bd3786\"],[0.5555555555555556,\"#d8576b\"],[0.6666666666666666,\"#ed7953\"],[0.7777777777777778,\"#fb9f3a\"],[0.8888888888888888,\"#fdca26\"],[1.0,\"#f0f921\"]],\"sequentialminus\":[[0.0,\"#0d0887\"],[0.1111111111111111,\"#46039f\"],[0.2222222222222222,\"#7201a8\"],[0.3333333333333333,\"#9c179e\"],[0.4444444444444444,\"#bd3786\"],[0.5555555555555556,\"#d8576b\"],[0.6666666666666666,\"#ed7953\"],[0.7777777777777778,\"#fb9f3a\"],[0.8888888888888888,\"#fdca26\"],[1.0,\"#f0f921\"]]},\"colorway\":[\"#636efa\",\"#EF553B\",\"#00cc96\",\"#ab63fa\",\"#FFA15A\",\"#19d3f3\",\"#FF6692\",\"#B6E880\",\"#FF97FF\",\"#FECB52\"],\"font\":{\"color\":\"#2a3f5f\"},\"geo\":{\"bgcolor\":\"white\",\"lakecolor\":\"white\",\"landcolor\":\"#E5ECF6\",\"showlakes\":true,\"showland\":true,\"subunitcolor\":\"white\"},\"hoverlabel\":{\"align\":\"left\"},\"hovermode\":\"closest\",\"mapbox\":{\"style\":\"light\"},\"paper_bgcolor\":\"white\",\"plot_bgcolor\":\"#E5ECF6\",\"polar\":{\"angularaxis\":{\"gridcolor\":\"white\",\"linecolor\":\"white\",\"ticks\":\"\"},\"bgcolor\":\"#E5ECF6\",\"radialaxis\":{\"gridcolor\":\"white\",\"linecolor\":\"white\",\"ticks\":\"\"}},\"scene\":{\"xaxis\":{\"backgroundcolor\":\"#E5ECF6\",\"gridcolor\":\"white\",\"gridwidth\":2,\"linecolor\":\"white\",\"showbackground\":true,\"ticks\":\"\",\"zerolinecolor\":\"white\"},\"yaxis\":{\"backgroundcolor\":\"#E5ECF6\",\"gridcolor\":\"white\",\"gridwidth\":2,\"linecolor\":\"white\",\"showbackground\":true,\"ticks\":\"\",\"zerolinecolor\":\"white\"},\"zaxis\":{\"backgroundcolor\":\"#E5ECF6\",\"gridcolor\":\"white\",\"gridwidth\":2,\"linecolor\":\"white\",\"showbackground\":true,\"ticks\":\"\",\"zerolinecolor\":\"white\"}},\"shapedefaults\":{\"line\":{\"color\":\"#2a3f5f\"}},\"ternary\":{\"aaxis\":{\"gridcolor\":\"white\",\"linecolor\":\"white\",\"ticks\":\"\"},\"baxis\":{\"gridcolor\":\"white\",\"linecolor\":\"white\",\"ticks\":\"\"},\"bgcolor\":\"#E5ECF6\",\"caxis\":{\"gridcolor\":\"white\",\"linecolor\":\"white\",\"ticks\":\"\"}},\"title\":{\"x\":0.05},\"xaxis\":{\"automargin\":true,\"gridcolor\":\"white\",\"linecolor\":\"white\",\"ticks\":\"\",\"title\":{\"standoff\":15},\"zerolinecolor\":\"white\",\"zerolinewidth\":2},\"yaxis\":{\"automargin\":true,\"gridcolor\":\"white\",\"linecolor\":\"white\",\"ticks\":\"\",\"title\":{\"standoff\":15},\"zerolinecolor\":\"white\",\"zerolinewidth\":2}}}},                        {\"responsive\": true}                    ).then(function(){\n",
       "                            \n",
       "var gd = document.getElementById('5a3a62af-56fd-4f07-a28f-1c1e70d260cf');\n",
       "var x = new MutationObserver(function (mutations, observer) {{\n",
       "        var display = window.getComputedStyle(gd).display;\n",
       "        if (!display || display === 'none') {{\n",
       "            console.log([gd, 'removed!']);\n",
       "            Plotly.purge(gd);\n",
       "            observer.disconnect();\n",
       "        }}\n",
       "}});\n",
       "\n",
       "// Listen for the removal of the full notebook cells\n",
       "var notebookContainer = gd.closest('#notebook-container');\n",
       "if (notebookContainer) {{\n",
       "    x.observe(notebookContainer, {childList: true});\n",
       "}}\n",
       "\n",
       "// Listen for the clearing of the current output cell\n",
       "var outputEl = gd.closest('.output');\n",
       "if (outputEl) {{\n",
       "    x.observe(outputEl, {childList: true});\n",
       "}}\n",
       "\n",
       "                        })                };                });            </script>        </div>"
      ]
     },
     "metadata": {},
     "output_type": "display_data"
    }
   ],
   "source": [
    "import plotly.graph_objs as go\n",
    "from plotly.offline import iplot\n",
    "chart = go.Bar(x = total_emoji,y=total_count)\n",
    "iplot([chart])"
   ]
  },
  {
   "cell_type": "code",
   "execution_count": 155,
   "id": "370f945e-0230-4f19-9af2-bbd7ead8033a",
   "metadata": {},
   "outputs": [],
   "source": [
    "import os\n",
    "files= os.listdir()\n"
   ]
  },
  {
   "cell_type": "code",
   "execution_count": 157,
   "id": "40b9264b-0720-4d3b-9ca3-99ebb465791d",
   "metadata": {},
   "outputs": [
    {
     "data": {
      "text/plain": [
       "['MXvideos.csv',\n",
       " 'INvideos.csv',\n",
       " 'DEvideos.csv',\n",
       " 'JPvideos.csv',\n",
       " 'KRvideos.csv',\n",
       " 'CAvideos.csv',\n",
       " 'RUvideos.csv',\n",
       " 'FRvideos.csv',\n",
       " 'USvideos.csv',\n",
       " 'GBvideos.csv',\n",
       " 'UScomments.csv']"
      ]
     },
     "execution_count": 157,
     "metadata": {},
     "output_type": "execute_result"
    }
   ],
   "source": [
    "csv_files = [file for file in files if '.csv' in file]\n",
    "csv_files"
   ]
  },
  {
   "cell_type": "code",
   "execution_count": 159,
   "id": "e9dda413-c8e9-4846-a01a-6fad8f190dd5",
   "metadata": {},
   "outputs": [],
   "source": [
    "import warnings\n",
    "from warnings import filterwarnings\n",
    "filterwarnings('ignore')"
   ]
  },
  {
   "cell_type": "code",
   "execution_count": 161,
   "id": "24c4e0a9-b79a-4b87-a622-f4133d6bac60",
   "metadata": {},
   "outputs": [
    {
     "name": "stdout",
     "output_type": "stream",
     "text": [
      "            video_id trending_date  \\\n",
      "0        SbOwzAl9ZfQ      17.14.11   \n",
      "1        klOV6Xh-DnI      17.14.11   \n",
      "2        6L2ZF7Qzsbk      17.14.11   \n",
      "3        hcY52MFWMDM      17.14.11   \n",
      "4        _OXDcGPVAa4      17.14.11   \n",
      "...              ...           ...   \n",
      "1067337  EoejGgUNmVU           NaN   \n",
      "1067338  EoejGgUNmVU           NaN   \n",
      "1067339  EoejGgUNmVU           NaN   \n",
      "1067340  EoejGgUNmVU           NaN   \n",
      "1067341  EoejGgUNmVU           NaN   \n",
      "\n",
      "                                                     title  \\\n",
      "0                           CapÃ­tulo 12 | MasterChef 2017   \n",
      "1        ALEXA EX-INTEGRANTE DEL GRUPO TIMBIRICHE RENUN...   \n",
      "2                 LOUIS CKAGÃ - EL PULSO DE LA REPÃBLICA   \n",
      "3         Sismo de 6.7 sacude Costa Rica 12 Noviembre 2017   \n",
      "4                 DOG HACKS | MUSAS LESSLIE LOS POLINESIOS   \n",
      "...                                                    ...   \n",
      "1067337                                                NaN   \n",
      "1067338                                                NaN   \n",
      "1067339                                                NaN   \n",
      "1067340                                                NaN   \n",
      "1067341                                                NaN   \n",
      "\n",
      "                     channel_title  category_id              publish_time  \\\n",
      "0                  MasterChef 2017         24.0  2017-11-13T06:06:22.000Z   \n",
      "1         Micky Contreras Martinez         22.0  2017-11-13T05:11:58.000Z   \n",
      "2        El Pulso De La RepÃºblica         25.0  2017-11-13T17:00:02.000Z   \n",
      "3                         Casanare         25.0  2017-11-13T03:47:10.000Z   \n",
      "4                            Musas         26.0  2017-11-13T19:17:48.000Z   \n",
      "...                            ...          ...                       ...   \n",
      "1067337                        NaN          NaN                       NaN   \n",
      "1067338                        NaN          NaN                       NaN   \n",
      "1067339                        NaN          NaN                       NaN   \n",
      "1067340                        NaN          NaN                       NaN   \n",
      "1067341                        NaN          NaN                       NaN   \n",
      "\n",
      "                                                      tags     views  likes  \\\n",
      "0        MasterChef Junior 2017|\"TV Azteca\"|\"recetas\"|\"...  310130.0   4182   \n",
      "1                                          La Voz Mexico 7  104972.0    271   \n",
      "2        Chumel Torres|\"El Pulso de la Republica\"|\"noti...  136064.0  10105   \n",
      "3               temblor|\"costa rica\"|\"sismo en costa rica\"   96153.0    378   \n",
      "4        MUSAS|\"lesslie\"|\"karen\"|\"hacks\"|\"perros\"|\"dogs...  499965.0  57781   \n",
      "...                                                    ...       ...    ...   \n",
      "1067337                                                NaN       NaN      1   \n",
      "1067338                                                NaN       NaN      0   \n",
      "1067339                                                NaN       NaN      0   \n",
      "1067340                                                NaN       NaN      0   \n",
      "1067341                                                NaN       NaN      0   \n",
      "\n",
      "         dislikes  comment_count  \\\n",
      "0           361.0         1836.0   \n",
      "1           174.0          369.0   \n",
      "2           266.0          607.0   \n",
      "3           171.0          208.0   \n",
      "4           681.0         7428.0   \n",
      "...           ...            ...   \n",
      "1067337       NaN            NaN   \n",
      "1067338       NaN            NaN   \n",
      "1067339       NaN            NaN   \n",
      "1067340       NaN            NaN   \n",
      "1067341       NaN            NaN   \n",
      "\n",
      "                                         thumbnail_link comments_disabled  \\\n",
      "0        https://i.ytimg.com/vi/SbOwzAl9ZfQ/default.jpg             False   \n",
      "1        https://i.ytimg.com/vi/klOV6Xh-DnI/default.jpg             False   \n",
      "2        https://i.ytimg.com/vi/6L2ZF7Qzsbk/default.jpg             False   \n",
      "3        https://i.ytimg.com/vi/hcY52MFWMDM/default.jpg             False   \n",
      "4        https://i.ytimg.com/vi/_OXDcGPVAa4/default.jpg             False   \n",
      "...                                                 ...               ...   \n",
      "1067337                                             NaN               NaN   \n",
      "1067338                                             NaN               NaN   \n",
      "1067339                                             NaN               NaN   \n",
      "1067340                                             NaN               NaN   \n",
      "1067341                                             NaN               NaN   \n",
      "\n",
      "        ratings_disabled video_error_or_removed  \\\n",
      "0                  False                  False   \n",
      "1                  False                  False   \n",
      "2                  False                  False   \n",
      "3                  False                  False   \n",
      "4                  False                  False   \n",
      "...                  ...                    ...   \n",
      "1067337              NaN                    NaN   \n",
      "1067338              NaN                    NaN   \n",
      "1067339              NaN                    NaN   \n",
      "1067340              NaN                    NaN   \n",
      "1067341              NaN                    NaN   \n",
      "\n",
      "                                               description  \\\n",
      "0        Disfruta la presencia del Chef Torreblanca en ...   \n",
      "1        ALEXA EX-INTEGRANTE DEL GRUPO TIMBIRICHE RENUN...   \n",
      "2        La canciÃ³n del principio se llama âEste esp...   \n",
      "3        El video es de un Walmart en el pais centroame...   \n",
      "4        MI HERMANO NARRA MI RUTINA DE MAQUILLAJE\\nhttp...   \n",
      "...                                                    ...   \n",
      "1067337                                                NaN   \n",
      "1067338                                                NaN   \n",
      "1067339                                                NaN   \n",
      "1067340                                                NaN   \n",
      "1067341                                                NaN   \n",
      "\n",
      "                                              comment_text replies  \n",
      "0                                                      NaN     NaN  \n",
      "1                                                      NaN     NaN  \n",
      "2                                                      NaN     NaN  \n",
      "3                                                      NaN     NaN  \n",
      "4                                                      NaN     NaN  \n",
      "...                                                    ...     ...  \n",
      "1067337                                       ÐÑÑÑÐ°Ñ       0  \n",
      "1067338  qu'est ce que j'aimerais que tu viennes Ã  Roa...       0  \n",
      "1067339                       Ven a mexico! ð te amo LP       0  \n",
      "1067340                                 IslÄ±ÄÄ± yeter...       0  \n",
      "1067341  Kocham tÄ",
      " piosenkÄðâ¤â¤â¤byÅam zakoch...       0  \n",
      "\n",
      "[1067342 rows x 18 columns]\n"
     ]
    }
   ],
   "source": [
    "import pandas as pd\n",
    "import glob\n",
    "\n",
    "# List all CSV files in the current directory\n",
    "csv_files = glob.glob(\"*.csv\")\n",
    "\n",
    "# Read and concatenate all CSV files, skipping bad lines\n",
    "df = pd.concat((pd.read_csv(file, encoding='ISO-8859-1', on_bad_lines='skip') for file in csv_files), ignore_index=True)\n",
    "\n",
    "# Display the resulting DataFrame\n",
    "print(df)\n",
    "\n"
   ]
  },
  {
   "cell_type": "code",
   "execution_count": 162,
   "id": "b0509a8a-1941-423e-b098-35996673ec69",
   "metadata": {},
   "outputs": [
    {
     "data": {
      "text/plain": [
       "(1067342, 18)"
      ]
     },
     "execution_count": 162,
     "metadata": {},
     "output_type": "execute_result"
    }
   ],
   "source": [
    "df.shape"
   ]
  },
  {
   "cell_type": "code",
   "execution_count": 163,
   "id": "1759f2a3-e981-41b6-9973-629ca03c6631",
   "metadata": {},
   "outputs": [
    {
     "data": {
      "text/plain": [
       "(249110, 18)"
      ]
     },
     "execution_count": 163,
     "metadata": {},
     "output_type": "execute_result"
    }
   ],
   "source": [
    "df[df.duplicated()].shape"
   ]
  },
  {
   "cell_type": "code",
   "execution_count": 164,
   "id": "51eb1dfe-95b3-4942-9e77-bbecf6b63031",
   "metadata": {},
   "outputs": [
    {
     "data": {
      "text/plain": [
       "(818232, 18)"
      ]
     },
     "execution_count": 164,
     "metadata": {},
     "output_type": "execute_result"
    }
   ],
   "source": [
    "df = df.drop_duplicates()\n",
    "df.shape"
   ]
  },
  {
   "cell_type": "code",
   "execution_count": 165,
   "id": "e6a84d61-4819-4b58-baa1-7dd8be7cbb9b",
   "metadata": {},
   "outputs": [],
   "source": [
    "df[0:1000].to_csv(r'/Users/sheronroy/Desktop/additional_data.csv', index = False)"
   ]
  },
  {
   "cell_type": "code",
   "execution_count": 168,
   "id": "c317c72f-9622-4f9a-abe7-c88bbd71952e",
   "metadata": {},
   "outputs": [],
   "source": [
    "df[0:1000].to_json(r'/Users/sheronroy/Desktop/additional_data.json')"
   ]
  },
  {
   "cell_type": "code",
   "execution_count": 170,
   "id": "d6e7a9fa-daba-4d4c-abb2-54d85920c995",
   "metadata": {},
   "outputs": [],
   "source": [
    "from sqlalchemy import create_engine\n",
    "engine = create_engine('sqlite:////Users/sheronroy/Desktop/additional_data.sqlite')"
   ]
  },
  {
   "cell_type": "code",
   "execution_count": 175,
   "id": "6ee6a798-45a4-4d53-b7d2-6eb4f143cda2",
   "metadata": {},
   "outputs": [
    {
     "data": {
      "text/plain": [
       "1000"
      ]
     },
     "execution_count": 175,
     "metadata": {},
     "output_type": "execute_result"
    }
   ],
   "source": [
    "df[0:1000].to_sql('Users', con = engine, if_exists = 'append')"
   ]
  },
  {
   "cell_type": "code",
   "execution_count": 177,
   "id": "d122c2d8-583f-46b3-aa0c-d8afe78caa50",
   "metadata": {},
   "outputs": [
    {
     "data": {
      "text/html": [
       "<div>\n",
       "<style scoped>\n",
       "    .dataframe tbody tr th:only-of-type {\n",
       "        vertical-align: middle;\n",
       "    }\n",
       "\n",
       "    .dataframe tbody tr th {\n",
       "        vertical-align: top;\n",
       "    }\n",
       "\n",
       "    .dataframe thead th {\n",
       "        text-align: right;\n",
       "    }\n",
       "</style>\n",
       "<table border=\"1\" class=\"dataframe\">\n",
       "  <thead>\n",
       "    <tr style=\"text-align: right;\">\n",
       "      <th></th>\n",
       "      <th>video_id</th>\n",
       "      <th>trending_date</th>\n",
       "      <th>title</th>\n",
       "      <th>channel_title</th>\n",
       "      <th>category_id</th>\n",
       "      <th>publish_time</th>\n",
       "      <th>tags</th>\n",
       "      <th>views</th>\n",
       "      <th>likes</th>\n",
       "      <th>dislikes</th>\n",
       "      <th>comment_count</th>\n",
       "      <th>thumbnail_link</th>\n",
       "      <th>comments_disabled</th>\n",
       "      <th>ratings_disabled</th>\n",
       "      <th>video_error_or_removed</th>\n",
       "      <th>description</th>\n",
       "      <th>comment_text</th>\n",
       "      <th>replies</th>\n",
       "    </tr>\n",
       "  </thead>\n",
       "  <tbody>\n",
       "    <tr>\n",
       "      <th>0</th>\n",
       "      <td>SbOwzAl9ZfQ</td>\n",
       "      <td>17.14.11</td>\n",
       "      <td>CapÃ­tulo 12 | MasterChef 2017</td>\n",
       "      <td>MasterChef 2017</td>\n",
       "      <td>24.0</td>\n",
       "      <td>2017-11-13T06:06:22.000Z</td>\n",
       "      <td>MasterChef Junior 2017|\"TV Azteca\"|\"recetas\"|\"...</td>\n",
       "      <td>310130.0</td>\n",
       "      <td>4182</td>\n",
       "      <td>361.0</td>\n",
       "      <td>1836.0</td>\n",
       "      <td>https://i.ytimg.com/vi/SbOwzAl9ZfQ/default.jpg</td>\n",
       "      <td>False</td>\n",
       "      <td>False</td>\n",
       "      <td>False</td>\n",
       "      <td>Disfruta la presencia del Chef Torreblanca en ...</td>\n",
       "      <td>NaN</td>\n",
       "      <td>NaN</td>\n",
       "    </tr>\n",
       "    <tr>\n",
       "      <th>1</th>\n",
       "      <td>klOV6Xh-DnI</td>\n",
       "      <td>17.14.11</td>\n",
       "      <td>ALEXA EX-INTEGRANTE DEL GRUPO TIMBIRICHE RENUN...</td>\n",
       "      <td>Micky Contreras Martinez</td>\n",
       "      <td>22.0</td>\n",
       "      <td>2017-11-13T05:11:58.000Z</td>\n",
       "      <td>La Voz Mexico 7</td>\n",
       "      <td>104972.0</td>\n",
       "      <td>271</td>\n",
       "      <td>174.0</td>\n",
       "      <td>369.0</td>\n",
       "      <td>https://i.ytimg.com/vi/klOV6Xh-DnI/default.jpg</td>\n",
       "      <td>False</td>\n",
       "      <td>False</td>\n",
       "      <td>False</td>\n",
       "      <td>ALEXA EX-INTEGRANTE DEL GRUPO TIMBIRICHE RENUN...</td>\n",
       "      <td>NaN</td>\n",
       "      <td>NaN</td>\n",
       "    </tr>\n",
       "    <tr>\n",
       "      <th>2</th>\n",
       "      <td>6L2ZF7Qzsbk</td>\n",
       "      <td>17.14.11</td>\n",
       "      <td>LOUIS CKAGÃ - EL PULSO DE LA REPÃBLICA</td>\n",
       "      <td>El Pulso De La RepÃºblica</td>\n",
       "      <td>25.0</td>\n",
       "      <td>2017-11-13T17:00:02.000Z</td>\n",
       "      <td>Chumel Torres|\"El Pulso de la Republica\"|\"noti...</td>\n",
       "      <td>136064.0</td>\n",
       "      <td>10105</td>\n",
       "      <td>266.0</td>\n",
       "      <td>607.0</td>\n",
       "      <td>https://i.ytimg.com/vi/6L2ZF7Qzsbk/default.jpg</td>\n",
       "      <td>False</td>\n",
       "      <td>False</td>\n",
       "      <td>False</td>\n",
       "      <td>La canciÃ³n del principio se llama âEste esp...</td>\n",
       "      <td>NaN</td>\n",
       "      <td>NaN</td>\n",
       "    </tr>\n",
       "    <tr>\n",
       "      <th>3</th>\n",
       "      <td>hcY52MFWMDM</td>\n",
       "      <td>17.14.11</td>\n",
       "      <td>Sismo de 6.7 sacude Costa Rica 12 Noviembre 2017</td>\n",
       "      <td>Casanare</td>\n",
       "      <td>25.0</td>\n",
       "      <td>2017-11-13T03:47:10.000Z</td>\n",
       "      <td>temblor|\"costa rica\"|\"sismo en costa rica\"</td>\n",
       "      <td>96153.0</td>\n",
       "      <td>378</td>\n",
       "      <td>171.0</td>\n",
       "      <td>208.0</td>\n",
       "      <td>https://i.ytimg.com/vi/hcY52MFWMDM/default.jpg</td>\n",
       "      <td>False</td>\n",
       "      <td>False</td>\n",
       "      <td>False</td>\n",
       "      <td>El video es de un Walmart en el pais centroame...</td>\n",
       "      <td>NaN</td>\n",
       "      <td>NaN</td>\n",
       "    </tr>\n",
       "    <tr>\n",
       "      <th>4</th>\n",
       "      <td>_OXDcGPVAa4</td>\n",
       "      <td>17.14.11</td>\n",
       "      <td>DOG HACKS | MUSAS LESSLIE LOS POLINESIOS</td>\n",
       "      <td>Musas</td>\n",
       "      <td>26.0</td>\n",
       "      <td>2017-11-13T19:17:48.000Z</td>\n",
       "      <td>MUSAS|\"lesslie\"|\"karen\"|\"hacks\"|\"perros\"|\"dogs...</td>\n",
       "      <td>499965.0</td>\n",
       "      <td>57781</td>\n",
       "      <td>681.0</td>\n",
       "      <td>7428.0</td>\n",
       "      <td>https://i.ytimg.com/vi/_OXDcGPVAa4/default.jpg</td>\n",
       "      <td>False</td>\n",
       "      <td>False</td>\n",
       "      <td>False</td>\n",
       "      <td>MI HERMANO NARRA MI RUTINA DE MAQUILLAJE\\nhttp...</td>\n",
       "      <td>NaN</td>\n",
       "      <td>NaN</td>\n",
       "    </tr>\n",
       "  </tbody>\n",
       "</table>\n",
       "</div>"
      ],
      "text/plain": [
       "      video_id trending_date  \\\n",
       "0  SbOwzAl9ZfQ      17.14.11   \n",
       "1  klOV6Xh-DnI      17.14.11   \n",
       "2  6L2ZF7Qzsbk      17.14.11   \n",
       "3  hcY52MFWMDM      17.14.11   \n",
       "4  _OXDcGPVAa4      17.14.11   \n",
       "\n",
       "                                               title  \\\n",
       "0                     CapÃ­tulo 12 | MasterChef 2017   \n",
       "1  ALEXA EX-INTEGRANTE DEL GRUPO TIMBIRICHE RENUN...   \n",
       "2           LOUIS CKAGÃ - EL PULSO DE LA REPÃBLICA   \n",
       "3   Sismo de 6.7 sacude Costa Rica 12 Noviembre 2017   \n",
       "4           DOG HACKS | MUSAS LESSLIE LOS POLINESIOS   \n",
       "\n",
       "               channel_title  category_id              publish_time  \\\n",
       "0            MasterChef 2017         24.0  2017-11-13T06:06:22.000Z   \n",
       "1   Micky Contreras Martinez         22.0  2017-11-13T05:11:58.000Z   \n",
       "2  El Pulso De La RepÃºblica         25.0  2017-11-13T17:00:02.000Z   \n",
       "3                   Casanare         25.0  2017-11-13T03:47:10.000Z   \n",
       "4                      Musas         26.0  2017-11-13T19:17:48.000Z   \n",
       "\n",
       "                                                tags     views  likes  \\\n",
       "0  MasterChef Junior 2017|\"TV Azteca\"|\"recetas\"|\"...  310130.0   4182   \n",
       "1                                    La Voz Mexico 7  104972.0    271   \n",
       "2  Chumel Torres|\"El Pulso de la Republica\"|\"noti...  136064.0  10105   \n",
       "3         temblor|\"costa rica\"|\"sismo en costa rica\"   96153.0    378   \n",
       "4  MUSAS|\"lesslie\"|\"karen\"|\"hacks\"|\"perros\"|\"dogs...  499965.0  57781   \n",
       "\n",
       "   dislikes  comment_count                                  thumbnail_link  \\\n",
       "0     361.0         1836.0  https://i.ytimg.com/vi/SbOwzAl9ZfQ/default.jpg   \n",
       "1     174.0          369.0  https://i.ytimg.com/vi/klOV6Xh-DnI/default.jpg   \n",
       "2     266.0          607.0  https://i.ytimg.com/vi/6L2ZF7Qzsbk/default.jpg   \n",
       "3     171.0          208.0  https://i.ytimg.com/vi/hcY52MFWMDM/default.jpg   \n",
       "4     681.0         7428.0  https://i.ytimg.com/vi/_OXDcGPVAa4/default.jpg   \n",
       "\n",
       "  comments_disabled ratings_disabled video_error_or_removed  \\\n",
       "0             False            False                  False   \n",
       "1             False            False                  False   \n",
       "2             False            False                  False   \n",
       "3             False            False                  False   \n",
       "4             False            False                  False   \n",
       "\n",
       "                                         description comment_text replies  \n",
       "0  Disfruta la presencia del Chef Torreblanca en ...          NaN     NaN  \n",
       "1  ALEXA EX-INTEGRANTE DEL GRUPO TIMBIRICHE RENUN...          NaN     NaN  \n",
       "2  La canciÃ³n del principio se llama âEste esp...          NaN     NaN  \n",
       "3  El video es de un Walmart en el pais centroame...          NaN     NaN  \n",
       "4  MI HERMANO NARRA MI RUTINA DE MAQUILLAJE\\nhttp...          NaN     NaN  "
      ]
     },
     "execution_count": 177,
     "metadata": {},
     "output_type": "execute_result"
    }
   ],
   "source": [
    "df.head(5)"
   ]
  },
  {
   "cell_type": "code",
   "execution_count": 179,
   "id": "8c76ac7a-61f7-4738-a726-5a2ae974fdeb",
   "metadata": {},
   "outputs": [
    {
     "data": {
      "text/plain": [
       "array([24., 22., 25., 26., 10., 23., 17.,  2.,  1., 29., 27., 28., 20.,\n",
       "       15., 19., 43., 30., 44., nan])"
      ]
     },
     "execution_count": 179,
     "metadata": {},
     "output_type": "execute_result"
    }
   ],
   "source": [
    "df['category_id'].unique()"
   ]
  },
  {
   "cell_type": "code",
   "execution_count": 181,
   "id": "95c58cd1-2992-4b79-92c6-7400e5640405",
   "metadata": {},
   "outputs": [
    {
     "data": {
      "text/html": [
       "<div>\n",
       "<style scoped>\n",
       "    .dataframe tbody tr th:only-of-type {\n",
       "        vertical-align: middle;\n",
       "    }\n",
       "\n",
       "    .dataframe tbody tr th {\n",
       "        vertical-align: top;\n",
       "    }\n",
       "\n",
       "    .dataframe thead th {\n",
       "        text-align: right;\n",
       "    }\n",
       "</style>\n",
       "<table border=\"1\" class=\"dataframe\">\n",
       "  <thead>\n",
       "    <tr style=\"text-align: right;\">\n",
       "      <th></th>\n",
       "      <th>kind</th>\n",
       "      <th>etag</th>\n",
       "      <th>items</th>\n",
       "    </tr>\n",
       "  </thead>\n",
       "  <tbody>\n",
       "    <tr>\n",
       "      <th>0</th>\n",
       "      <td>youtube#videoCategoryListResponse</td>\n",
       "      <td>\"m2yskBQFythfE4irbTIeOgYYfBU/S730Ilt-Fi-emsQJv...</td>\n",
       "      <td>{'kind': 'youtube#videoCategory', 'etag': '\"m2...</td>\n",
       "    </tr>\n",
       "    <tr>\n",
       "      <th>1</th>\n",
       "      <td>youtube#videoCategoryListResponse</td>\n",
       "      <td>\"m2yskBQFythfE4irbTIeOgYYfBU/S730Ilt-Fi-emsQJv...</td>\n",
       "      <td>{'kind': 'youtube#videoCategory', 'etag': '\"m2...</td>\n",
       "    </tr>\n",
       "    <tr>\n",
       "      <th>2</th>\n",
       "      <td>youtube#videoCategoryListResponse</td>\n",
       "      <td>\"m2yskBQFythfE4irbTIeOgYYfBU/S730Ilt-Fi-emsQJv...</td>\n",
       "      <td>{'kind': 'youtube#videoCategory', 'etag': '\"m2...</td>\n",
       "    </tr>\n",
       "    <tr>\n",
       "      <th>3</th>\n",
       "      <td>youtube#videoCategoryListResponse</td>\n",
       "      <td>\"m2yskBQFythfE4irbTIeOgYYfBU/S730Ilt-Fi-emsQJv...</td>\n",
       "      <td>{'kind': 'youtube#videoCategory', 'etag': '\"m2...</td>\n",
       "    </tr>\n",
       "    <tr>\n",
       "      <th>4</th>\n",
       "      <td>youtube#videoCategoryListResponse</td>\n",
       "      <td>\"m2yskBQFythfE4irbTIeOgYYfBU/S730Ilt-Fi-emsQJv...</td>\n",
       "      <td>{'kind': 'youtube#videoCategory', 'etag': '\"m2...</td>\n",
       "    </tr>\n",
       "    <tr>\n",
       "      <th>5</th>\n",
       "      <td>youtube#videoCategoryListResponse</td>\n",
       "      <td>\"m2yskBQFythfE4irbTIeOgYYfBU/S730Ilt-Fi-emsQJv...</td>\n",
       "      <td>{'kind': 'youtube#videoCategory', 'etag': '\"m2...</td>\n",
       "    </tr>\n",
       "    <tr>\n",
       "      <th>6</th>\n",
       "      <td>youtube#videoCategoryListResponse</td>\n",
       "      <td>\"m2yskBQFythfE4irbTIeOgYYfBU/S730Ilt-Fi-emsQJv...</td>\n",
       "      <td>{'kind': 'youtube#videoCategory', 'etag': '\"m2...</td>\n",
       "    </tr>\n",
       "    <tr>\n",
       "      <th>7</th>\n",
       "      <td>youtube#videoCategoryListResponse</td>\n",
       "      <td>\"m2yskBQFythfE4irbTIeOgYYfBU/S730Ilt-Fi-emsQJv...</td>\n",
       "      <td>{'kind': 'youtube#videoCategory', 'etag': '\"m2...</td>\n",
       "    </tr>\n",
       "    <tr>\n",
       "      <th>8</th>\n",
       "      <td>youtube#videoCategoryListResponse</td>\n",
       "      <td>\"m2yskBQFythfE4irbTIeOgYYfBU/S730Ilt-Fi-emsQJv...</td>\n",
       "      <td>{'kind': 'youtube#videoCategory', 'etag': '\"m2...</td>\n",
       "    </tr>\n",
       "    <tr>\n",
       "      <th>9</th>\n",
       "      <td>youtube#videoCategoryListResponse</td>\n",
       "      <td>\"m2yskBQFythfE4irbTIeOgYYfBU/S730Ilt-Fi-emsQJv...</td>\n",
       "      <td>{'kind': 'youtube#videoCategory', 'etag': '\"m2...</td>\n",
       "    </tr>\n",
       "    <tr>\n",
       "      <th>10</th>\n",
       "      <td>youtube#videoCategoryListResponse</td>\n",
       "      <td>\"m2yskBQFythfE4irbTIeOgYYfBU/S730Ilt-Fi-emsQJv...</td>\n",
       "      <td>{'kind': 'youtube#videoCategory', 'etag': '\"m2...</td>\n",
       "    </tr>\n",
       "    <tr>\n",
       "      <th>11</th>\n",
       "      <td>youtube#videoCategoryListResponse</td>\n",
       "      <td>\"m2yskBQFythfE4irbTIeOgYYfBU/S730Ilt-Fi-emsQJv...</td>\n",
       "      <td>{'kind': 'youtube#videoCategory', 'etag': '\"m2...</td>\n",
       "    </tr>\n",
       "    <tr>\n",
       "      <th>12</th>\n",
       "      <td>youtube#videoCategoryListResponse</td>\n",
       "      <td>\"m2yskBQFythfE4irbTIeOgYYfBU/S730Ilt-Fi-emsQJv...</td>\n",
       "      <td>{'kind': 'youtube#videoCategory', 'etag': '\"m2...</td>\n",
       "    </tr>\n",
       "    <tr>\n",
       "      <th>13</th>\n",
       "      <td>youtube#videoCategoryListResponse</td>\n",
       "      <td>\"m2yskBQFythfE4irbTIeOgYYfBU/S730Ilt-Fi-emsQJv...</td>\n",
       "      <td>{'kind': 'youtube#videoCategory', 'etag': '\"m2...</td>\n",
       "    </tr>\n",
       "    <tr>\n",
       "      <th>14</th>\n",
       "      <td>youtube#videoCategoryListResponse</td>\n",
       "      <td>\"m2yskBQFythfE4irbTIeOgYYfBU/S730Ilt-Fi-emsQJv...</td>\n",
       "      <td>{'kind': 'youtube#videoCategory', 'etag': '\"m2...</td>\n",
       "    </tr>\n",
       "    <tr>\n",
       "      <th>15</th>\n",
       "      <td>youtube#videoCategoryListResponse</td>\n",
       "      <td>\"m2yskBQFythfE4irbTIeOgYYfBU/S730Ilt-Fi-emsQJv...</td>\n",
       "      <td>{'kind': 'youtube#videoCategory', 'etag': '\"m2...</td>\n",
       "    </tr>\n",
       "    <tr>\n",
       "      <th>16</th>\n",
       "      <td>youtube#videoCategoryListResponse</td>\n",
       "      <td>\"m2yskBQFythfE4irbTIeOgYYfBU/S730Ilt-Fi-emsQJv...</td>\n",
       "      <td>{'kind': 'youtube#videoCategory', 'etag': '\"m2...</td>\n",
       "    </tr>\n",
       "    <tr>\n",
       "      <th>17</th>\n",
       "      <td>youtube#videoCategoryListResponse</td>\n",
       "      <td>\"m2yskBQFythfE4irbTIeOgYYfBU/S730Ilt-Fi-emsQJv...</td>\n",
       "      <td>{'kind': 'youtube#videoCategory', 'etag': '\"m2...</td>\n",
       "    </tr>\n",
       "    <tr>\n",
       "      <th>18</th>\n",
       "      <td>youtube#videoCategoryListResponse</td>\n",
       "      <td>\"m2yskBQFythfE4irbTIeOgYYfBU/S730Ilt-Fi-emsQJv...</td>\n",
       "      <td>{'kind': 'youtube#videoCategory', 'etag': '\"m2...</td>\n",
       "    </tr>\n",
       "    <tr>\n",
       "      <th>19</th>\n",
       "      <td>youtube#videoCategoryListResponse</td>\n",
       "      <td>\"m2yskBQFythfE4irbTIeOgYYfBU/S730Ilt-Fi-emsQJv...</td>\n",
       "      <td>{'kind': 'youtube#videoCategory', 'etag': '\"m2...</td>\n",
       "    </tr>\n",
       "    <tr>\n",
       "      <th>20</th>\n",
       "      <td>youtube#videoCategoryListResponse</td>\n",
       "      <td>\"m2yskBQFythfE4irbTIeOgYYfBU/S730Ilt-Fi-emsQJv...</td>\n",
       "      <td>{'kind': 'youtube#videoCategory', 'etag': '\"m2...</td>\n",
       "    </tr>\n",
       "    <tr>\n",
       "      <th>21</th>\n",
       "      <td>youtube#videoCategoryListResponse</td>\n",
       "      <td>\"m2yskBQFythfE4irbTIeOgYYfBU/S730Ilt-Fi-emsQJv...</td>\n",
       "      <td>{'kind': 'youtube#videoCategory', 'etag': '\"m2...</td>\n",
       "    </tr>\n",
       "    <tr>\n",
       "      <th>22</th>\n",
       "      <td>youtube#videoCategoryListResponse</td>\n",
       "      <td>\"m2yskBQFythfE4irbTIeOgYYfBU/S730Ilt-Fi-emsQJv...</td>\n",
       "      <td>{'kind': 'youtube#videoCategory', 'etag': '\"m2...</td>\n",
       "    </tr>\n",
       "    <tr>\n",
       "      <th>23</th>\n",
       "      <td>youtube#videoCategoryListResponse</td>\n",
       "      <td>\"m2yskBQFythfE4irbTIeOgYYfBU/S730Ilt-Fi-emsQJv...</td>\n",
       "      <td>{'kind': 'youtube#videoCategory', 'etag': '\"m2...</td>\n",
       "    </tr>\n",
       "    <tr>\n",
       "      <th>24</th>\n",
       "      <td>youtube#videoCategoryListResponse</td>\n",
       "      <td>\"m2yskBQFythfE4irbTIeOgYYfBU/S730Ilt-Fi-emsQJv...</td>\n",
       "      <td>{'kind': 'youtube#videoCategory', 'etag': '\"m2...</td>\n",
       "    </tr>\n",
       "    <tr>\n",
       "      <th>25</th>\n",
       "      <td>youtube#videoCategoryListResponse</td>\n",
       "      <td>\"m2yskBQFythfE4irbTIeOgYYfBU/S730Ilt-Fi-emsQJv...</td>\n",
       "      <td>{'kind': 'youtube#videoCategory', 'etag': '\"m2...</td>\n",
       "    </tr>\n",
       "    <tr>\n",
       "      <th>26</th>\n",
       "      <td>youtube#videoCategoryListResponse</td>\n",
       "      <td>\"m2yskBQFythfE4irbTIeOgYYfBU/S730Ilt-Fi-emsQJv...</td>\n",
       "      <td>{'kind': 'youtube#videoCategory', 'etag': '\"m2...</td>\n",
       "    </tr>\n",
       "    <tr>\n",
       "      <th>27</th>\n",
       "      <td>youtube#videoCategoryListResponse</td>\n",
       "      <td>\"m2yskBQFythfE4irbTIeOgYYfBU/S730Ilt-Fi-emsQJv...</td>\n",
       "      <td>{'kind': 'youtube#videoCategory', 'etag': '\"m2...</td>\n",
       "    </tr>\n",
       "    <tr>\n",
       "      <th>28</th>\n",
       "      <td>youtube#videoCategoryListResponse</td>\n",
       "      <td>\"m2yskBQFythfE4irbTIeOgYYfBU/S730Ilt-Fi-emsQJv...</td>\n",
       "      <td>{'kind': 'youtube#videoCategory', 'etag': '\"m2...</td>\n",
       "    </tr>\n",
       "    <tr>\n",
       "      <th>29</th>\n",
       "      <td>youtube#videoCategoryListResponse</td>\n",
       "      <td>\"m2yskBQFythfE4irbTIeOgYYfBU/S730Ilt-Fi-emsQJv...</td>\n",
       "      <td>{'kind': 'youtube#videoCategory', 'etag': '\"m2...</td>\n",
       "    </tr>\n",
       "    <tr>\n",
       "      <th>30</th>\n",
       "      <td>youtube#videoCategoryListResponse</td>\n",
       "      <td>\"m2yskBQFythfE4irbTIeOgYYfBU/S730Ilt-Fi-emsQJv...</td>\n",
       "      <td>{'kind': 'youtube#videoCategory', 'etag': '\"m2...</td>\n",
       "    </tr>\n",
       "    <tr>\n",
       "      <th>31</th>\n",
       "      <td>youtube#videoCategoryListResponse</td>\n",
       "      <td>\"m2yskBQFythfE4irbTIeOgYYfBU/S730Ilt-Fi-emsQJv...</td>\n",
       "      <td>{'kind': 'youtube#videoCategory', 'etag': '\"m2...</td>\n",
       "    </tr>\n",
       "  </tbody>\n",
       "</table>\n",
       "</div>"
      ],
      "text/plain": [
       "                                 kind  \\\n",
       "0   youtube#videoCategoryListResponse   \n",
       "1   youtube#videoCategoryListResponse   \n",
       "2   youtube#videoCategoryListResponse   \n",
       "3   youtube#videoCategoryListResponse   \n",
       "4   youtube#videoCategoryListResponse   \n",
       "5   youtube#videoCategoryListResponse   \n",
       "6   youtube#videoCategoryListResponse   \n",
       "7   youtube#videoCategoryListResponse   \n",
       "8   youtube#videoCategoryListResponse   \n",
       "9   youtube#videoCategoryListResponse   \n",
       "10  youtube#videoCategoryListResponse   \n",
       "11  youtube#videoCategoryListResponse   \n",
       "12  youtube#videoCategoryListResponse   \n",
       "13  youtube#videoCategoryListResponse   \n",
       "14  youtube#videoCategoryListResponse   \n",
       "15  youtube#videoCategoryListResponse   \n",
       "16  youtube#videoCategoryListResponse   \n",
       "17  youtube#videoCategoryListResponse   \n",
       "18  youtube#videoCategoryListResponse   \n",
       "19  youtube#videoCategoryListResponse   \n",
       "20  youtube#videoCategoryListResponse   \n",
       "21  youtube#videoCategoryListResponse   \n",
       "22  youtube#videoCategoryListResponse   \n",
       "23  youtube#videoCategoryListResponse   \n",
       "24  youtube#videoCategoryListResponse   \n",
       "25  youtube#videoCategoryListResponse   \n",
       "26  youtube#videoCategoryListResponse   \n",
       "27  youtube#videoCategoryListResponse   \n",
       "28  youtube#videoCategoryListResponse   \n",
       "29  youtube#videoCategoryListResponse   \n",
       "30  youtube#videoCategoryListResponse   \n",
       "31  youtube#videoCategoryListResponse   \n",
       "\n",
       "                                                 etag  \\\n",
       "0   \"m2yskBQFythfE4irbTIeOgYYfBU/S730Ilt-Fi-emsQJv...   \n",
       "1   \"m2yskBQFythfE4irbTIeOgYYfBU/S730Ilt-Fi-emsQJv...   \n",
       "2   \"m2yskBQFythfE4irbTIeOgYYfBU/S730Ilt-Fi-emsQJv...   \n",
       "3   \"m2yskBQFythfE4irbTIeOgYYfBU/S730Ilt-Fi-emsQJv...   \n",
       "4   \"m2yskBQFythfE4irbTIeOgYYfBU/S730Ilt-Fi-emsQJv...   \n",
       "5   \"m2yskBQFythfE4irbTIeOgYYfBU/S730Ilt-Fi-emsQJv...   \n",
       "6   \"m2yskBQFythfE4irbTIeOgYYfBU/S730Ilt-Fi-emsQJv...   \n",
       "7   \"m2yskBQFythfE4irbTIeOgYYfBU/S730Ilt-Fi-emsQJv...   \n",
       "8   \"m2yskBQFythfE4irbTIeOgYYfBU/S730Ilt-Fi-emsQJv...   \n",
       "9   \"m2yskBQFythfE4irbTIeOgYYfBU/S730Ilt-Fi-emsQJv...   \n",
       "10  \"m2yskBQFythfE4irbTIeOgYYfBU/S730Ilt-Fi-emsQJv...   \n",
       "11  \"m2yskBQFythfE4irbTIeOgYYfBU/S730Ilt-Fi-emsQJv...   \n",
       "12  \"m2yskBQFythfE4irbTIeOgYYfBU/S730Ilt-Fi-emsQJv...   \n",
       "13  \"m2yskBQFythfE4irbTIeOgYYfBU/S730Ilt-Fi-emsQJv...   \n",
       "14  \"m2yskBQFythfE4irbTIeOgYYfBU/S730Ilt-Fi-emsQJv...   \n",
       "15  \"m2yskBQFythfE4irbTIeOgYYfBU/S730Ilt-Fi-emsQJv...   \n",
       "16  \"m2yskBQFythfE4irbTIeOgYYfBU/S730Ilt-Fi-emsQJv...   \n",
       "17  \"m2yskBQFythfE4irbTIeOgYYfBU/S730Ilt-Fi-emsQJv...   \n",
       "18  \"m2yskBQFythfE4irbTIeOgYYfBU/S730Ilt-Fi-emsQJv...   \n",
       "19  \"m2yskBQFythfE4irbTIeOgYYfBU/S730Ilt-Fi-emsQJv...   \n",
       "20  \"m2yskBQFythfE4irbTIeOgYYfBU/S730Ilt-Fi-emsQJv...   \n",
       "21  \"m2yskBQFythfE4irbTIeOgYYfBU/S730Ilt-Fi-emsQJv...   \n",
       "22  \"m2yskBQFythfE4irbTIeOgYYfBU/S730Ilt-Fi-emsQJv...   \n",
       "23  \"m2yskBQFythfE4irbTIeOgYYfBU/S730Ilt-Fi-emsQJv...   \n",
       "24  \"m2yskBQFythfE4irbTIeOgYYfBU/S730Ilt-Fi-emsQJv...   \n",
       "25  \"m2yskBQFythfE4irbTIeOgYYfBU/S730Ilt-Fi-emsQJv...   \n",
       "26  \"m2yskBQFythfE4irbTIeOgYYfBU/S730Ilt-Fi-emsQJv...   \n",
       "27  \"m2yskBQFythfE4irbTIeOgYYfBU/S730Ilt-Fi-emsQJv...   \n",
       "28  \"m2yskBQFythfE4irbTIeOgYYfBU/S730Ilt-Fi-emsQJv...   \n",
       "29  \"m2yskBQFythfE4irbTIeOgYYfBU/S730Ilt-Fi-emsQJv...   \n",
       "30  \"m2yskBQFythfE4irbTIeOgYYfBU/S730Ilt-Fi-emsQJv...   \n",
       "31  \"m2yskBQFythfE4irbTIeOgYYfBU/S730Ilt-Fi-emsQJv...   \n",
       "\n",
       "                                                items  \n",
       "0   {'kind': 'youtube#videoCategory', 'etag': '\"m2...  \n",
       "1   {'kind': 'youtube#videoCategory', 'etag': '\"m2...  \n",
       "2   {'kind': 'youtube#videoCategory', 'etag': '\"m2...  \n",
       "3   {'kind': 'youtube#videoCategory', 'etag': '\"m2...  \n",
       "4   {'kind': 'youtube#videoCategory', 'etag': '\"m2...  \n",
       "5   {'kind': 'youtube#videoCategory', 'etag': '\"m2...  \n",
       "6   {'kind': 'youtube#videoCategory', 'etag': '\"m2...  \n",
       "7   {'kind': 'youtube#videoCategory', 'etag': '\"m2...  \n",
       "8   {'kind': 'youtube#videoCategory', 'etag': '\"m2...  \n",
       "9   {'kind': 'youtube#videoCategory', 'etag': '\"m2...  \n",
       "10  {'kind': 'youtube#videoCategory', 'etag': '\"m2...  \n",
       "11  {'kind': 'youtube#videoCategory', 'etag': '\"m2...  \n",
       "12  {'kind': 'youtube#videoCategory', 'etag': '\"m2...  \n",
       "13  {'kind': 'youtube#videoCategory', 'etag': '\"m2...  \n",
       "14  {'kind': 'youtube#videoCategory', 'etag': '\"m2...  \n",
       "15  {'kind': 'youtube#videoCategory', 'etag': '\"m2...  \n",
       "16  {'kind': 'youtube#videoCategory', 'etag': '\"m2...  \n",
       "17  {'kind': 'youtube#videoCategory', 'etag': '\"m2...  \n",
       "18  {'kind': 'youtube#videoCategory', 'etag': '\"m2...  \n",
       "19  {'kind': 'youtube#videoCategory', 'etag': '\"m2...  \n",
       "20  {'kind': 'youtube#videoCategory', 'etag': '\"m2...  \n",
       "21  {'kind': 'youtube#videoCategory', 'etag': '\"m2...  \n",
       "22  {'kind': 'youtube#videoCategory', 'etag': '\"m2...  \n",
       "23  {'kind': 'youtube#videoCategory', 'etag': '\"m2...  \n",
       "24  {'kind': 'youtube#videoCategory', 'etag': '\"m2...  \n",
       "25  {'kind': 'youtube#videoCategory', 'etag': '\"m2...  \n",
       "26  {'kind': 'youtube#videoCategory', 'etag': '\"m2...  \n",
       "27  {'kind': 'youtube#videoCategory', 'etag': '\"m2...  \n",
       "28  {'kind': 'youtube#videoCategory', 'etag': '\"m2...  \n",
       "29  {'kind': 'youtube#videoCategory', 'etag': '\"m2...  \n",
       "30  {'kind': 'youtube#videoCategory', 'etag': '\"m2...  \n",
       "31  {'kind': 'youtube#videoCategory', 'etag': '\"m2...  "
      ]
     },
     "execution_count": 181,
     "metadata": {},
     "output_type": "execute_result"
    }
   ],
   "source": [
    "import pandas as pd\n",
    "category_file = pd.read_json('US_category_id.json')\n",
    "category_file"
   ]
  },
  {
   "cell_type": "code",
   "execution_count": 183,
   "id": "1e13ccce-39dc-480a-93e8-0c66738a87ca",
   "metadata": {},
   "outputs": [
    {
     "data": {
      "text/plain": [
       "0     {'kind': 'youtube#videoCategory', 'etag': '\"m2...\n",
       "1     {'kind': 'youtube#videoCategory', 'etag': '\"m2...\n",
       "2     {'kind': 'youtube#videoCategory', 'etag': '\"m2...\n",
       "3     {'kind': 'youtube#videoCategory', 'etag': '\"m2...\n",
       "4     {'kind': 'youtube#videoCategory', 'etag': '\"m2...\n",
       "5     {'kind': 'youtube#videoCategory', 'etag': '\"m2...\n",
       "6     {'kind': 'youtube#videoCategory', 'etag': '\"m2...\n",
       "7     {'kind': 'youtube#videoCategory', 'etag': '\"m2...\n",
       "8     {'kind': 'youtube#videoCategory', 'etag': '\"m2...\n",
       "9     {'kind': 'youtube#videoCategory', 'etag': '\"m2...\n",
       "10    {'kind': 'youtube#videoCategory', 'etag': '\"m2...\n",
       "11    {'kind': 'youtube#videoCategory', 'etag': '\"m2...\n",
       "12    {'kind': 'youtube#videoCategory', 'etag': '\"m2...\n",
       "13    {'kind': 'youtube#videoCategory', 'etag': '\"m2...\n",
       "14    {'kind': 'youtube#videoCategory', 'etag': '\"m2...\n",
       "15    {'kind': 'youtube#videoCategory', 'etag': '\"m2...\n",
       "16    {'kind': 'youtube#videoCategory', 'etag': '\"m2...\n",
       "17    {'kind': 'youtube#videoCategory', 'etag': '\"m2...\n",
       "18    {'kind': 'youtube#videoCategory', 'etag': '\"m2...\n",
       "19    {'kind': 'youtube#videoCategory', 'etag': '\"m2...\n",
       "20    {'kind': 'youtube#videoCategory', 'etag': '\"m2...\n",
       "21    {'kind': 'youtube#videoCategory', 'etag': '\"m2...\n",
       "22    {'kind': 'youtube#videoCategory', 'etag': '\"m2...\n",
       "23    {'kind': 'youtube#videoCategory', 'etag': '\"m2...\n",
       "24    {'kind': 'youtube#videoCategory', 'etag': '\"m2...\n",
       "25    {'kind': 'youtube#videoCategory', 'etag': '\"m2...\n",
       "26    {'kind': 'youtube#videoCategory', 'etag': '\"m2...\n",
       "27    {'kind': 'youtube#videoCategory', 'etag': '\"m2...\n",
       "28    {'kind': 'youtube#videoCategory', 'etag': '\"m2...\n",
       "29    {'kind': 'youtube#videoCategory', 'etag': '\"m2...\n",
       "30    {'kind': 'youtube#videoCategory', 'etag': '\"m2...\n",
       "31    {'kind': 'youtube#videoCategory', 'etag': '\"m2...\n",
       "Name: items, dtype: object"
      ]
     },
     "execution_count": 183,
     "metadata": {},
     "output_type": "execute_result"
    }
   ],
   "source": [
    "category_items = category_file['items']\n",
    "category_items"
   ]
  },
  {
   "cell_type": "code",
   "execution_count": 185,
   "id": "a38efddd-05a0-42dc-980a-05f1a28dff04",
   "metadata": {},
   "outputs": [
    {
     "data": {
      "text/plain": [
       "{'kind': 'youtube#videoCategory',\n",
       " 'etag': '\"m2yskBQFythfE4irbTIeOgYYfBU/Xy1mB4_yLrHy_BmKmPBggty2mZQ\"',\n",
       " 'id': '1',\n",
       " 'snippet': {'channelId': 'UCBR8-60-B28hp2BmDPdntcQ',\n",
       "  'title': 'Film & Animation',\n",
       "  'assignable': True}}"
      ]
     },
     "execution_count": 185,
     "metadata": {},
     "output_type": "execute_result"
    }
   ],
   "source": [
    "first_item = category_items[0]\n",
    "first_id = first_item['id']\n",
    "first_id\n",
    "first_item"
   ]
  },
  {
   "cell_type": "code",
   "execution_count": 187,
   "id": "96a5f248-d014-48fe-8904-1804a8b32491",
   "metadata": {},
   "outputs": [
    {
     "data": {
      "text/plain": [
       "'Film & Animation'"
      ]
     },
     "execution_count": 187,
     "metadata": {},
     "output_type": "execute_result"
    }
   ],
   "source": [
    "first_item = category_items[0]\n",
    "first_category = first_item['snippet']['title']\n",
    "first_category"
   ]
  },
  {
   "cell_type": "code",
   "execution_count": 189,
   "id": "62d5a345-51a2-46cd-a8ce-46084794fc12",
   "metadata": {},
   "outputs": [
    {
     "name": "stdout",
     "output_type": "stream",
     "text": [
      "[1, 2, 10, 15, 17, 18, 19, 20, 21, 22, 23, 24, 25, 26, 27, 28, 29, 30, 31, 32, 33, 34, 35, 36, 37, 38, 39, 40, 41, 42, 43, 44]\n",
      "['Film & Animation', 'Autos & Vehicles', 'Music', 'Pets & Animals', 'Sports', 'Short Movies', 'Travel & Events', 'Gaming', 'Videoblogging', 'People & Blogs', 'Comedy', 'Entertainment', 'News & Politics', 'Howto & Style', 'Education', 'Science & Technology', 'Nonprofits & Activism', 'Movies', 'Anime/Animation', 'Action/Adventure', 'Classics', 'Comedy', 'Documentary', 'Drama', 'Family', 'Foreign', 'Horror', 'Sci-Fi/Fantasy', 'Thriller', 'Shorts', 'Shows', 'Trailers']\n"
     ]
    },
    {
     "data": {
      "text/plain": [
       "{1: 'Film & Animation',\n",
       " 2: 'Autos & Vehicles',\n",
       " 10: 'Music',\n",
       " 15: 'Pets & Animals',\n",
       " 17: 'Sports',\n",
       " 18: 'Short Movies',\n",
       " 19: 'Travel & Events',\n",
       " 20: 'Gaming',\n",
       " 21: 'Videoblogging',\n",
       " 22: 'People & Blogs',\n",
       " 23: 'Comedy',\n",
       " 24: 'Entertainment',\n",
       " 25: 'News & Politics',\n",
       " 26: 'Howto & Style',\n",
       " 27: 'Education',\n",
       " 28: 'Science & Technology',\n",
       " 29: 'Nonprofits & Activism',\n",
       " 30: 'Movies',\n",
       " 31: 'Anime/Animation',\n",
       " 32: 'Action/Adventure',\n",
       " 33: 'Classics',\n",
       " 34: 'Comedy',\n",
       " 35: 'Documentary',\n",
       " 36: 'Drama',\n",
       " 37: 'Family',\n",
       " 38: 'Foreign',\n",
       " 39: 'Horror',\n",
       " 40: 'Sci-Fi/Fantasy',\n",
       " 41: 'Thriller',\n",
       " 42: 'Shorts',\n",
       " 43: 'Shows',\n",
       " 44: 'Trailers'}"
      ]
     },
     "execution_count": 189,
     "metadata": {},
     "output_type": "execute_result"
    }
   ],
   "source": [
    "category_list = []\n",
    "id_list = []\n",
    "\n",
    "for item in category_items:\n",
    "    id_list.append(int(item['id']))\n",
    "\n",
    "print(id_list)\n",
    "\n",
    "for item in category_items:\n",
    "    category_list.append(item['snippet']['title'])\n",
    "\n",
    "print(category_list)\n",
    "\n",
    "result = dict(zip(id_list,category_list))\n",
    "result\n"
   ]
  },
  {
   "cell_type": "code",
   "execution_count": null,
   "id": "fb8548a6-0a5b-4fd4-99ca-d53352078b01",
   "metadata": {},
   "outputs": [],
   "source": []
  },
  {
   "cell_type": "code",
   "execution_count": 192,
   "id": "483c45bd-020b-488e-9b68-fbbacc86b764",
   "metadata": {},
   "outputs": [
    {
     "data": {
      "text/plain": [
       "video_id                   _ANP3HR1jsM\n",
       "trending_date                      NaN\n",
       "title                              NaN\n",
       "channel_title                      NaN\n",
       "category_id                        NaN\n",
       "publish_time                       NaN\n",
       "tags                               NaN\n",
       "views                              NaN\n",
       "likes                            likes\n",
       "dislikes                           NaN\n",
       "comment_count                      NaN\n",
       "thumbnail_link                     NaN\n",
       "comments_disabled                  NaN\n",
       "ratings_disabled                   NaN\n",
       "video_error_or_removed             NaN\n",
       "description                        NaN\n",
       "comment_text              comment_text\n",
       "replies                        replies\n",
       "Category_name                      NaN\n",
       "Name: 417529, dtype: object"
      ]
     },
     "execution_count": 192,
     "metadata": {},
     "output_type": "execute_result"
    }
   ],
   "source": [
    "df['Category_name'] = df['category_id'].map(result)\n",
    "df.iloc[374362]"
   ]
  },
  {
   "cell_type": "code",
   "execution_count": 194,
   "id": "3a4d593d-22d2-4b9e-b8b5-ad5a13212fec",
   "metadata": {},
   "outputs": [
    {
     "data": {
      "text/html": [
       "<div>\n",
       "<style scoped>\n",
       "    .dataframe tbody tr th:only-of-type {\n",
       "        vertical-align: middle;\n",
       "    }\n",
       "\n",
       "    .dataframe tbody tr th {\n",
       "        vertical-align: top;\n",
       "    }\n",
       "\n",
       "    .dataframe thead th {\n",
       "        text-align: right;\n",
       "    }\n",
       "</style>\n",
       "<table border=\"1\" class=\"dataframe\">\n",
       "  <thead>\n",
       "    <tr style=\"text-align: right;\">\n",
       "      <th></th>\n",
       "      <th>video_id</th>\n",
       "      <th>trending_date</th>\n",
       "      <th>title</th>\n",
       "      <th>channel_title</th>\n",
       "      <th>category_id</th>\n",
       "      <th>publish_time</th>\n",
       "      <th>tags</th>\n",
       "      <th>views</th>\n",
       "      <th>likes</th>\n",
       "      <th>dislikes</th>\n",
       "      <th>comment_count</th>\n",
       "      <th>thumbnail_link</th>\n",
       "      <th>comments_disabled</th>\n",
       "      <th>ratings_disabled</th>\n",
       "      <th>video_error_or_removed</th>\n",
       "      <th>description</th>\n",
       "      <th>comment_text</th>\n",
       "      <th>replies</th>\n",
       "      <th>Category_name</th>\n",
       "    </tr>\n",
       "  </thead>\n",
       "  <tbody>\n",
       "    <tr>\n",
       "      <th>0</th>\n",
       "      <td>SbOwzAl9ZfQ</td>\n",
       "      <td>17.14.11</td>\n",
       "      <td>CapÃ­tulo 12 | MasterChef 2017</td>\n",
       "      <td>MasterChef 2017</td>\n",
       "      <td>24.0</td>\n",
       "      <td>2017-11-13T06:06:22.000Z</td>\n",
       "      <td>MasterChef Junior 2017|\"TV Azteca\"|\"recetas\"|\"...</td>\n",
       "      <td>310130.0</td>\n",
       "      <td>4182</td>\n",
       "      <td>361.0</td>\n",
       "      <td>1836.0</td>\n",
       "      <td>https://i.ytimg.com/vi/SbOwzAl9ZfQ/default.jpg</td>\n",
       "      <td>False</td>\n",
       "      <td>False</td>\n",
       "      <td>False</td>\n",
       "      <td>Disfruta la presencia del Chef Torreblanca en ...</td>\n",
       "      <td>NaN</td>\n",
       "      <td>NaN</td>\n",
       "      <td>Entertainment</td>\n",
       "    </tr>\n",
       "    <tr>\n",
       "      <th>1</th>\n",
       "      <td>klOV6Xh-DnI</td>\n",
       "      <td>17.14.11</td>\n",
       "      <td>ALEXA EX-INTEGRANTE DEL GRUPO TIMBIRICHE RENUN...</td>\n",
       "      <td>Micky Contreras Martinez</td>\n",
       "      <td>22.0</td>\n",
       "      <td>2017-11-13T05:11:58.000Z</td>\n",
       "      <td>La Voz Mexico 7</td>\n",
       "      <td>104972.0</td>\n",
       "      <td>271</td>\n",
       "      <td>174.0</td>\n",
       "      <td>369.0</td>\n",
       "      <td>https://i.ytimg.com/vi/klOV6Xh-DnI/default.jpg</td>\n",
       "      <td>False</td>\n",
       "      <td>False</td>\n",
       "      <td>False</td>\n",
       "      <td>ALEXA EX-INTEGRANTE DEL GRUPO TIMBIRICHE RENUN...</td>\n",
       "      <td>NaN</td>\n",
       "      <td>NaN</td>\n",
       "      <td>People &amp; Blogs</td>\n",
       "    </tr>\n",
       "    <tr>\n",
       "      <th>2</th>\n",
       "      <td>6L2ZF7Qzsbk</td>\n",
       "      <td>17.14.11</td>\n",
       "      <td>LOUIS CKAGÃ - EL PULSO DE LA REPÃBLICA</td>\n",
       "      <td>El Pulso De La RepÃºblica</td>\n",
       "      <td>25.0</td>\n",
       "      <td>2017-11-13T17:00:02.000Z</td>\n",
       "      <td>Chumel Torres|\"El Pulso de la Republica\"|\"noti...</td>\n",
       "      <td>136064.0</td>\n",
       "      <td>10105</td>\n",
       "      <td>266.0</td>\n",
       "      <td>607.0</td>\n",
       "      <td>https://i.ytimg.com/vi/6L2ZF7Qzsbk/default.jpg</td>\n",
       "      <td>False</td>\n",
       "      <td>False</td>\n",
       "      <td>False</td>\n",
       "      <td>La canciÃ³n del principio se llama âEste esp...</td>\n",
       "      <td>NaN</td>\n",
       "      <td>NaN</td>\n",
       "      <td>News &amp; Politics</td>\n",
       "    </tr>\n",
       "    <tr>\n",
       "      <th>3</th>\n",
       "      <td>hcY52MFWMDM</td>\n",
       "      <td>17.14.11</td>\n",
       "      <td>Sismo de 6.7 sacude Costa Rica 12 Noviembre 2017</td>\n",
       "      <td>Casanare</td>\n",
       "      <td>25.0</td>\n",
       "      <td>2017-11-13T03:47:10.000Z</td>\n",
       "      <td>temblor|\"costa rica\"|\"sismo en costa rica\"</td>\n",
       "      <td>96153.0</td>\n",
       "      <td>378</td>\n",
       "      <td>171.0</td>\n",
       "      <td>208.0</td>\n",
       "      <td>https://i.ytimg.com/vi/hcY52MFWMDM/default.jpg</td>\n",
       "      <td>False</td>\n",
       "      <td>False</td>\n",
       "      <td>False</td>\n",
       "      <td>El video es de un Walmart en el pais centroame...</td>\n",
       "      <td>NaN</td>\n",
       "      <td>NaN</td>\n",
       "      <td>News &amp; Politics</td>\n",
       "    </tr>\n",
       "    <tr>\n",
       "      <th>4</th>\n",
       "      <td>_OXDcGPVAa4</td>\n",
       "      <td>17.14.11</td>\n",
       "      <td>DOG HACKS | MUSAS LESSLIE LOS POLINESIOS</td>\n",
       "      <td>Musas</td>\n",
       "      <td>26.0</td>\n",
       "      <td>2017-11-13T19:17:48.000Z</td>\n",
       "      <td>MUSAS|\"lesslie\"|\"karen\"|\"hacks\"|\"perros\"|\"dogs...</td>\n",
       "      <td>499965.0</td>\n",
       "      <td>57781</td>\n",
       "      <td>681.0</td>\n",
       "      <td>7428.0</td>\n",
       "      <td>https://i.ytimg.com/vi/_OXDcGPVAa4/default.jpg</td>\n",
       "      <td>False</td>\n",
       "      <td>False</td>\n",
       "      <td>False</td>\n",
       "      <td>MI HERMANO NARRA MI RUTINA DE MAQUILLAJE\\nhttp...</td>\n",
       "      <td>NaN</td>\n",
       "      <td>NaN</td>\n",
       "      <td>Howto &amp; Style</td>\n",
       "    </tr>\n",
       "    <tr>\n",
       "      <th>...</th>\n",
       "      <td>...</td>\n",
       "      <td>...</td>\n",
       "      <td>...</td>\n",
       "      <td>...</td>\n",
       "      <td>...</td>\n",
       "      <td>...</td>\n",
       "      <td>...</td>\n",
       "      <td>...</td>\n",
       "      <td>...</td>\n",
       "      <td>...</td>\n",
       "      <td>...</td>\n",
       "      <td>...</td>\n",
       "      <td>...</td>\n",
       "      <td>...</td>\n",
       "      <td>...</td>\n",
       "      <td>...</td>\n",
       "      <td>...</td>\n",
       "      <td>...</td>\n",
       "      <td>...</td>\n",
       "    </tr>\n",
       "    <tr>\n",
       "      <th>1067301</th>\n",
       "      <td>EoejGgUNmVU</td>\n",
       "      <td>NaN</td>\n",
       "      <td>NaN</td>\n",
       "      <td>NaN</td>\n",
       "      <td>NaN</td>\n",
       "      <td>NaN</td>\n",
       "      <td>NaN</td>\n",
       "      <td>NaN</td>\n",
       "      <td>0</td>\n",
       "      <td>NaN</td>\n",
       "      <td>NaN</td>\n",
       "      <td>NaN</td>\n",
       "      <td>NaN</td>\n",
       "      <td>NaN</td>\n",
       "      <td>NaN</td>\n",
       "      <td>NaN</td>\n",
       "      <td>Lost on you ! ð\\nOH My God I love this song...</td>\n",
       "      <td>0</td>\n",
       "      <td>NaN</td>\n",
       "    </tr>\n",
       "    <tr>\n",
       "      <th>1067308</th>\n",
       "      <td>EoejGgUNmVU</td>\n",
       "      <td>NaN</td>\n",
       "      <td>NaN</td>\n",
       "      <td>NaN</td>\n",
       "      <td>NaN</td>\n",
       "      <td>NaN</td>\n",
       "      <td>NaN</td>\n",
       "      <td>NaN</td>\n",
       "      <td>0</td>\n",
       "      <td>NaN</td>\n",
       "      <td>NaN</td>\n",
       "      <td>NaN</td>\n",
       "      <td>NaN</td>\n",
       "      <td>NaN</td>\n",
       "      <td>NaN</td>\n",
       "      <td>NaN</td>\n",
       "      <td>I  LOVE  LPâ¤ï¸</td>\n",
       "      <td>0</td>\n",
       "      <td>NaN</td>\n",
       "    </tr>\n",
       "    <tr>\n",
       "      <th>1067334</th>\n",
       "      <td>EoejGgUNmVU</td>\n",
       "      <td>NaN</td>\n",
       "      <td>NaN</td>\n",
       "      <td>NaN</td>\n",
       "      <td>NaN</td>\n",
       "      <td>NaN</td>\n",
       "      <td>NaN</td>\n",
       "      <td>NaN</td>\n",
       "      <td>1</td>\n",
       "      <td>NaN</td>\n",
       "      <td>NaN</td>\n",
       "      <td>NaN</td>\n",
       "      <td>NaN</td>\n",
       "      <td>NaN</td>\n",
       "      <td>NaN</td>\n",
       "      <td>NaN</td>\n",
       "      <td>*L O S T  O N  Y O U*</td>\n",
       "      <td>0</td>\n",
       "      <td>NaN</td>\n",
       "    </tr>\n",
       "    <tr>\n",
       "      <th>1067335</th>\n",
       "      <td>EoejGgUNmVU</td>\n",
       "      <td>NaN</td>\n",
       "      <td>NaN</td>\n",
       "      <td>NaN</td>\n",
       "      <td>NaN</td>\n",
       "      <td>NaN</td>\n",
       "      <td>NaN</td>\n",
       "      <td>NaN</td>\n",
       "      <td>0</td>\n",
       "      <td>NaN</td>\n",
       "      <td>NaN</td>\n",
       "      <td>NaN</td>\n",
       "      <td>NaN</td>\n",
       "      <td>NaN</td>\n",
       "      <td>NaN</td>\n",
       "      <td>NaN</td>\n",
       "      <td>&lt;3</td>\n",
       "      <td>0</td>\n",
       "      <td>NaN</td>\n",
       "    </tr>\n",
       "    <tr>\n",
       "      <th>1067340</th>\n",
       "      <td>EoejGgUNmVU</td>\n",
       "      <td>NaN</td>\n",
       "      <td>NaN</td>\n",
       "      <td>NaN</td>\n",
       "      <td>NaN</td>\n",
       "      <td>NaN</td>\n",
       "      <td>NaN</td>\n",
       "      <td>NaN</td>\n",
       "      <td>0</td>\n",
       "      <td>NaN</td>\n",
       "      <td>NaN</td>\n",
       "      <td>NaN</td>\n",
       "      <td>NaN</td>\n",
       "      <td>NaN</td>\n",
       "      <td>NaN</td>\n",
       "      <td>NaN</td>\n",
       "      <td>IslÄ±ÄÄ± yeter...</td>\n",
       "      <td>0</td>\n",
       "      <td>NaN</td>\n",
       "    </tr>\n",
       "  </tbody>\n",
       "</table>\n",
       "<p>818231 rows × 19 columns</p>\n",
       "</div>"
      ],
      "text/plain": [
       "            video_id trending_date  \\\n",
       "0        SbOwzAl9ZfQ      17.14.11   \n",
       "1        klOV6Xh-DnI      17.14.11   \n",
       "2        6L2ZF7Qzsbk      17.14.11   \n",
       "3        hcY52MFWMDM      17.14.11   \n",
       "4        _OXDcGPVAa4      17.14.11   \n",
       "...              ...           ...   \n",
       "1067301  EoejGgUNmVU           NaN   \n",
       "1067308  EoejGgUNmVU           NaN   \n",
       "1067334  EoejGgUNmVU           NaN   \n",
       "1067335  EoejGgUNmVU           NaN   \n",
       "1067340  EoejGgUNmVU           NaN   \n",
       "\n",
       "                                                     title  \\\n",
       "0                           CapÃ­tulo 12 | MasterChef 2017   \n",
       "1        ALEXA EX-INTEGRANTE DEL GRUPO TIMBIRICHE RENUN...   \n",
       "2                 LOUIS CKAGÃ - EL PULSO DE LA REPÃBLICA   \n",
       "3         Sismo de 6.7 sacude Costa Rica 12 Noviembre 2017   \n",
       "4                 DOG HACKS | MUSAS LESSLIE LOS POLINESIOS   \n",
       "...                                                    ...   \n",
       "1067301                                                NaN   \n",
       "1067308                                                NaN   \n",
       "1067334                                                NaN   \n",
       "1067335                                                NaN   \n",
       "1067340                                                NaN   \n",
       "\n",
       "                     channel_title  category_id              publish_time  \\\n",
       "0                  MasterChef 2017         24.0  2017-11-13T06:06:22.000Z   \n",
       "1         Micky Contreras Martinez         22.0  2017-11-13T05:11:58.000Z   \n",
       "2        El Pulso De La RepÃºblica         25.0  2017-11-13T17:00:02.000Z   \n",
       "3                         Casanare         25.0  2017-11-13T03:47:10.000Z   \n",
       "4                            Musas         26.0  2017-11-13T19:17:48.000Z   \n",
       "...                            ...          ...                       ...   \n",
       "1067301                        NaN          NaN                       NaN   \n",
       "1067308                        NaN          NaN                       NaN   \n",
       "1067334                        NaN          NaN                       NaN   \n",
       "1067335                        NaN          NaN                       NaN   \n",
       "1067340                        NaN          NaN                       NaN   \n",
       "\n",
       "                                                      tags     views  likes  \\\n",
       "0        MasterChef Junior 2017|\"TV Azteca\"|\"recetas\"|\"...  310130.0   4182   \n",
       "1                                          La Voz Mexico 7  104972.0    271   \n",
       "2        Chumel Torres|\"El Pulso de la Republica\"|\"noti...  136064.0  10105   \n",
       "3               temblor|\"costa rica\"|\"sismo en costa rica\"   96153.0    378   \n",
       "4        MUSAS|\"lesslie\"|\"karen\"|\"hacks\"|\"perros\"|\"dogs...  499965.0  57781   \n",
       "...                                                    ...       ...    ...   \n",
       "1067301                                                NaN       NaN      0   \n",
       "1067308                                                NaN       NaN      0   \n",
       "1067334                                                NaN       NaN      1   \n",
       "1067335                                                NaN       NaN      0   \n",
       "1067340                                                NaN       NaN      0   \n",
       "\n",
       "         dislikes  comment_count  \\\n",
       "0           361.0         1836.0   \n",
       "1           174.0          369.0   \n",
       "2           266.0          607.0   \n",
       "3           171.0          208.0   \n",
       "4           681.0         7428.0   \n",
       "...           ...            ...   \n",
       "1067301       NaN            NaN   \n",
       "1067308       NaN            NaN   \n",
       "1067334       NaN            NaN   \n",
       "1067335       NaN            NaN   \n",
       "1067340       NaN            NaN   \n",
       "\n",
       "                                         thumbnail_link comments_disabled  \\\n",
       "0        https://i.ytimg.com/vi/SbOwzAl9ZfQ/default.jpg             False   \n",
       "1        https://i.ytimg.com/vi/klOV6Xh-DnI/default.jpg             False   \n",
       "2        https://i.ytimg.com/vi/6L2ZF7Qzsbk/default.jpg             False   \n",
       "3        https://i.ytimg.com/vi/hcY52MFWMDM/default.jpg             False   \n",
       "4        https://i.ytimg.com/vi/_OXDcGPVAa4/default.jpg             False   \n",
       "...                                                 ...               ...   \n",
       "1067301                                             NaN               NaN   \n",
       "1067308                                             NaN               NaN   \n",
       "1067334                                             NaN               NaN   \n",
       "1067335                                             NaN               NaN   \n",
       "1067340                                             NaN               NaN   \n",
       "\n",
       "        ratings_disabled video_error_or_removed  \\\n",
       "0                  False                  False   \n",
       "1                  False                  False   \n",
       "2                  False                  False   \n",
       "3                  False                  False   \n",
       "4                  False                  False   \n",
       "...                  ...                    ...   \n",
       "1067301              NaN                    NaN   \n",
       "1067308              NaN                    NaN   \n",
       "1067334              NaN                    NaN   \n",
       "1067335              NaN                    NaN   \n",
       "1067340              NaN                    NaN   \n",
       "\n",
       "                                               description  \\\n",
       "0        Disfruta la presencia del Chef Torreblanca en ...   \n",
       "1        ALEXA EX-INTEGRANTE DEL GRUPO TIMBIRICHE RENUN...   \n",
       "2        La canciÃ³n del principio se llama âEste esp...   \n",
       "3        El video es de un Walmart en el pais centroame...   \n",
       "4        MI HERMANO NARRA MI RUTINA DE MAQUILLAJE\\nhttp...   \n",
       "...                                                    ...   \n",
       "1067301                                                NaN   \n",
       "1067308                                                NaN   \n",
       "1067334                                                NaN   \n",
       "1067335                                                NaN   \n",
       "1067340                                                NaN   \n",
       "\n",
       "                                              comment_text replies  \\\n",
       "0                                                      NaN     NaN   \n",
       "1                                                      NaN     NaN   \n",
       "2                                                      NaN     NaN   \n",
       "3                                                      NaN     NaN   \n",
       "4                                                      NaN     NaN   \n",
       "...                                                    ...     ...   \n",
       "1067301  Lost on you ! ð\\nOH My God I love this song...       0   \n",
       "1067308                                  I  LOVE  LPâ¤ï¸       0   \n",
       "1067334                              *L O S T  O N  Y O U*       0   \n",
       "1067335                                                 <3       0   \n",
       "1067340                                 IslÄ±ÄÄ± yeter...       0   \n",
       "\n",
       "           Category_name  \n",
       "0          Entertainment  \n",
       "1         People & Blogs  \n",
       "2        News & Politics  \n",
       "3        News & Politics  \n",
       "4          Howto & Style  \n",
       "...                  ...  \n",
       "1067301              NaN  \n",
       "1067308              NaN  \n",
       "1067334              NaN  \n",
       "1067335              NaN  \n",
       "1067340              NaN  \n",
       "\n",
       "[818231 rows x 19 columns]"
      ]
     },
     "execution_count": 194,
     "metadata": {},
     "output_type": "execute_result"
    }
   ],
   "source": [
    "df.drop(374362, axis=0, inplace=False)\n",
    "\n"
   ]
  },
  {
   "cell_type": "code",
   "execution_count": 205,
   "id": "bfd49582-b7dd-401c-a0d0-66459e872749",
   "metadata": {},
   "outputs": [
    {
     "ename": "ValueError",
     "evalue": "Unable to parse string \"likes\" at position 374362",
     "output_type": "error",
     "traceback": [
      "\u001b[0;31m---------------------------------------------------------------------------\u001b[0m",
      "\u001b[0;31mValueError\u001b[0m                                Traceback (most recent call last)",
      "File \u001b[0;32mlib.pyx:2391\u001b[0m, in \u001b[0;36mpandas._libs.lib.maybe_convert_numeric\u001b[0;34m()\u001b[0m\n",
      "\u001b[0;31mValueError\u001b[0m: Unable to parse string \"likes\"",
      "\nDuring handling of the above exception, another exception occurred:\n",
      "\u001b[0;31mValueError\u001b[0m                                Traceback (most recent call last)",
      "Cell \u001b[0;32mIn[205], line 5\u001b[0m\n\u001b[1;32m      2\u001b[0m \u001b[38;5;28;01mimport\u001b[39;00m \u001b[38;5;21;01mmatplotlib\u001b[39;00m\u001b[38;5;21;01m.\u001b[39;00m\u001b[38;5;21;01mpyplot\u001b[39;00m \u001b[38;5;28;01mas\u001b[39;00m \u001b[38;5;21;01mplt\u001b[39;00m\n\u001b[1;32m      4\u001b[0m plt\u001b[38;5;241m.\u001b[39mfigure(figsize\u001b[38;5;241m=\u001b[39m(\u001b[38;5;241m12\u001b[39m,\u001b[38;5;241m8\u001b[39m))\n\u001b[0;32m----> 5\u001b[0m sns\u001b[38;5;241m.\u001b[39mboxplot(x \u001b[38;5;241m=\u001b[39m \u001b[38;5;124m'\u001b[39m\u001b[38;5;124mCategory_name\u001b[39m\u001b[38;5;124m'\u001b[39m, y\u001b[38;5;241m=\u001b[39m \u001b[38;5;124m'\u001b[39m\u001b[38;5;124mlikes\u001b[39m\u001b[38;5;124m'\u001b[39m, data \u001b[38;5;241m=\u001b[39m df)\n\u001b[1;32m      6\u001b[0m plt\u001b[38;5;241m.\u001b[39mxticks(rotation\u001b[38;5;241m=\u001b[39m\u001b[38;5;124m'\u001b[39m\u001b[38;5;124mvertical\u001b[39m\u001b[38;5;124m'\u001b[39m)\n",
      "File \u001b[0;32m/opt/anaconda3/lib/python3.12/site-packages/seaborn/categorical.py:1634\u001b[0m, in \u001b[0;36mboxplot\u001b[0;34m(data, x, y, hue, order, hue_order, orient, color, palette, saturation, fill, dodge, width, gap, whis, linecolor, linewidth, fliersize, hue_norm, native_scale, log_scale, formatter, legend, ax, **kwargs)\u001b[0m\n\u001b[1;32m   1627\u001b[0m color \u001b[38;5;241m=\u001b[39m _default_color(\n\u001b[1;32m   1628\u001b[0m     ax\u001b[38;5;241m.\u001b[39mfill_between, hue, color,\n\u001b[1;32m   1629\u001b[0m     {k: v \u001b[38;5;28;01mfor\u001b[39;00m k, v \u001b[38;5;129;01min\u001b[39;00m kwargs\u001b[38;5;241m.\u001b[39mitems() \u001b[38;5;28;01mif\u001b[39;00m k \u001b[38;5;129;01min\u001b[39;00m [\u001b[38;5;124m\"\u001b[39m\u001b[38;5;124mc\u001b[39m\u001b[38;5;124m\"\u001b[39m, \u001b[38;5;124m\"\u001b[39m\u001b[38;5;124mcolor\u001b[39m\u001b[38;5;124m\"\u001b[39m, \u001b[38;5;124m\"\u001b[39m\u001b[38;5;124mfc\u001b[39m\u001b[38;5;124m\"\u001b[39m, \u001b[38;5;124m\"\u001b[39m\u001b[38;5;124mfacecolor\u001b[39m\u001b[38;5;124m\"\u001b[39m]},\n\u001b[1;32m   1630\u001b[0m     saturation\u001b[38;5;241m=\u001b[39msaturation,\n\u001b[1;32m   1631\u001b[0m )\n\u001b[1;32m   1632\u001b[0m linecolor \u001b[38;5;241m=\u001b[39m p\u001b[38;5;241m.\u001b[39m_complement_color(linecolor, color, p\u001b[38;5;241m.\u001b[39m_hue_map)\n\u001b[0;32m-> 1634\u001b[0m p\u001b[38;5;241m.\u001b[39mplot_boxes(\n\u001b[1;32m   1635\u001b[0m     width\u001b[38;5;241m=\u001b[39mwidth,\n\u001b[1;32m   1636\u001b[0m     dodge\u001b[38;5;241m=\u001b[39mdodge,\n\u001b[1;32m   1637\u001b[0m     gap\u001b[38;5;241m=\u001b[39mgap,\n\u001b[1;32m   1638\u001b[0m     fill\u001b[38;5;241m=\u001b[39mfill,\n\u001b[1;32m   1639\u001b[0m     whis\u001b[38;5;241m=\u001b[39mwhis,\n\u001b[1;32m   1640\u001b[0m     color\u001b[38;5;241m=\u001b[39mcolor,\n\u001b[1;32m   1641\u001b[0m     linecolor\u001b[38;5;241m=\u001b[39mlinecolor,\n\u001b[1;32m   1642\u001b[0m     linewidth\u001b[38;5;241m=\u001b[39mlinewidth,\n\u001b[1;32m   1643\u001b[0m     fliersize\u001b[38;5;241m=\u001b[39mfliersize,\n\u001b[1;32m   1644\u001b[0m     plot_kws\u001b[38;5;241m=\u001b[39mkwargs,\n\u001b[1;32m   1645\u001b[0m )\n\u001b[1;32m   1647\u001b[0m p\u001b[38;5;241m.\u001b[39m_add_axis_labels(ax)\n\u001b[1;32m   1648\u001b[0m p\u001b[38;5;241m.\u001b[39m_adjust_cat_axis(ax, axis\u001b[38;5;241m=\u001b[39mp\u001b[38;5;241m.\u001b[39morient)\n",
      "File \u001b[0;32m/opt/anaconda3/lib/python3.12/site-packages/seaborn/categorical.py:631\u001b[0m, in \u001b[0;36m_CategoricalPlotter.plot_boxes\u001b[0;34m(self, width, dodge, gap, fill, whis, color, linecolor, linewidth, fliersize, plot_kws)\u001b[0m\n\u001b[1;32m    627\u001b[0m props[\u001b[38;5;124m\"\u001b[39m\u001b[38;5;124mflier\u001b[39m\u001b[38;5;124m\"\u001b[39m]\u001b[38;5;241m.\u001b[39msetdefault(\u001b[38;5;124m\"\u001b[39m\u001b[38;5;124mmarkersize\u001b[39m\u001b[38;5;124m\"\u001b[39m, fliersize)\n\u001b[1;32m    629\u001b[0m ax \u001b[38;5;241m=\u001b[39m \u001b[38;5;28mself\u001b[39m\u001b[38;5;241m.\u001b[39max\n\u001b[0;32m--> 631\u001b[0m \u001b[38;5;28;01mfor\u001b[39;00m sub_vars, sub_data \u001b[38;5;129;01min\u001b[39;00m \u001b[38;5;28mself\u001b[39m\u001b[38;5;241m.\u001b[39miter_data(iter_vars,\n\u001b[1;32m    632\u001b[0m                                          from_comp_data\u001b[38;5;241m=\u001b[39m\u001b[38;5;28;01mTrue\u001b[39;00m,\n\u001b[1;32m    633\u001b[0m                                          allow_empty\u001b[38;5;241m=\u001b[39m\u001b[38;5;28;01mFalse\u001b[39;00m):\n\u001b[1;32m    635\u001b[0m     ax \u001b[38;5;241m=\u001b[39m \u001b[38;5;28mself\u001b[39m\u001b[38;5;241m.\u001b[39m_get_axes(sub_vars)\n\u001b[1;32m    637\u001b[0m     grouped \u001b[38;5;241m=\u001b[39m sub_data\u001b[38;5;241m.\u001b[39mgroupby(\u001b[38;5;28mself\u001b[39m\u001b[38;5;241m.\u001b[39morient)[value_var]\n",
      "File \u001b[0;32m/opt/anaconda3/lib/python3.12/site-packages/seaborn/_base.py:902\u001b[0m, in \u001b[0;36mVectorPlotter.iter_data\u001b[0;34m(self, grouping_vars, reverse, from_comp_data, by_facet, allow_empty, dropna)\u001b[0m\n\u001b[1;32m    899\u001b[0m grouping_vars \u001b[38;5;241m=\u001b[39m [var \u001b[38;5;28;01mfor\u001b[39;00m var \u001b[38;5;129;01min\u001b[39;00m grouping_vars \u001b[38;5;28;01mif\u001b[39;00m var \u001b[38;5;129;01min\u001b[39;00m \u001b[38;5;28mself\u001b[39m\u001b[38;5;241m.\u001b[39mvariables]\n\u001b[1;32m    901\u001b[0m \u001b[38;5;28;01mif\u001b[39;00m from_comp_data:\n\u001b[0;32m--> 902\u001b[0m     data \u001b[38;5;241m=\u001b[39m \u001b[38;5;28mself\u001b[39m\u001b[38;5;241m.\u001b[39mcomp_data\n\u001b[1;32m    903\u001b[0m \u001b[38;5;28;01melse\u001b[39;00m:\n\u001b[1;32m    904\u001b[0m     data \u001b[38;5;241m=\u001b[39m \u001b[38;5;28mself\u001b[39m\u001b[38;5;241m.\u001b[39mplot_data\n",
      "File \u001b[0;32m/opt/anaconda3/lib/python3.12/site-packages/seaborn/_base.py:1000\u001b[0m, in \u001b[0;36mVectorPlotter.comp_data\u001b[0;34m(self)\u001b[0m\n\u001b[1;32m    995\u001b[0m \u001b[38;5;28;01mif\u001b[39;00m var \u001b[38;5;129;01min\u001b[39;00m \u001b[38;5;28mself\u001b[39m\u001b[38;5;241m.\u001b[39mvar_levels:\n\u001b[1;32m    996\u001b[0m     \u001b[38;5;66;03m# TODO this should happen in some centralized location\u001b[39;00m\n\u001b[1;32m    997\u001b[0m     \u001b[38;5;66;03m# it is similar to GH2419, but more complicated because\u001b[39;00m\n\u001b[1;32m    998\u001b[0m     \u001b[38;5;66;03m# supporting `order` in categorical plots is tricky\u001b[39;00m\n\u001b[1;32m    999\u001b[0m     orig \u001b[38;5;241m=\u001b[39m orig[orig\u001b[38;5;241m.\u001b[39misin(\u001b[38;5;28mself\u001b[39m\u001b[38;5;241m.\u001b[39mvar_levels[var])]\n\u001b[0;32m-> 1000\u001b[0m comp \u001b[38;5;241m=\u001b[39m pd\u001b[38;5;241m.\u001b[39mto_numeric(converter\u001b[38;5;241m.\u001b[39mconvert_units(orig))\u001b[38;5;241m.\u001b[39mastype(\u001b[38;5;28mfloat\u001b[39m)\n\u001b[1;32m   1001\u001b[0m transform \u001b[38;5;241m=\u001b[39m converter\u001b[38;5;241m.\u001b[39mget_transform()\u001b[38;5;241m.\u001b[39mtransform\n\u001b[1;32m   1002\u001b[0m parts\u001b[38;5;241m.\u001b[39mappend(pd\u001b[38;5;241m.\u001b[39mSeries(transform(comp), orig\u001b[38;5;241m.\u001b[39mindex, name\u001b[38;5;241m=\u001b[39morig\u001b[38;5;241m.\u001b[39mname))\n",
      "File \u001b[0;32m/opt/anaconda3/lib/python3.12/site-packages/pandas/core/tools/numeric.py:232\u001b[0m, in \u001b[0;36mto_numeric\u001b[0;34m(arg, errors, downcast, dtype_backend)\u001b[0m\n\u001b[1;32m    230\u001b[0m coerce_numeric \u001b[38;5;241m=\u001b[39m errors \u001b[38;5;129;01mnot\u001b[39;00m \u001b[38;5;129;01min\u001b[39;00m (\u001b[38;5;124m\"\u001b[39m\u001b[38;5;124mignore\u001b[39m\u001b[38;5;124m\"\u001b[39m, \u001b[38;5;124m\"\u001b[39m\u001b[38;5;124mraise\u001b[39m\u001b[38;5;124m\"\u001b[39m)\n\u001b[1;32m    231\u001b[0m \u001b[38;5;28;01mtry\u001b[39;00m:\n\u001b[0;32m--> 232\u001b[0m     values, new_mask \u001b[38;5;241m=\u001b[39m lib\u001b[38;5;241m.\u001b[39mmaybe_convert_numeric(  \u001b[38;5;66;03m# type: ignore[call-overload]\u001b[39;00m\n\u001b[1;32m    233\u001b[0m         values,\n\u001b[1;32m    234\u001b[0m         \u001b[38;5;28mset\u001b[39m(),\n\u001b[1;32m    235\u001b[0m         coerce_numeric\u001b[38;5;241m=\u001b[39mcoerce_numeric,\n\u001b[1;32m    236\u001b[0m         convert_to_masked_nullable\u001b[38;5;241m=\u001b[39mdtype_backend \u001b[38;5;129;01mis\u001b[39;00m \u001b[38;5;129;01mnot\u001b[39;00m lib\u001b[38;5;241m.\u001b[39mno_default\n\u001b[1;32m    237\u001b[0m         \u001b[38;5;129;01mor\u001b[39;00m \u001b[38;5;28misinstance\u001b[39m(values_dtype, StringDtype)\n\u001b[1;32m    238\u001b[0m         \u001b[38;5;129;01mand\u001b[39;00m \u001b[38;5;129;01mnot\u001b[39;00m values_dtype\u001b[38;5;241m.\u001b[39mstorage \u001b[38;5;241m==\u001b[39m \u001b[38;5;124m\"\u001b[39m\u001b[38;5;124mpyarrow_numpy\u001b[39m\u001b[38;5;124m\"\u001b[39m,\n\u001b[1;32m    239\u001b[0m     )\n\u001b[1;32m    240\u001b[0m \u001b[38;5;28;01mexcept\u001b[39;00m (\u001b[38;5;167;01mValueError\u001b[39;00m, \u001b[38;5;167;01mTypeError\u001b[39;00m):\n\u001b[1;32m    241\u001b[0m     \u001b[38;5;28;01mif\u001b[39;00m errors \u001b[38;5;241m==\u001b[39m \u001b[38;5;124m\"\u001b[39m\u001b[38;5;124mraise\u001b[39m\u001b[38;5;124m\"\u001b[39m:\n",
      "File \u001b[0;32mlib.pyx:2433\u001b[0m, in \u001b[0;36mpandas._libs.lib.maybe_convert_numeric\u001b[0;34m()\u001b[0m\n",
      "\u001b[0;31mValueError\u001b[0m: Unable to parse string \"likes\" at position 374362"
     ]
    },
    {
     "data": {
      "image/png": "[encoded data removed]",
      "text/plain": [
       "<Figure size 1200x800 with 1 Axes>"
      ]
     },
     "metadata": {},
     "output_type": "display_data"
    }
   ],
   "source": [
    "import seaborn as sns\n",
    "import matplotlib.pyplot as plt\n",
    "\n",
    "plt.figure(figsize=(12,8))\n",
    "sns.boxplot(x = 'Category_name', y= 'likes', data = df)\n",
    "plt.xticks(rotation='vertical')\n",
    "\n"
   ]
  },
  {
   "cell_type": "code",
   "execution_count": 207,
   "id": "7cc111ae-611c-4bda-971a-5a5eb1dac151",
   "metadata": {},
   "outputs": [
    {
     "data": {
      "text/plain": [
       "Index(['video_id', 'trending_date', 'title', 'channel_title', 'category_id',\n",
       "       'publish_time', 'tags', 'views', 'likes', 'dislikes', 'comment_count',\n",
       "       'thumbnail_link', 'comments_disabled', 'ratings_disabled',\n",
       "       'video_error_or_removed', 'description', 'comment_text', 'replies',\n",
       "       'Category_name', 'like_views', 'dislike_views', 'comment_views'],\n",
       "      dtype='object')"
      ]
     },
     "execution_count": 207,
     "metadata": {},
     "output_type": "execute_result"
    }
   ],
   "source": [
    "df['like_views'] = (df['likes']/df['views'])*100\n",
    "df['dislike_views'] = (df['dislikes']/df['views'])*100\n",
    "df['comment_views'] = (df['comment_count']/df['views'])*100\n",
    "df.columns"
   ]
  },
  {
   "cell_type": "code",
   "execution_count": 209,
   "id": "e3b35b63-a730-45d3-b814-9b24b6be63f6",
   "metadata": {},
   "outputs": [
    {
     "data": {
      "image/png": "[encoded data removed]",
      "text/plain": [
       "<Figure size 800x600 with 1 Axes>"
      ]
     },
     "metadata": {},
     "output_type": "display_data"
    }
   ],
   "source": [
    "import seaborn as sns\n",
    "import matplotlib.pyplot as plt\n",
    "\n",
    "plt.figure(figsize=(8,6))\n",
    "sns.boxplot(x = 'Category_name', y= 'like_views', data = df)\n",
    "plt.xticks(rotation='vertical')\n",
    "plt.show()"
   ]
  },
  {
   "cell_type": "code",
   "execution_count": 201,
   "id": "20fd849e-aa38-4e04-b3d8-de07d2a51fce",
   "metadata": {},
   "outputs": [
    {
     "ename": "TypeError",
     "evalue": "ufunc 'isfinite' not supported for the input types, and the inputs could not be safely coerced to any supported types according to the casting rule ''safe''",
     "output_type": "error",
     "traceback": [
      "\u001b[0;31m---------------------------------------------------------------------------\u001b[0m",
      "\u001b[0;31mTypeError\u001b[0m                                 Traceback (most recent call last)",
      "Cell \u001b[0;32mIn[201], line 1\u001b[0m\n\u001b[0;32m----> 1\u001b[0m sns\u001b[38;5;241m.\u001b[39mregplot(x\u001b[38;5;241m=\u001b[39m\u001b[38;5;124m'\u001b[39m\u001b[38;5;124mviews\u001b[39m\u001b[38;5;124m'\u001b[39m, y\u001b[38;5;241m=\u001b[39m\u001b[38;5;124m'\u001b[39m\u001b[38;5;124mlikes\u001b[39m\u001b[38;5;124m'\u001b[39m, data\u001b[38;5;241m=\u001b[39mdf)\n",
      "File \u001b[0;32m/opt/anaconda3/lib/python3.12/site-packages/seaborn/regression.py:775\u001b[0m, in \u001b[0;36mregplot\u001b[0;34m(data, x, y, x_estimator, x_bins, x_ci, scatter, fit_reg, ci, n_boot, units, seed, order, logistic, lowess, robust, logx, x_partial, y_partial, truncate, dropna, x_jitter, y_jitter, label, color, marker, scatter_kws, line_kws, ax)\u001b[0m\n\u001b[1;32m    773\u001b[0m scatter_kws[\u001b[38;5;124m\"\u001b[39m\u001b[38;5;124mmarker\u001b[39m\u001b[38;5;124m\"\u001b[39m] \u001b[38;5;241m=\u001b[39m marker\n\u001b[1;32m    774\u001b[0m line_kws \u001b[38;5;241m=\u001b[39m {} \u001b[38;5;28;01mif\u001b[39;00m line_kws \u001b[38;5;129;01mis\u001b[39;00m \u001b[38;5;28;01mNone\u001b[39;00m \u001b[38;5;28;01melse\u001b[39;00m copy\u001b[38;5;241m.\u001b[39mcopy(line_kws)\n\u001b[0;32m--> 775\u001b[0m plotter\u001b[38;5;241m.\u001b[39mplot(ax, scatter_kws, line_kws)\n\u001b[1;32m    776\u001b[0m \u001b[38;5;28;01mreturn\u001b[39;00m ax\n",
      "File \u001b[0;32m/opt/anaconda3/lib/python3.12/site-packages/seaborn/regression.py:384\u001b[0m, in \u001b[0;36m_RegressionPlotter.plot\u001b[0;34m(self, ax, scatter_kws, line_kws)\u001b[0m\n\u001b[1;32m    381\u001b[0m     \u001b[38;5;28mself\u001b[39m\u001b[38;5;241m.\u001b[39mscatterplot(ax, scatter_kws)\n\u001b[1;32m    383\u001b[0m \u001b[38;5;28;01mif\u001b[39;00m \u001b[38;5;28mself\u001b[39m\u001b[38;5;241m.\u001b[39mfit_reg:\n\u001b[0;32m--> 384\u001b[0m     \u001b[38;5;28mself\u001b[39m\u001b[38;5;241m.\u001b[39mlineplot(ax, line_kws)\n\u001b[1;32m    386\u001b[0m \u001b[38;5;66;03m# Label the axes\u001b[39;00m\n\u001b[1;32m    387\u001b[0m \u001b[38;5;28;01mif\u001b[39;00m \u001b[38;5;28mhasattr\u001b[39m(\u001b[38;5;28mself\u001b[39m\u001b[38;5;241m.\u001b[39mx, \u001b[38;5;124m\"\u001b[39m\u001b[38;5;124mname\u001b[39m\u001b[38;5;124m\"\u001b[39m):\n",
      "File \u001b[0;32m/opt/anaconda3/lib/python3.12/site-packages/seaborn/regression.py:442\u001b[0m, in \u001b[0;36m_RegressionPlotter.lineplot\u001b[0;34m(self, ax, kws)\u001b[0m\n\u001b[1;32m    440\u001b[0m     line\u001b[38;5;241m.\u001b[39msticky_edges\u001b[38;5;241m.\u001b[39mx[:] \u001b[38;5;241m=\u001b[39m edges  \u001b[38;5;66;03m# Prevent mpl from adding margin\u001b[39;00m\n\u001b[1;32m    441\u001b[0m \u001b[38;5;28;01mif\u001b[39;00m err_bands \u001b[38;5;129;01mis\u001b[39;00m \u001b[38;5;129;01mnot\u001b[39;00m \u001b[38;5;28;01mNone\u001b[39;00m:\n\u001b[0;32m--> 442\u001b[0m     ax\u001b[38;5;241m.\u001b[39mfill_between(grid, \u001b[38;5;241m*\u001b[39merr_bands, facecolor\u001b[38;5;241m=\u001b[39mfill_color, alpha\u001b[38;5;241m=\u001b[39m\u001b[38;5;241m.15\u001b[39m)\n",
      "File \u001b[0;32m/opt/anaconda3/lib/python3.12/site-packages/matplotlib/__init__.py:1473\u001b[0m, in \u001b[0;36m_preprocess_data.<locals>.inner\u001b[0;34m(ax, data, *args, **kwargs)\u001b[0m\n\u001b[1;32m   1470\u001b[0m \u001b[38;5;129m@functools\u001b[39m\u001b[38;5;241m.\u001b[39mwraps(func)\n\u001b[1;32m   1471\u001b[0m \u001b[38;5;28;01mdef\u001b[39;00m \u001b[38;5;21minner\u001b[39m(ax, \u001b[38;5;241m*\u001b[39margs, data\u001b[38;5;241m=\u001b[39m\u001b[38;5;28;01mNone\u001b[39;00m, \u001b[38;5;241m*\u001b[39m\u001b[38;5;241m*\u001b[39mkwargs):\n\u001b[1;32m   1472\u001b[0m     \u001b[38;5;28;01mif\u001b[39;00m data \u001b[38;5;129;01mis\u001b[39;00m \u001b[38;5;28;01mNone\u001b[39;00m:\n\u001b[0;32m-> 1473\u001b[0m         \u001b[38;5;28;01mreturn\u001b[39;00m func(\n\u001b[1;32m   1474\u001b[0m             ax,\n\u001b[1;32m   1475\u001b[0m             \u001b[38;5;241m*\u001b[39m\u001b[38;5;28mmap\u001b[39m(sanitize_sequence, args),\n\u001b[1;32m   1476\u001b[0m             \u001b[38;5;241m*\u001b[39m\u001b[38;5;241m*\u001b[39m{k: sanitize_sequence(v) \u001b[38;5;28;01mfor\u001b[39;00m k, v \u001b[38;5;129;01min\u001b[39;00m kwargs\u001b[38;5;241m.\u001b[39mitems()})\n\u001b[1;32m   1478\u001b[0m     bound \u001b[38;5;241m=\u001b[39m new_sig\u001b[38;5;241m.\u001b[39mbind(ax, \u001b[38;5;241m*\u001b[39margs, \u001b[38;5;241m*\u001b[39m\u001b[38;5;241m*\u001b[39mkwargs)\n\u001b[1;32m   1479\u001b[0m     auto_label \u001b[38;5;241m=\u001b[39m (bound\u001b[38;5;241m.\u001b[39marguments\u001b[38;5;241m.\u001b[39mget(label_namer)\n\u001b[1;32m   1480\u001b[0m                   \u001b[38;5;129;01mor\u001b[39;00m bound\u001b[38;5;241m.\u001b[39mkwargs\u001b[38;5;241m.\u001b[39mget(label_namer))\n",
      "File \u001b[0;32m/opt/anaconda3/lib/python3.12/site-packages/matplotlib/axes/_axes.py:5648\u001b[0m, in \u001b[0;36mAxes.fill_between\u001b[0;34m(self, x, y1, y2, where, interpolate, step, **kwargs)\u001b[0m\n\u001b[1;32m   5646\u001b[0m \u001b[38;5;28;01mdef\u001b[39;00m \u001b[38;5;21mfill_between\u001b[39m(\u001b[38;5;28mself\u001b[39m, x, y1, y2\u001b[38;5;241m=\u001b[39m\u001b[38;5;241m0\u001b[39m, where\u001b[38;5;241m=\u001b[39m\u001b[38;5;28;01mNone\u001b[39;00m, interpolate\u001b[38;5;241m=\u001b[39m\u001b[38;5;28;01mFalse\u001b[39;00m,\n\u001b[1;32m   5647\u001b[0m                  step\u001b[38;5;241m=\u001b[39m\u001b[38;5;28;01mNone\u001b[39;00m, \u001b[38;5;241m*\u001b[39m\u001b[38;5;241m*\u001b[39mkwargs):\n\u001b[0;32m-> 5648\u001b[0m     \u001b[38;5;28;01mreturn\u001b[39;00m \u001b[38;5;28mself\u001b[39m\u001b[38;5;241m.\u001b[39m_fill_between_x_or_y(\n\u001b[1;32m   5649\u001b[0m         \u001b[38;5;124m\"\u001b[39m\u001b[38;5;124mx\u001b[39m\u001b[38;5;124m\"\u001b[39m, x, y1, y2,\n\u001b[1;32m   5650\u001b[0m         where\u001b[38;5;241m=\u001b[39mwhere, interpolate\u001b[38;5;241m=\u001b[39minterpolate, step\u001b[38;5;241m=\u001b[39mstep, \u001b[38;5;241m*\u001b[39m\u001b[38;5;241m*\u001b[39mkwargs)\n",
      "File \u001b[0;32m/opt/anaconda3/lib/python3.12/site-packages/matplotlib/axes/_axes.py:5548\u001b[0m, in \u001b[0;36mAxes._fill_between_x_or_y\u001b[0;34m(self, ind_dir, ind, dep1, dep2, where, interpolate, step, **kwargs)\u001b[0m\n\u001b[1;32m   5544\u001b[0m         kwargs[\u001b[38;5;124m\"\u001b[39m\u001b[38;5;124mfacecolor\u001b[39m\u001b[38;5;124m\"\u001b[39m] \u001b[38;5;241m=\u001b[39m \\\n\u001b[1;32m   5545\u001b[0m             \u001b[38;5;28mself\u001b[39m\u001b[38;5;241m.\u001b[39m_get_patches_for_fill\u001b[38;5;241m.\u001b[39mget_next_color()\n\u001b[1;32m   5547\u001b[0m \u001b[38;5;66;03m# Handle united data, such as dates\u001b[39;00m\n\u001b[0;32m-> 5548\u001b[0m ind, dep1, dep2 \u001b[38;5;241m=\u001b[39m \u001b[38;5;28mmap\u001b[39m(\n\u001b[1;32m   5549\u001b[0m     ma\u001b[38;5;241m.\u001b[39mmasked_invalid, \u001b[38;5;28mself\u001b[39m\u001b[38;5;241m.\u001b[39m_process_unit_info(\n\u001b[1;32m   5550\u001b[0m         [(ind_dir, ind), (dep_dir, dep1), (dep_dir, dep2)], kwargs))\n\u001b[1;32m   5552\u001b[0m \u001b[38;5;28;01mfor\u001b[39;00m name, array \u001b[38;5;129;01min\u001b[39;00m [\n\u001b[1;32m   5553\u001b[0m         (ind_dir, ind), (\u001b[38;5;124mf\u001b[39m\u001b[38;5;124m\"\u001b[39m\u001b[38;5;132;01m{\u001b[39;00mdep_dir\u001b[38;5;132;01m}\u001b[39;00m\u001b[38;5;124m1\u001b[39m\u001b[38;5;124m\"\u001b[39m, dep1), (\u001b[38;5;124mf\u001b[39m\u001b[38;5;124m\"\u001b[39m\u001b[38;5;132;01m{\u001b[39;00mdep_dir\u001b[38;5;132;01m}\u001b[39;00m\u001b[38;5;124m2\u001b[39m\u001b[38;5;124m\"\u001b[39m, dep2)]:\n\u001b[1;32m   5554\u001b[0m     \u001b[38;5;28;01mif\u001b[39;00m array\u001b[38;5;241m.\u001b[39mndim \u001b[38;5;241m>\u001b[39m \u001b[38;5;241m1\u001b[39m:\n",
      "File \u001b[0;32m/opt/anaconda3/lib/python3.12/site-packages/numpy/ma/core.py:2360\u001b[0m, in \u001b[0;36mmasked_invalid\u001b[0;34m(a, copy)\u001b[0m\n\u001b[1;32m   2333\u001b[0m \u001b[38;5;250m\u001b[39m\u001b[38;5;124;03m\"\"\"\u001b[39;00m\n\u001b[1;32m   2334\u001b[0m \u001b[38;5;124;03mMask an array where invalid values occur (NaNs or infs).\u001b[39;00m\n\u001b[1;32m   2335\u001b[0m \n\u001b[0;32m   (...)\u001b[0m\n\u001b[1;32m   2357\u001b[0m \n\u001b[1;32m   2358\u001b[0m \u001b[38;5;124;03m\"\"\"\u001b[39;00m\n\u001b[1;32m   2359\u001b[0m a \u001b[38;5;241m=\u001b[39m np\u001b[38;5;241m.\u001b[39marray(a, copy\u001b[38;5;241m=\u001b[39m\u001b[38;5;28;01mFalse\u001b[39;00m, subok\u001b[38;5;241m=\u001b[39m\u001b[38;5;28;01mTrue\u001b[39;00m)\n\u001b[0;32m-> 2360\u001b[0m res \u001b[38;5;241m=\u001b[39m masked_where(\u001b[38;5;241m~\u001b[39m(np\u001b[38;5;241m.\u001b[39misfinite(a)), a, copy\u001b[38;5;241m=\u001b[39mcopy)\n\u001b[1;32m   2361\u001b[0m \u001b[38;5;66;03m# masked_invalid previously never returned nomask as a mask and doing so\u001b[39;00m\n\u001b[1;32m   2362\u001b[0m \u001b[38;5;66;03m# threw off matplotlib (gh-22842).  So use shrink=False:\u001b[39;00m\n\u001b[1;32m   2363\u001b[0m \u001b[38;5;28;01mif\u001b[39;00m res\u001b[38;5;241m.\u001b[39m_mask \u001b[38;5;129;01mis\u001b[39;00m nomask:\n",
      "\u001b[0;31mTypeError\u001b[0m: ufunc 'isfinite' not supported for the input types, and the inputs could not be safely coerced to any supported types according to the casting rule ''safe''"
     ]
    },
    {
     "data": {
      "image/png": "[encoded data removed]",
      "text/plain": [
       "<Figure size 640x480 with 1 Axes>"
      ]
     },
     "metadata": {},
     "output_type": "display_data"
    }
   ],
   "source": [
    "sns.regplot(x='views', y='likes', data=df)"
   ]
  },
  {
   "cell_type": "code",
   "execution_count": null,
   "id": "fbcaff9b-b07f-4c31-af84-435c859466bb",
   "metadata": {},
   "outputs": [],
   "source": [
    "df[['likes','views','dislikes']].corr()"
   ]
  },
  {
   "cell_type": "code",
   "execution_count": null,
   "id": "9e21fef2-5315-4662-9f68-e4d9cf1f4064",
   "metadata": {},
   "outputs": [],
   "source": [
    "sns.heatmap(df[['likes','views','dislikes']].corr(), annot=True)"
   ]
  },
  {
   "cell_type": "code",
   "execution_count": 211,
   "id": "b1195946-a40c-48c6-b047-d2284f447965",
   "metadata": {},
   "outputs": [
    {
     "data": {
      "text/html": [
       "<div>\n",
       "<style scoped>\n",
       "    .dataframe tbody tr th:only-of-type {\n",
       "        vertical-align: middle;\n",
       "    }\n",
       "\n",
       "    .dataframe tbody tr th {\n",
       "        vertical-align: top;\n",
       "    }\n",
       "\n",
       "    .dataframe thead th {\n",
       "        text-align: right;\n",
       "    }\n",
       "</style>\n",
       "<table border=\"1\" class=\"dataframe\">\n",
       "  <thead>\n",
       "    <tr style=\"text-align: right;\">\n",
       "      <th></th>\n",
       "      <th>video_id</th>\n",
       "      <th>trending_date</th>\n",
       "      <th>title</th>\n",
       "      <th>channel_title</th>\n",
       "      <th>category_id</th>\n",
       "      <th>publish_time</th>\n",
       "      <th>tags</th>\n",
       "      <th>views</th>\n",
       "      <th>likes</th>\n",
       "      <th>dislikes</th>\n",
       "      <th>...</th>\n",
       "      <th>comments_disabled</th>\n",
       "      <th>ratings_disabled</th>\n",
       "      <th>video_error_or_removed</th>\n",
       "      <th>description</th>\n",
       "      <th>comment_text</th>\n",
       "      <th>replies</th>\n",
       "      <th>Category_name</th>\n",
       "      <th>like_views</th>\n",
       "      <th>dislike_views</th>\n",
       "      <th>comment_views</th>\n",
       "    </tr>\n",
       "  </thead>\n",
       "  <tbody>\n",
       "    <tr>\n",
       "      <th>0</th>\n",
       "      <td>SbOwzAl9ZfQ</td>\n",
       "      <td>17.14.11</td>\n",
       "      <td>CapÃ­tulo 12 | MasterChef 2017</td>\n",
       "      <td>MasterChef 2017</td>\n",
       "      <td>24.0</td>\n",
       "      <td>2017-11-13T06:06:22.000Z</td>\n",
       "      <td>MasterChef Junior 2017|\"TV Azteca\"|\"recetas\"|\"...</td>\n",
       "      <td>310130.0</td>\n",
       "      <td>4182</td>\n",
       "      <td>361.0</td>\n",
       "      <td>...</td>\n",
       "      <td>False</td>\n",
       "      <td>False</td>\n",
       "      <td>False</td>\n",
       "      <td>Disfruta la presencia del Chef Torreblanca en ...</td>\n",
       "      <td>NaN</td>\n",
       "      <td>NaN</td>\n",
       "      <td>Entertainment</td>\n",
       "      <td>1.348467</td>\n",
       "      <td>0.116403</td>\n",
       "      <td>0.592010</td>\n",
       "    </tr>\n",
       "    <tr>\n",
       "      <th>1</th>\n",
       "      <td>klOV6Xh-DnI</td>\n",
       "      <td>17.14.11</td>\n",
       "      <td>ALEXA EX-INTEGRANTE DEL GRUPO TIMBIRICHE RENUN...</td>\n",
       "      <td>Micky Contreras Martinez</td>\n",
       "      <td>22.0</td>\n",
       "      <td>2017-11-13T05:11:58.000Z</td>\n",
       "      <td>La Voz Mexico 7</td>\n",
       "      <td>104972.0</td>\n",
       "      <td>271</td>\n",
       "      <td>174.0</td>\n",
       "      <td>...</td>\n",
       "      <td>False</td>\n",
       "      <td>False</td>\n",
       "      <td>False</td>\n",
       "      <td>ALEXA EX-INTEGRANTE DEL GRUPO TIMBIRICHE RENUN...</td>\n",
       "      <td>NaN</td>\n",
       "      <td>NaN</td>\n",
       "      <td>People &amp; Blogs</td>\n",
       "      <td>0.258164</td>\n",
       "      <td>0.165758</td>\n",
       "      <td>0.351522</td>\n",
       "    </tr>\n",
       "    <tr>\n",
       "      <th>2</th>\n",
       "      <td>6L2ZF7Qzsbk</td>\n",
       "      <td>17.14.11</td>\n",
       "      <td>LOUIS CKAGÃ - EL PULSO DE LA REPÃBLICA</td>\n",
       "      <td>El Pulso De La RepÃºblica</td>\n",
       "      <td>25.0</td>\n",
       "      <td>2017-11-13T17:00:02.000Z</td>\n",
       "      <td>Chumel Torres|\"El Pulso de la Republica\"|\"noti...</td>\n",
       "      <td>136064.0</td>\n",
       "      <td>10105</td>\n",
       "      <td>266.0</td>\n",
       "      <td>...</td>\n",
       "      <td>False</td>\n",
       "      <td>False</td>\n",
       "      <td>False</td>\n",
       "      <td>La canciÃ³n del principio se llama âEste esp...</td>\n",
       "      <td>NaN</td>\n",
       "      <td>NaN</td>\n",
       "      <td>News &amp; Politics</td>\n",
       "      <td>7.426652</td>\n",
       "      <td>0.195496</td>\n",
       "      <td>0.446114</td>\n",
       "    </tr>\n",
       "    <tr>\n",
       "      <th>3</th>\n",
       "      <td>hcY52MFWMDM</td>\n",
       "      <td>17.14.11</td>\n",
       "      <td>Sismo de 6.7 sacude Costa Rica 12 Noviembre 2017</td>\n",
       "      <td>Casanare</td>\n",
       "      <td>25.0</td>\n",
       "      <td>2017-11-13T03:47:10.000Z</td>\n",
       "      <td>temblor|\"costa rica\"|\"sismo en costa rica\"</td>\n",
       "      <td>96153.0</td>\n",
       "      <td>378</td>\n",
       "      <td>171.0</td>\n",
       "      <td>...</td>\n",
       "      <td>False</td>\n",
       "      <td>False</td>\n",
       "      <td>False</td>\n",
       "      <td>El video es de un Walmart en el pais centroame...</td>\n",
       "      <td>NaN</td>\n",
       "      <td>NaN</td>\n",
       "      <td>News &amp; Politics</td>\n",
       "      <td>0.393123</td>\n",
       "      <td>0.177842</td>\n",
       "      <td>0.216322</td>\n",
       "    </tr>\n",
       "    <tr>\n",
       "      <th>4</th>\n",
       "      <td>_OXDcGPVAa4</td>\n",
       "      <td>17.14.11</td>\n",
       "      <td>DOG HACKS | MUSAS LESSLIE LOS POLINESIOS</td>\n",
       "      <td>Musas</td>\n",
       "      <td>26.0</td>\n",
       "      <td>2017-11-13T19:17:48.000Z</td>\n",
       "      <td>MUSAS|\"lesslie\"|\"karen\"|\"hacks\"|\"perros\"|\"dogs...</td>\n",
       "      <td>499965.0</td>\n",
       "      <td>57781</td>\n",
       "      <td>681.0</td>\n",
       "      <td>...</td>\n",
       "      <td>False</td>\n",
       "      <td>False</td>\n",
       "      <td>False</td>\n",
       "      <td>MI HERMANO NARRA MI RUTINA DE MAQUILLAJE\\nhttp...</td>\n",
       "      <td>NaN</td>\n",
       "      <td>NaN</td>\n",
       "      <td>Howto &amp; Style</td>\n",
       "      <td>11.557009</td>\n",
       "      <td>0.136210</td>\n",
       "      <td>1.485704</td>\n",
       "    </tr>\n",
       "    <tr>\n",
       "      <th>5</th>\n",
       "      <td>Q9kK6NWZR1U</td>\n",
       "      <td>17.14.11</td>\n",
       "      <td>Asi se sintio Terremoto en iraq al bordo de ir...</td>\n",
       "      <td>MÃSICA &amp; ENTRETENIMIENTO</td>\n",
       "      <td>10.0</td>\n",
       "      <td>2017-11-12T20:17:38.000Z</td>\n",
       "      <td>[none]</td>\n",
       "      <td>129645.0</td>\n",
       "      <td>506</td>\n",
       "      <td>67.0</td>\n",
       "      <td>...</td>\n",
       "      <td>False</td>\n",
       "      <td>False</td>\n",
       "      <td>False</td>\n",
       "      <td>Un fuerte sismo ha afectado en la noche de est...</td>\n",
       "      <td>NaN</td>\n",
       "      <td>NaN</td>\n",
       "      <td>Music</td>\n",
       "      <td>0.390297</td>\n",
       "      <td>0.051680</td>\n",
       "      <td>0.184350</td>\n",
       "    </tr>\n",
       "  </tbody>\n",
       "</table>\n",
       "<p>6 rows × 22 columns</p>\n",
       "</div>"
      ],
      "text/plain": [
       "      video_id trending_date  \\\n",
       "0  SbOwzAl9ZfQ      17.14.11   \n",
       "1  klOV6Xh-DnI      17.14.11   \n",
       "2  6L2ZF7Qzsbk      17.14.11   \n",
       "3  hcY52MFWMDM      17.14.11   \n",
       "4  _OXDcGPVAa4      17.14.11   \n",
       "5  Q9kK6NWZR1U      17.14.11   \n",
       "\n",
       "                                               title  \\\n",
       "0                     CapÃ­tulo 12 | MasterChef 2017   \n",
       "1  ALEXA EX-INTEGRANTE DEL GRUPO TIMBIRICHE RENUN...   \n",
       "2           LOUIS CKAGÃ - EL PULSO DE LA REPÃBLICA   \n",
       "3   Sismo de 6.7 sacude Costa Rica 12 Noviembre 2017   \n",
       "4           DOG HACKS | MUSAS LESSLIE LOS POLINESIOS   \n",
       "5  Asi se sintio Terremoto en iraq al bordo de ir...   \n",
       "\n",
       "               channel_title  category_id              publish_time  \\\n",
       "0            MasterChef 2017         24.0  2017-11-13T06:06:22.000Z   \n",
       "1   Micky Contreras Martinez         22.0  2017-11-13T05:11:58.000Z   \n",
       "2  El Pulso De La RepÃºblica         25.0  2017-11-13T17:00:02.000Z   \n",
       "3                   Casanare         25.0  2017-11-13T03:47:10.000Z   \n",
       "4                      Musas         26.0  2017-11-13T19:17:48.000Z   \n",
       "5  MÃSICA & ENTRETENIMIENTO         10.0  2017-11-12T20:17:38.000Z   \n",
       "\n",
       "                                                tags     views  likes  \\\n",
       "0  MasterChef Junior 2017|\"TV Azteca\"|\"recetas\"|\"...  310130.0   4182   \n",
       "1                                    La Voz Mexico 7  104972.0    271   \n",
       "2  Chumel Torres|\"El Pulso de la Republica\"|\"noti...  136064.0  10105   \n",
       "3         temblor|\"costa rica\"|\"sismo en costa rica\"   96153.0    378   \n",
       "4  MUSAS|\"lesslie\"|\"karen\"|\"hacks\"|\"perros\"|\"dogs...  499965.0  57781   \n",
       "5                                             [none]  129645.0    506   \n",
       "\n",
       "   dislikes  ...  comments_disabled ratings_disabled video_error_or_removed  \\\n",
       "0     361.0  ...              False            False                  False   \n",
       "1     174.0  ...              False            False                  False   \n",
       "2     266.0  ...              False            False                  False   \n",
       "3     171.0  ...              False            False                  False   \n",
       "4     681.0  ...              False            False                  False   \n",
       "5      67.0  ...              False            False                  False   \n",
       "\n",
       "                                         description comment_text replies  \\\n",
       "0  Disfruta la presencia del Chef Torreblanca en ...          NaN     NaN   \n",
       "1  ALEXA EX-INTEGRANTE DEL GRUPO TIMBIRICHE RENUN...          NaN     NaN   \n",
       "2  La canciÃ³n del principio se llama âEste esp...          NaN     NaN   \n",
       "3  El video es de un Walmart en el pais centroame...          NaN     NaN   \n",
       "4  MI HERMANO NARRA MI RUTINA DE MAQUILLAJE\\nhttp...          NaN     NaN   \n",
       "5  Un fuerte sismo ha afectado en la noche de est...          NaN     NaN   \n",
       "\n",
       "     Category_name like_views dislike_views comment_views  \n",
       "0    Entertainment   1.348467      0.116403      0.592010  \n",
       "1   People & Blogs   0.258164      0.165758      0.351522  \n",
       "2  News & Politics   7.426652      0.195496      0.446114  \n",
       "3  News & Politics   0.393123      0.177842      0.216322  \n",
       "4    Howto & Style  11.557009      0.136210      1.485704  \n",
       "5            Music   0.390297      0.051680      0.184350  \n",
       "\n",
       "[6 rows x 22 columns]"
      ]
     },
     "execution_count": 211,
     "metadata": {},
     "output_type": "execute_result"
    }
   ],
   "source": [
    "df.head(6)"
   ]
  },
  {
   "cell_type": "code",
   "execution_count": 215,
   "id": "9108ad2b-6c54-4b83-9234-2a7eb7758b26",
   "metadata": {},
   "outputs": [
    {
     "data": {
      "text/plain": [
       "channel_title\n",
       "The Late Show with Stephen Colbert    710\n",
       "WWE                                   643\n",
       "Late Night with Seth Meyers           592\n",
       "TheEllenShow                          555\n",
       "Jimmy Kimmel Live                     528\n",
       "                                     ... \n",
       "ABIZ ENT BUZZ                           1\n",
       "JENNYMOMENT                             1\n",
       "Drache Offiziell                        1\n",
       "Jules                                   1\n",
       "The Chainsmokers                        1\n",
       "Name: count, Length: 37824, dtype: int64"
      ]
     },
     "execution_count": 215,
     "metadata": {},
     "output_type": "execute_result"
    }
   ],
   "source": [
    "df['channel_title'].value_counts()"
   ]
  },
  {
   "cell_type": "code",
   "execution_count": 227,
   "id": "fc1da953-6a58-4291-9ef4-d2fe3ccc64fd",
   "metadata": {},
   "outputs": [],
   "source": [
    "cdf = df.groupby(['channel_title']).size().sort_values(ascending=False).reset_index()"
   ]
  },
  {
   "cell_type": "code",
   "execution_count": 235,
   "id": "afdbd9c8-19d8-459a-92d5-b617e839e10c",
   "metadata": {},
   "outputs": [],
   "source": [
    "cdf.rename(columns = {0:'total_videos'}, inplace = True)"
   ]
  },
  {
   "cell_type": "code",
   "execution_count": 237,
   "id": "2aff2312-8216-408a-9261-57a10ab273e6",
   "metadata": {},
   "outputs": [
    {
     "data": {
      "text/html": [
       "<div>\n",
       "<style scoped>\n",
       "    .dataframe tbody tr th:only-of-type {\n",
       "        vertical-align: middle;\n",
       "    }\n",
       "\n",
       "    .dataframe tbody tr th {\n",
       "        vertical-align: top;\n",
       "    }\n",
       "\n",
       "    .dataframe thead th {\n",
       "        text-align: right;\n",
       "    }\n",
       "</style>\n",
       "<table border=\"1\" class=\"dataframe\">\n",
       "  <thead>\n",
       "    <tr style=\"text-align: right;\">\n",
       "      <th></th>\n",
       "      <th>channel_title</th>\n",
       "      <th>total_values</th>\n",
       "    </tr>\n",
       "  </thead>\n",
       "  <tbody>\n",
       "    <tr>\n",
       "      <th>0</th>\n",
       "      <td>The Late Show with Stephen Colbert</td>\n",
       "      <td>710</td>\n",
       "    </tr>\n",
       "    <tr>\n",
       "      <th>1</th>\n",
       "      <td>WWE</td>\n",
       "      <td>643</td>\n",
       "    </tr>\n",
       "    <tr>\n",
       "      <th>2</th>\n",
       "      <td>Late Night with Seth Meyers</td>\n",
       "      <td>592</td>\n",
       "    </tr>\n",
       "    <tr>\n",
       "      <th>3</th>\n",
       "      <td>TheEllenShow</td>\n",
       "      <td>555</td>\n",
       "    </tr>\n",
       "    <tr>\n",
       "      <th>4</th>\n",
       "      <td>Jimmy Kimmel Live</td>\n",
       "      <td>528</td>\n",
       "    </tr>\n",
       "    <tr>\n",
       "      <th>...</th>\n",
       "      <td>...</td>\n",
       "      <td>...</td>\n",
       "    </tr>\n",
       "    <tr>\n",
       "      <th>37819</th>\n",
       "      <td>Kd Malts</td>\n",
       "      <td>1</td>\n",
       "    </tr>\n",
       "    <tr>\n",
       "      <th>37820</th>\n",
       "      <td>Zedan TV</td>\n",
       "      <td>1</td>\n",
       "    </tr>\n",
       "    <tr>\n",
       "      <th>37821</th>\n",
       "      <td>Kc Kelly - Rocketprenuer</td>\n",
       "      <td>1</td>\n",
       "    </tr>\n",
       "    <tr>\n",
       "      <th>37822</th>\n",
       "      <td>Kbaby</td>\n",
       "      <td>1</td>\n",
       "    </tr>\n",
       "    <tr>\n",
       "      <th>37823</th>\n",
       "      <td>Pavel Sidorik TV</td>\n",
       "      <td>1</td>\n",
       "    </tr>\n",
       "  </tbody>\n",
       "</table>\n",
       "<p>37824 rows × 2 columns</p>\n",
       "</div>"
      ],
      "text/plain": [
       "                            channel_title  total_values\n",
       "0      The Late Show with Stephen Colbert           710\n",
       "1                                     WWE           643\n",
       "2             Late Night with Seth Meyers           592\n",
       "3                            TheEllenShow           555\n",
       "4                       Jimmy Kimmel Live           528\n",
       "...                                   ...           ...\n",
       "37819                            Kd Malts             1\n",
       "37820                            Zedan TV             1\n",
       "37821            Kc Kelly - Rocketprenuer             1\n",
       "37822                               Kbaby             1\n",
       "37823                    Pavel Sidorik TV             1\n",
       "\n",
       "[37824 rows x 2 columns]"
      ]
     },
     "execution_count": 237,
     "metadata": {},
     "output_type": "execute_result"
    }
   ],
   "source": [
    "cdf"
   ]
  },
  {
   "cell_type": "code",
   "execution_count": 239,
   "id": "9d238b62-9ab0-48ab-9a2b-4a5ee5bedcc1",
   "metadata": {},
   "outputs": [
    {
     "data": {
      "application/vnd.plotly.v1+json": {
       "config": {
        "plotlyServerURL": "https://plot.ly"
       },
       "data": [
        {
         "alignmentgroup": "True",
         "hovertemplate": "channel_title=%{x}<br>total_values=%{y}<extra></extra>",
         "legendgroup": "",
         "marker": {
          "color": "#636efa",
          "pattern": {
           "shape": ""
          }
         },
         "name": "",
         "offsetgroup": "",
         "orientation": "v",
         "showlegend": false,
         "textposition": "auto",
         "type": "bar",
         "x": [
          "The Late Show with Stephen Colbert",
          "WWE",
          "Late Night with Seth Meyers",
          "TheEllenShow",
          "Jimmy Kimmel Live",
          "PewDiePie",
          "The Tonight Show Starring Jimmy Fallon",
          "CNN",
          "The Late Late Show with James Corden",
          "ESPN",
          "FBE",
          "VikatanTV",
          "Netflix",
          "SET India",
          "MLG Highlights",
          "BuzzFeedVideo",
          "SMTOWN",
          "Ãukur",
          "Marvel Entertainment",
          "SAB TV"
         ],
         "xaxis": "x",
         "y": [
          710,
          643,
          592,
          555,
          528,
          511,
          509,
          500,
          453,
          452,
          439,
          435,
          410,
          405,
          382,
          361,
          359,
          356,
          352,
          351
         ],
         "yaxis": "y"
        }
       ],
       "layout": {
        "autosize": true,
        "barmode": "relative",
        "dragmode": "zoom",
        "legend": {
         "tracegroupgap": 0
        },
        "margin": {
         "t": 60
        },
        "template": {
         "data": {
          "bar": [
           {
            "error_x": {
             "color": "#2a3f5f"
            },
            "error_y": {
             "color": "#2a3f5f"
            },
            "marker": {
             "line": {
              "color": "#E5ECF6",
              "width": 0.5
             },
             "pattern": {
              "fillmode": "overlay",
              "size": 10,
              "solidity": 0.2
             }
            },
            "type": "bar"
           }
          ],
          "barpolar": [
           {
            "marker": {
             "line": {
              "color": "#E5ECF6",
              "width": 0.5
             },
             "pattern": {
              "fillmode": "overlay",
              "size": 10,
              "solidity": 0.2
             }
            },
            "type": "barpolar"
           }
          ],
          "carpet": [
           {
            "aaxis": {
             "endlinecolor": "#2a3f5f",
             "gridcolor": "white",
             "linecolor": "white",
             "minorgridcolor": "white",
             "startlinecolor": "#2a3f5f"
            },
            "baxis": {
             "endlinecolor": "#2a3f5f",
             "gridcolor": "white",
             "linecolor": "white",
             "minorgridcolor": "white",
             "startlinecolor": "#2a3f5f"
            },
            "type": "carpet"
           }
          ],
          "choropleth": [
           {
            "colorbar": {
             "outlinewidth": 0,
             "ticks": ""
            },
            "type": "choropleth"
           }
          ],
          "contour": [
           {
            "colorbar": {
             "outlinewidth": 0,
             "ticks": ""
            },
            "colorscale": [
             [
              0,
              "#0d0887"
             ],
             [
              0.1111111111111111,
              "#46039f"
             ],
             [
              0.2222222222222222,
              "#7201a8"
             ],
             [
              0.3333333333333333,
              "#9c179e"
             ],
             [
              0.4444444444444444,
              "#bd3786"
             ],
             [
              0.5555555555555556,
              "#d8576b"
             ],
             [
              0.6666666666666666,
              "#ed7953"
             ],
             [
              0.7777777777777778,
              "#fb9f3a"
             ],
             [
              0.8888888888888888,
              "#fdca26"
             ],
             [
              1,
              "#f0f921"
             ]
            ],
            "type": "contour"
           }
          ],
          "contourcarpet": [
           {
            "colorbar": {
             "outlinewidth": 0,
             "ticks": ""
            },
            "type": "contourcarpet"
           }
          ],
          "heatmap": [
           {
            "colorbar": {
             "outlinewidth": 0,
             "ticks": ""
            },
            "colorscale": [
             [
              0,
              "#0d0887"
             ],
             [
              0.1111111111111111,
              "#46039f"
             ],
             [
              0.2222222222222222,
              "#7201a8"
             ],
             [
              0.3333333333333333,
              "#9c179e"
             ],
             [
              0.4444444444444444,
              "#bd3786"
             ],
             [
              0.5555555555555556,
              "#d8576b"
             ],
             [
              0.6666666666666666,
              "#ed7953"
             ],
             [
              0.7777777777777778,
              "#fb9f3a"
             ],
             [
              0.8888888888888888,
              "#fdca26"
             ],
             [
              1,
              "#f0f921"
             ]
            ],
            "type": "heatmap"
           }
          ],
          "heatmapgl": [
           {
            "colorbar": {
             "outlinewidth": 0,
             "ticks": ""
            },
            "colorscale": [
             [
              0,
              "#0d0887"
             ],
             [
              0.1111111111111111,
              "#46039f"
             ],
             [
              0.2222222222222222,
              "#7201a8"
             ],
             [
              0.3333333333333333,
              "#9c179e"
             ],
             [
              0.4444444444444444,
              "#bd3786"
             ],
             [
              0.5555555555555556,
              "#d8576b"
             ],
             [
              0.6666666666666666,
              "#ed7953"
             ],
             [
              0.7777777777777778,
              "#fb9f3a"
             ],
             [
              0.8888888888888888,
              "#fdca26"
             ],
             [
              1,
              "#f0f921"
             ]
            ],
            "type": "heatmapgl"
           }
          ],
          "histogram": [
           {
            "marker": {
             "pattern": {
              "fillmode": "overlay",
              "size": 10,
              "solidity": 0.2
             }
            },
            "type": "histogram"
           }
          ],
          "histogram2d": [
           {
            "colorbar": {
             "outlinewidth": 0,
             "ticks": ""
            },
            "colorscale": [
             [
              0,
              "#0d0887"
             ],
             [
              0.1111111111111111,
              "#46039f"
             ],
             [
              0.2222222222222222,
              "#7201a8"
             ],
             [
              0.3333333333333333,
              "#9c179e"
             ],
             [
              0.4444444444444444,
              "#bd3786"
             ],
             [
              0.5555555555555556,
              "#d8576b"
             ],
             [
              0.6666666666666666,
              "#ed7953"
             ],
             [
              0.7777777777777778,
              "#fb9f3a"
             ],
             [
              0.8888888888888888,
              "#fdca26"
             ],
             [
              1,
              "#f0f921"
             ]
            ],
            "type": "histogram2d"
           }
          ],
          "histogram2dcontour": [
           {
            "colorbar": {
             "outlinewidth": 0,
             "ticks": ""
            },
            "colorscale": [
             [
              0,
              "#0d0887"
             ],
             [
              0.1111111111111111,
              "#46039f"
             ],
             [
              0.2222222222222222,
              "#7201a8"
             ],
             [
              0.3333333333333333,
              "#9c179e"
             ],
             [
              0.4444444444444444,
              "#bd3786"
             ],
             [
              0.5555555555555556,
              "#d8576b"
             ],
             [
              0.6666666666666666,
              "#ed7953"
             ],
             [
              0.7777777777777778,
              "#fb9f3a"
             ],
             [
              0.8888888888888888,
              "#fdca26"
             ],
             [
              1,
              "#f0f921"
             ]
            ],
            "type": "histogram2dcontour"
           }
          ],
          "mesh3d": [
           {
            "colorbar": {
             "outlinewidth": 0,
             "ticks": ""
            },
            "type": "mesh3d"
           }
          ],
          "parcoords": [
           {
            "line": {
             "colorbar": {
              "outlinewidth": 0,
              "ticks": ""
             }
            },
            "type": "parcoords"
           }
          ],
          "pie": [
           {
            "automargin": true,
            "type": "pie"
           }
          ],
          "scatter": [
           {
            "fillpattern": {
             "fillmode": "overlay",
             "size": 10,
             "solidity": 0.2
            },
            "type": "scatter"
           }
          ],
          "scatter3d": [
           {
            "line": {
             "colorbar": {
              "outlinewidth": 0,
              "ticks": ""
             }
            },
            "marker": {
             "colorbar": {
              "outlinewidth": 0,
              "ticks": ""
             }
            },
            "type": "scatter3d"
           }
          ],
          "scattercarpet": [
           {
            "marker": {
             "colorbar": {
              "outlinewidth": 0,
              "ticks": ""
             }
            },
            "type": "scattercarpet"
           }
          ],
          "scattergeo": [
           {
            "marker": {
             "colorbar": {
              "outlinewidth": 0,
              "ticks": ""
             }
            },
            "type": "scattergeo"
           }
          ],
          "scattergl": [
           {
            "marker": {
             "colorbar": {
              "outlinewidth": 0,
              "ticks": ""
             }
            },
            "type": "scattergl"
           }
          ],
          "scattermapbox": [
           {
            "marker": {
             "colorbar": {
              "outlinewidth": 0,
              "ticks": ""
             }
            },
            "type": "scattermapbox"
           }
          ],
          "scatterpolar": [
           {
            "marker": {
             "colorbar": {
              "outlinewidth": 0,
              "ticks": ""
             }
            },
            "type": "scatterpolar"
           }
          ],
          "scatterpolargl": [
           {
            "marker": {
             "colorbar": {
              "outlinewidth": 0,
              "ticks": ""
             }
            },
            "type": "scatterpolargl"
           }
          ],
          "scatterternary": [
           {
            "marker": {
             "colorbar": {
              "outlinewidth": 0,
              "ticks": ""
             }
            },
            "type": "scatterternary"
           }
          ],
          "surface": [
           {
            "colorbar": {
             "outlinewidth": 0,
             "ticks": ""
            },
            "colorscale": [
             [
              0,
              "#0d0887"
             ],
             [
              0.1111111111111111,
              "#46039f"
             ],
             [
              0.2222222222222222,
              "#7201a8"
             ],
             [
              0.3333333333333333,
              "#9c179e"
             ],
             [
              0.4444444444444444,
              "#bd3786"
             ],
             [
              0.5555555555555556,
              "#d8576b"
             ],
             [
              0.6666666666666666,
              "#ed7953"
             ],
             [
              0.7777777777777778,
              "#fb9f3a"
             ],
             [
              0.8888888888888888,
              "#fdca26"
             ],
             [
              1,
              "#f0f921"
             ]
            ],
            "type": "surface"
           }
          ],
          "table": [
           {
            "cells": {
             "fill": {
              "color": "#EBF0F8"
             },
             "line": {
              "color": "white"
             }
            },
            "header": {
             "fill": {
              "color": "#C8D4E3"
             },
             "line": {
              "color": "white"
             }
            },
            "type": "table"
           }
          ]
         },
         "layout": {
          "annotationdefaults": {
           "arrowcolor": "#2a3f5f",
           "arrowhead": 0,
           "arrowwidth": 1
          },
          "autotypenumbers": "strict",
          "coloraxis": {
           "colorbar": {
            "outlinewidth": 0,
            "ticks": ""
           }
          },
          "colorscale": {
           "diverging": [
            [
             0,
             "#8e0152"
            ],
            [
             0.1,
             "#c51b7d"
            ],
            [
             0.2,
             "#de77ae"
            ],
            [
             0.3,
             "#f1b6da"
            ],
            [
             0.4,
             "#fde0ef"
            ],
            [
             0.5,
             "#f7f7f7"
            ],
            [
             0.6,
             "#e6f5d0"
            ],
            [
             0.7,
             "#b8e186"
            ],
            [
             0.8,
             "#7fbc41"
            ],
            [
             0.9,
             "#4d9221"
            ],
            [
             1,
             "#276419"
            ]
           ],
           "sequential": [
            [
             0,
             "#0d0887"
            ],
            [
             0.1111111111111111,
             "#46039f"
            ],
            [
             0.2222222222222222,
             "#7201a8"
            ],
            [
             0.3333333333333333,
             "#9c179e"
            ],
            [
             0.4444444444444444,
             "#bd3786"
            ],
            [
             0.5555555555555556,
             "#d8576b"
            ],
            [
             0.6666666666666666,
             "#ed7953"
            ],
            [
             0.7777777777777778,
             "#fb9f3a"
            ],
            [
             0.8888888888888888,
             "#fdca26"
            ],
            [
             1,
             "#f0f921"
            ]
           ],
           "sequentialminus": [
            [
             0,
             "#0d0887"
            ],
            [
             0.1111111111111111,
             "#46039f"
            ],
            [
             0.2222222222222222,
             "#7201a8"
            ],
            [
             0.3333333333333333,
             "#9c179e"
            ],
            [
             0.4444444444444444,
             "#bd3786"
            ],
            [
             0.5555555555555556,
             "#d8576b"
            ],
            [
             0.6666666666666666,
             "#ed7953"
            ],
            [
             0.7777777777777778,
             "#fb9f3a"
            ],
            [
             0.8888888888888888,
             "#fdca26"
            ],
            [
             1,
             "#f0f921"
            ]
           ]
          },
          "colorway": [
           "#636efa",
           "#EF553B",
           "#00cc96",
           "#ab63fa",
           "#FFA15A",
           "#19d3f3",
           "#FF6692",
           "#B6E880",
           "#FF97FF",
           "#FECB52"
          ],
          "font": {
           "color": "#2a3f5f"
          },
          "geo": {
           "bgcolor": "white",
           "lakecolor": "white",
           "landcolor": "#E5ECF6",
           "showlakes": true,
           "showland": true,
           "subunitcolor": "white"
          },
          "hoverlabel": {
           "align": "left"
          },
          "hovermode": "closest",
          "mapbox": {
           "style": "light"
          },
          "paper_bgcolor": "white",
          "plot_bgcolor": "#E5ECF6",
          "polar": {
           "angularaxis": {
            "gridcolor": "white",
            "linecolor": "white",
            "ticks": ""
           },
           "bgcolor": "#E5ECF6",
           "radialaxis": {
            "gridcolor": "white",
            "linecolor": "white",
            "ticks": ""
           }
          },
          "scene": {
           "xaxis": {
            "backgroundcolor": "#E5ECF6",
            "gridcolor": "white",
            "gridwidth": 2,
            "linecolor": "white",
            "showbackground": true,
            "ticks": "",
            "zerolinecolor": "white"
           },
           "yaxis": {
            "backgroundcolor": "#E5ECF6",
            "gridcolor": "white",
            "gridwidth": 2,
            "linecolor": "white",
            "showbackground": true,
            "ticks": "",
            "zerolinecolor": "white"
           },
           "zaxis": {
            "backgroundcolor": "#E5ECF6",
            "gridcolor": "white",
            "gridwidth": 2,
            "linecolor": "white",
            "showbackground": true,
            "ticks": "",
            "zerolinecolor": "white"
           }
          },
          "shapedefaults": {
           "line": {
            "color": "#2a3f5f"
           }
          },
          "ternary": {
           "aaxis": {
            "gridcolor": "white",
            "linecolor": "white",
            "ticks": ""
           },
           "baxis": {
            "gridcolor": "white",
            "linecolor": "white",
            "ticks": ""
           },
           "bgcolor": "#E5ECF6",
           "caxis": {
            "gridcolor": "white",
            "linecolor": "white",
            "ticks": ""
           }
          },
          "title": {
           "x": 0.05
          },
          "xaxis": {
           "automargin": true,
           "gridcolor": "white",
           "linecolor": "white",
           "ticks": "",
           "title": {
            "standoff": 15
           },
           "zerolinecolor": "white",
           "zerolinewidth": 2
          },
          "yaxis": {
           "automargin": true,
           "gridcolor": "white",
           "linecolor": "white",
           "ticks": "",
           "title": {
            "standoff": 15
           },
           "zerolinecolor": "white",
           "zerolinewidth": 2
          }
         }
        },
        "xaxis": {
         "anchor": "y",
         "autorange": true,
         "domain": [
          0,
          1
         ],
         "range": [
          -0.5,
          19.5
         ],
         "title": {
          "text": "channel_title"
         },
         "type": "category"
        },
        "yaxis": {
         "anchor": "x",
         "autorange": true,
         "domain": [
          0,
          1
         ],
         "range": [
          0,
          747.3684210526316
         ],
         "title": {
          "text": "total_values"
         },
         "type": "linear"
        }
       }
      },
      "image/png": "[encoded data removed]",
      "text/html": [
       "<div>                            <div id=\"36e618dc-44ac-4e7b-a273-ff9ecad7513c\" class=\"plotly-graph-div\" style=\"height:525px; width:100%;\"></div>            <script type=\"text/javascript\">                require([\"plotly\"], function(Plotly) {                    window.PLOTLYENV=window.PLOTLYENV || {};                                    if (document.getElementById(\"36e618dc-44ac-4e7b-a273-ff9ecad7513c\")) {                    Plotly.newPlot(                        \"36e618dc-44ac-4e7b-a273-ff9ecad7513c\",                        [{\"alignmentgroup\":\"True\",\"hovertemplate\":\"channel_title=%{x}\\u003cbr\\u003etotal_values=%{y}\\u003cextra\\u003e\\u003c\\u002fextra\\u003e\",\"legendgroup\":\"\",\"marker\":{\"color\":\"#636efa\",\"pattern\":{\"shape\":\"\"}},\"name\":\"\",\"offsetgroup\":\"\",\"orientation\":\"v\",\"showlegend\":false,\"textposition\":\"auto\",\"x\":[\"The Late Show with Stephen Colbert\",\"WWE\",\"Late Night with Seth Meyers\",\"TheEllenShow\",\"Jimmy Kimmel Live\",\"PewDiePie\",\"The Tonight Show Starring Jimmy Fallon\",\"CNN\",\"The Late Late Show with James Corden\",\"ESPN\",\"FBE\",\"VikatanTV\",\"Netflix\",\"SET India\",\"MLG Highlights\",\"BuzzFeedVideo\",\"SMTOWN\",\"\\u00c3\\u0087ukur\",\"Marvel Entertainment\",\"SAB TV\"],\"xaxis\":\"x\",\"y\":[710,643,592,555,528,511,509,500,453,452,439,435,410,405,382,361,359,356,352,351],\"yaxis\":\"y\",\"type\":\"bar\"}],                        {\"template\":{\"data\":{\"histogram2dcontour\":[{\"type\":\"histogram2dcontour\",\"colorbar\":{\"outlinewidth\":0,\"ticks\":\"\"},\"colorscale\":[[0.0,\"#0d0887\"],[0.1111111111111111,\"#46039f\"],[0.2222222222222222,\"#7201a8\"],[0.3333333333333333,\"#9c179e\"],[0.4444444444444444,\"#bd3786\"],[0.5555555555555556,\"#d8576b\"],[0.6666666666666666,\"#ed7953\"],[0.7777777777777778,\"#fb9f3a\"],[0.8888888888888888,\"#fdca26\"],[1.0,\"#f0f921\"]]}],\"choropleth\":[{\"type\":\"choropleth\",\"colorbar\":{\"outlinewidth\":0,\"ticks\":\"\"}}],\"histogram2d\":[{\"type\":\"histogram2d\",\"colorbar\":{\"outlinewidth\":0,\"ticks\":\"\"},\"colorscale\":[[0.0,\"#0d0887\"],[0.1111111111111111,\"#46039f\"],[0.2222222222222222,\"#7201a8\"],[0.3333333333333333,\"#9c179e\"],[0.4444444444444444,\"#bd3786\"],[0.5555555555555556,\"#d8576b\"],[0.6666666666666666,\"#ed7953\"],[0.7777777777777778,\"#fb9f3a\"],[0.8888888888888888,\"#fdca26\"],[1.0,\"#f0f921\"]]}],\"heatmap\":[{\"type\":\"heatmap\",\"colorbar\":{\"outlinewidth\":0,\"ticks\":\"\"},\"colorscale\":[[0.0,\"#0d0887\"],[0.1111111111111111,\"#46039f\"],[0.2222222222222222,\"#7201a8\"],[0.3333333333333333,\"#9c179e\"],[0.4444444444444444,\"#bd3786\"],[0.5555555555555556,\"#d8576b\"],[0.6666666666666666,\"#ed7953\"],[0.7777777777777778,\"#fb9f3a\"],[0.8888888888888888,\"#fdca26\"],[1.0,\"#f0f921\"]]}],\"heatmapgl\":[{\"type\":\"heatmapgl\",\"colorbar\":{\"outlinewidth\":0,\"ticks\":\"\"},\"colorscale\":[[0.0,\"#0d0887\"],[0.1111111111111111,\"#46039f\"],[0.2222222222222222,\"#7201a8\"],[0.3333333333333333,\"#9c179e\"],[0.4444444444444444,\"#bd3786\"],[0.5555555555555556,\"#d8576b\"],[0.6666666666666666,\"#ed7953\"],[0.7777777777777778,\"#fb9f3a\"],[0.8888888888888888,\"#fdca26\"],[1.0,\"#f0f921\"]]}],\"contourcarpet\":[{\"type\":\"contourcarpet\",\"colorbar\":{\"outlinewidth\":0,\"ticks\":\"\"}}],\"contour\":[{\"type\":\"contour\",\"colorbar\":{\"outlinewidth\":0,\"ticks\":\"\"},\"colorscale\":[[0.0,\"#0d0887\"],[0.1111111111111111,\"#46039f\"],[0.2222222222222222,\"#7201a8\"],[0.3333333333333333,\"#9c179e\"],[0.4444444444444444,\"#bd3786\"],[0.5555555555555556,\"#d8576b\"],[0.6666666666666666,\"#ed7953\"],[0.7777777777777778,\"#fb9f3a\"],[0.8888888888888888,\"#fdca26\"],[1.0,\"#f0f921\"]]}],\"surface\":[{\"type\":\"surface\",\"colorbar\":{\"outlinewidth\":0,\"ticks\":\"\"},\"colorscale\":[[0.0,\"#0d0887\"],[0.1111111111111111,\"#46039f\"],[0.2222222222222222,\"#7201a8\"],[0.3333333333333333,\"#9c179e\"],[0.4444444444444444,\"#bd3786\"],[0.5555555555555556,\"#d8576b\"],[0.6666666666666666,\"#ed7953\"],[0.7777777777777778,\"#fb9f3a\"],[0.8888888888888888,\"#fdca26\"],[1.0,\"#f0f921\"]]}],\"mesh3d\":[{\"type\":\"mesh3d\",\"colorbar\":{\"outlinewidth\":0,\"ticks\":\"\"}}],\"scatter\":[{\"fillpattern\":{\"fillmode\":\"overlay\",\"size\":10,\"solidity\":0.2},\"type\":\"scatter\"}],\"parcoords\":[{\"type\":\"parcoords\",\"line\":{\"colorbar\":{\"outlinewidth\":0,\"ticks\":\"\"}}}],\"scatterpolargl\":[{\"type\":\"scatterpolargl\",\"marker\":{\"colorbar\":{\"outlinewidth\":0,\"ticks\":\"\"}}}],\"bar\":[{\"error_x\":{\"color\":\"#2a3f5f\"},\"error_y\":{\"color\":\"#2a3f5f\"},\"marker\":{\"line\":{\"color\":\"#E5ECF6\",\"width\":0.5},\"pattern\":{\"fillmode\":\"overlay\",\"size\":10,\"solidity\":0.2}},\"type\":\"bar\"}],\"scattergeo\":[{\"type\":\"scattergeo\",\"marker\":{\"colorbar\":{\"outlinewidth\":0,\"ticks\":\"\"}}}],\"scatterpolar\":[{\"type\":\"scatterpolar\",\"marker\":{\"colorbar\":{\"outlinewidth\":0,\"ticks\":\"\"}}}],\"histogram\":[{\"marker\":{\"pattern\":{\"fillmode\":\"overlay\",\"size\":10,\"solidity\":0.2}},\"type\":\"histogram\"}],\"scattergl\":[{\"type\":\"scattergl\",\"marker\":{\"colorbar\":{\"outlinewidth\":0,\"ticks\":\"\"}}}],\"scatter3d\":[{\"type\":\"scatter3d\",\"line\":{\"colorbar\":{\"outlinewidth\":0,\"ticks\":\"\"}},\"marker\":{\"colorbar\":{\"outlinewidth\":0,\"ticks\":\"\"}}}],\"scattermapbox\":[{\"type\":\"scattermapbox\",\"marker\":{\"colorbar\":{\"outlinewidth\":0,\"ticks\":\"\"}}}],\"scatterternary\":[{\"type\":\"scatterternary\",\"marker\":{\"colorbar\":{\"outlinewidth\":0,\"ticks\":\"\"}}}],\"scattercarpet\":[{\"type\":\"scattercarpet\",\"marker\":{\"colorbar\":{\"outlinewidth\":0,\"ticks\":\"\"}}}],\"carpet\":[{\"aaxis\":{\"endlinecolor\":\"#2a3f5f\",\"gridcolor\":\"white\",\"linecolor\":\"white\",\"minorgridcolor\":\"white\",\"startlinecolor\":\"#2a3f5f\"},\"baxis\":{\"endlinecolor\":\"#2a3f5f\",\"gridcolor\":\"white\",\"linecolor\":\"white\",\"minorgridcolor\":\"white\",\"startlinecolor\":\"#2a3f5f\"},\"type\":\"carpet\"}],\"table\":[{\"cells\":{\"fill\":{\"color\":\"#EBF0F8\"},\"line\":{\"color\":\"white\"}},\"header\":{\"fill\":{\"color\":\"#C8D4E3\"},\"line\":{\"color\":\"white\"}},\"type\":\"table\"}],\"barpolar\":[{\"marker\":{\"line\":{\"color\":\"#E5ECF6\",\"width\":0.5},\"pattern\":{\"fillmode\":\"overlay\",\"size\":10,\"solidity\":0.2}},\"type\":\"barpolar\"}],\"pie\":[{\"automargin\":true,\"type\":\"pie\"}]},\"layout\":{\"autotypenumbers\":\"strict\",\"colorway\":[\"#636efa\",\"#EF553B\",\"#00cc96\",\"#ab63fa\",\"#FFA15A\",\"#19d3f3\",\"#FF6692\",\"#B6E880\",\"#FF97FF\",\"#FECB52\"],\"font\":{\"color\":\"#2a3f5f\"},\"hovermode\":\"closest\",\"hoverlabel\":{\"align\":\"left\"},\"paper_bgcolor\":\"white\",\"plot_bgcolor\":\"#E5ECF6\",\"polar\":{\"bgcolor\":\"#E5ECF6\",\"angularaxis\":{\"gridcolor\":\"white\",\"linecolor\":\"white\",\"ticks\":\"\"},\"radialaxis\":{\"gridcolor\":\"white\",\"linecolor\":\"white\",\"ticks\":\"\"}},\"ternary\":{\"bgcolor\":\"#E5ECF6\",\"aaxis\":{\"gridcolor\":\"white\",\"linecolor\":\"white\",\"ticks\":\"\"},\"baxis\":{\"gridcolor\":\"white\",\"linecolor\":\"white\",\"ticks\":\"\"},\"caxis\":{\"gridcolor\":\"white\",\"linecolor\":\"white\",\"ticks\":\"\"}},\"coloraxis\":{\"colorbar\":{\"outlinewidth\":0,\"ticks\":\"\"}},\"colorscale\":{\"sequential\":[[0.0,\"#0d0887\"],[0.1111111111111111,\"#46039f\"],[0.2222222222222222,\"#7201a8\"],[0.3333333333333333,\"#9c179e\"],[0.4444444444444444,\"#bd3786\"],[0.5555555555555556,\"#d8576b\"],[0.6666666666666666,\"#ed7953\"],[0.7777777777777778,\"#fb9f3a\"],[0.8888888888888888,\"#fdca26\"],[1.0,\"#f0f921\"]],\"sequentialminus\":[[0.0,\"#0d0887\"],[0.1111111111111111,\"#46039f\"],[0.2222222222222222,\"#7201a8\"],[0.3333333333333333,\"#9c179e\"],[0.4444444444444444,\"#bd3786\"],[0.5555555555555556,\"#d8576b\"],[0.6666666666666666,\"#ed7953\"],[0.7777777777777778,\"#fb9f3a\"],[0.8888888888888888,\"#fdca26\"],[1.0,\"#f0f921\"]],\"diverging\":[[0,\"#8e0152\"],[0.1,\"#c51b7d\"],[0.2,\"#de77ae\"],[0.3,\"#f1b6da\"],[0.4,\"#fde0ef\"],[0.5,\"#f7f7f7\"],[0.6,\"#e6f5d0\"],[0.7,\"#b8e186\"],[0.8,\"#7fbc41\"],[0.9,\"#4d9221\"],[1,\"#276419\"]]},\"xaxis\":{\"gridcolor\":\"white\",\"linecolor\":\"white\",\"ticks\":\"\",\"title\":{\"standoff\":15},\"zerolinecolor\":\"white\",\"automargin\":true,\"zerolinewidth\":2},\"yaxis\":{\"gridcolor\":\"white\",\"linecolor\":\"white\",\"ticks\":\"\",\"title\":{\"standoff\":15},\"zerolinecolor\":\"white\",\"automargin\":true,\"zerolinewidth\":2},\"scene\":{\"xaxis\":{\"backgroundcolor\":\"#E5ECF6\",\"gridcolor\":\"white\",\"linecolor\":\"white\",\"showbackground\":true,\"ticks\":\"\",\"zerolinecolor\":\"white\",\"gridwidth\":2},\"yaxis\":{\"backgroundcolor\":\"#E5ECF6\",\"gridcolor\":\"white\",\"linecolor\":\"white\",\"showbackground\":true,\"ticks\":\"\",\"zerolinecolor\":\"white\",\"gridwidth\":2},\"zaxis\":{\"backgroundcolor\":\"#E5ECF6\",\"gridcolor\":\"white\",\"linecolor\":\"white\",\"showbackground\":true,\"ticks\":\"\",\"zerolinecolor\":\"white\",\"gridwidth\":2}},\"shapedefaults\":{\"line\":{\"color\":\"#2a3f5f\"}},\"annotationdefaults\":{\"arrowcolor\":\"#2a3f5f\",\"arrowhead\":0,\"arrowwidth\":1},\"geo\":{\"bgcolor\":\"white\",\"landcolor\":\"#E5ECF6\",\"subunitcolor\":\"white\",\"showland\":true,\"showlakes\":true,\"lakecolor\":\"white\"},\"title\":{\"x\":0.05},\"mapbox\":{\"style\":\"light\"}}},\"xaxis\":{\"anchor\":\"y\",\"domain\":[0.0,1.0],\"title\":{\"text\":\"channel_title\"}},\"yaxis\":{\"anchor\":\"x\",\"domain\":[0.0,1.0],\"title\":{\"text\":\"total_values\"}},\"legend\":{\"tracegroupgap\":0},\"margin\":{\"t\":60},\"barmode\":\"relative\"},                        {\"responsive\": true}                    ).then(function(){\n",
       "                            \n",
       "var gd = document.getElementById('36e618dc-44ac-4e7b-a273-ff9ecad7513c');\n",
       "var x = new MutationObserver(function (mutations, observer) {{\n",
       "        var display = window.getComputedStyle(gd).display;\n",
       "        if (!display || display === 'none') {{\n",
       "            console.log([gd, 'removed!']);\n",
       "            Plotly.purge(gd);\n",
       "            observer.disconnect();\n",
       "        }}\n",
       "}});\n",
       "\n",
       "// Listen for the removal of the full notebook cells\n",
       "var notebookContainer = gd.closest('#notebook-container');\n",
       "if (notebookContainer) {{\n",
       "    x.observe(notebookContainer, {childList: true});\n",
       "}}\n",
       "\n",
       "// Listen for the clearing of the current output cell\n",
       "var outputEl = gd.closest('.output');\n",
       "if (outputEl) {{\n",
       "    x.observe(outputEl, {childList: true});\n",
       "}}\n",
       "\n",
       "                        })                };                });            </script>        </div>"
      ]
     },
     "metadata": {},
     "output_type": "display_data"
    }
   ],
   "source": [
    "import plotly.express as px\n",
    "px.bar(data_frame = cdf[0:20], x ='channel_title' , y='total_values' )"
   ]
  },
  {
   "cell_type": "code",
   "execution_count": 317,
   "id": "3d1419f8-86a9-4e32-971e-ffca8d1093ee",
   "metadata": {},
   "outputs": [
    {
     "data": {
      "text/html": [
       "<div>\n",
       "<style scoped>\n",
       "    .dataframe tbody tr th:only-of-type {\n",
       "        vertical-align: middle;\n",
       "    }\n",
       "\n",
       "    .dataframe tbody tr th {\n",
       "        vertical-align: top;\n",
       "    }\n",
       "\n",
       "    .dataframe thead th {\n",
       "        text-align: right;\n",
       "    }\n",
       "</style>\n",
       "<table border=\"1\" class=\"dataframe\">\n",
       "  <thead>\n",
       "    <tr style=\"text-align: right;\">\n",
       "      <th></th>\n",
       "      <th>video_id</th>\n",
       "      <th>trending_date</th>\n",
       "      <th>title</th>\n",
       "      <th>channel_title</th>\n",
       "      <th>category_id</th>\n",
       "      <th>publish_time</th>\n",
       "      <th>tags</th>\n",
       "      <th>views</th>\n",
       "      <th>likes</th>\n",
       "      <th>dislikes</th>\n",
       "      <th>...</th>\n",
       "      <th>comments_disabled</th>\n",
       "      <th>ratings_disabled</th>\n",
       "      <th>video_error_or_removed</th>\n",
       "      <th>description</th>\n",
       "      <th>comment_text</th>\n",
       "      <th>replies</th>\n",
       "      <th>Category_name</th>\n",
       "      <th>like_views</th>\n",
       "      <th>dislike_views</th>\n",
       "      <th>comment_views</th>\n",
       "    </tr>\n",
       "  </thead>\n",
       "  <tbody>\n",
       "    <tr>\n",
       "      <th>0</th>\n",
       "      <td>SbOwzAl9ZfQ</td>\n",
       "      <td>17.14.11</td>\n",
       "      <td>CapÃ­tulo 12 | MasterChef 2017</td>\n",
       "      <td>MasterChef 2017</td>\n",
       "      <td>24.0</td>\n",
       "      <td>2017-11-13T06:06:22.000Z</td>\n",
       "      <td>MasterChef Junior 2017|\"TV Azteca\"|\"recetas\"|\"...</td>\n",
       "      <td>310130.0</td>\n",
       "      <td>4182</td>\n",
       "      <td>361.0</td>\n",
       "      <td>...</td>\n",
       "      <td>False</td>\n",
       "      <td>False</td>\n",
       "      <td>False</td>\n",
       "      <td>Disfruta la presencia del Chef Torreblanca en ...</td>\n",
       "      <td>NaN</td>\n",
       "      <td>NaN</td>\n",
       "      <td>Entertainment</td>\n",
       "      <td>1.348467</td>\n",
       "      <td>0.116403</td>\n",
       "      <td>0.592010</td>\n",
       "    </tr>\n",
       "    <tr>\n",
       "      <th>1</th>\n",
       "      <td>klOV6Xh-DnI</td>\n",
       "      <td>17.14.11</td>\n",
       "      <td>ALEXA EX-INTEGRANTE DEL GRUPO TIMBIRICHE RENUN...</td>\n",
       "      <td>Micky Contreras Martinez</td>\n",
       "      <td>22.0</td>\n",
       "      <td>2017-11-13T05:11:58.000Z</td>\n",
       "      <td>La Voz Mexico 7</td>\n",
       "      <td>104972.0</td>\n",
       "      <td>271</td>\n",
       "      <td>174.0</td>\n",
       "      <td>...</td>\n",
       "      <td>False</td>\n",
       "      <td>False</td>\n",
       "      <td>False</td>\n",
       "      <td>ALEXA EX-INTEGRANTE DEL GRUPO TIMBIRICHE RENUN...</td>\n",
       "      <td>NaN</td>\n",
       "      <td>NaN</td>\n",
       "      <td>People &amp; Blogs</td>\n",
       "      <td>0.258164</td>\n",
       "      <td>0.165758</td>\n",
       "      <td>0.351522</td>\n",
       "    </tr>\n",
       "    <tr>\n",
       "      <th>2</th>\n",
       "      <td>6L2ZF7Qzsbk</td>\n",
       "      <td>17.14.11</td>\n",
       "      <td>LOUIS CKAGÃ - EL PULSO DE LA REPÃBLICA</td>\n",
       "      <td>El Pulso De La RepÃºblica</td>\n",
       "      <td>25.0</td>\n",
       "      <td>2017-11-13T17:00:02.000Z</td>\n",
       "      <td>Chumel Torres|\"El Pulso de la Republica\"|\"noti...</td>\n",
       "      <td>136064.0</td>\n",
       "      <td>10105</td>\n",
       "      <td>266.0</td>\n",
       "      <td>...</td>\n",
       "      <td>False</td>\n",
       "      <td>False</td>\n",
       "      <td>False</td>\n",
       "      <td>La canciÃ³n del principio se llama âEste esp...</td>\n",
       "      <td>NaN</td>\n",
       "      <td>NaN</td>\n",
       "      <td>News &amp; Politics</td>\n",
       "      <td>7.426652</td>\n",
       "      <td>0.195496</td>\n",
       "      <td>0.446114</td>\n",
       "    </tr>\n",
       "    <tr>\n",
       "      <th>3</th>\n",
       "      <td>hcY52MFWMDM</td>\n",
       "      <td>17.14.11</td>\n",
       "      <td>Sismo de 6.7 sacude Costa Rica 12 Noviembre 2017</td>\n",
       "      <td>Casanare</td>\n",
       "      <td>25.0</td>\n",
       "      <td>2017-11-13T03:47:10.000Z</td>\n",
       "      <td>temblor|\"costa rica\"|\"sismo en costa rica\"</td>\n",
       "      <td>96153.0</td>\n",
       "      <td>378</td>\n",
       "      <td>171.0</td>\n",
       "      <td>...</td>\n",
       "      <td>False</td>\n",
       "      <td>False</td>\n",
       "      <td>False</td>\n",
       "      <td>El video es de un Walmart en el pais centroame...</td>\n",
       "      <td>NaN</td>\n",
       "      <td>NaN</td>\n",
       "      <td>News &amp; Politics</td>\n",
       "      <td>0.393123</td>\n",
       "      <td>0.177842</td>\n",
       "      <td>0.216322</td>\n",
       "    </tr>\n",
       "    <tr>\n",
       "      <th>4</th>\n",
       "      <td>_OXDcGPVAa4</td>\n",
       "      <td>17.14.11</td>\n",
       "      <td>DOG HACKS | MUSAS LESSLIE LOS POLINESIOS</td>\n",
       "      <td>Musas</td>\n",
       "      <td>26.0</td>\n",
       "      <td>2017-11-13T19:17:48.000Z</td>\n",
       "      <td>MUSAS|\"lesslie\"|\"karen\"|\"hacks\"|\"perros\"|\"dogs...</td>\n",
       "      <td>499965.0</td>\n",
       "      <td>57781</td>\n",
       "      <td>681.0</td>\n",
       "      <td>...</td>\n",
       "      <td>False</td>\n",
       "      <td>False</td>\n",
       "      <td>False</td>\n",
       "      <td>MI HERMANO NARRA MI RUTINA DE MAQUILLAJE\\nhttp...</td>\n",
       "      <td>NaN</td>\n",
       "      <td>NaN</td>\n",
       "      <td>Howto &amp; Style</td>\n",
       "      <td>11.557009</td>\n",
       "      <td>0.136210</td>\n",
       "      <td>1.485704</td>\n",
       "    </tr>\n",
       "    <tr>\n",
       "      <th>...</th>\n",
       "      <td>...</td>\n",
       "      <td>...</td>\n",
       "      <td>...</td>\n",
       "      <td>...</td>\n",
       "      <td>...</td>\n",
       "      <td>...</td>\n",
       "      <td>...</td>\n",
       "      <td>...</td>\n",
       "      <td>...</td>\n",
       "      <td>...</td>\n",
       "      <td>...</td>\n",
       "      <td>...</td>\n",
       "      <td>...</td>\n",
       "      <td>...</td>\n",
       "      <td>...</td>\n",
       "      <td>...</td>\n",
       "      <td>...</td>\n",
       "      <td>...</td>\n",
       "      <td>...</td>\n",
       "      <td>...</td>\n",
       "      <td>...</td>\n",
       "    </tr>\n",
       "    <tr>\n",
       "      <th>1067301</th>\n",
       "      <td>EoejGgUNmVU</td>\n",
       "      <td>NaN</td>\n",
       "      <td>NaN</td>\n",
       "      <td>NaN</td>\n",
       "      <td>NaN</td>\n",
       "      <td>NaN</td>\n",
       "      <td>NaN</td>\n",
       "      <td>NaN</td>\n",
       "      <td>0</td>\n",
       "      <td>NaN</td>\n",
       "      <td>...</td>\n",
       "      <td>NaN</td>\n",
       "      <td>NaN</td>\n",
       "      <td>NaN</td>\n",
       "      <td>NaN</td>\n",
       "      <td>Lost on you ! ð\\nOH My God I love this song...</td>\n",
       "      <td>0</td>\n",
       "      <td>NaN</td>\n",
       "      <td>NaN</td>\n",
       "      <td>NaN</td>\n",
       "      <td>NaN</td>\n",
       "    </tr>\n",
       "    <tr>\n",
       "      <th>1067308</th>\n",
       "      <td>EoejGgUNmVU</td>\n",
       "      <td>NaN</td>\n",
       "      <td>NaN</td>\n",
       "      <td>NaN</td>\n",
       "      <td>NaN</td>\n",
       "      <td>NaN</td>\n",
       "      <td>NaN</td>\n",
       "      <td>NaN</td>\n",
       "      <td>0</td>\n",
       "      <td>NaN</td>\n",
       "      <td>...</td>\n",
       "      <td>NaN</td>\n",
       "      <td>NaN</td>\n",
       "      <td>NaN</td>\n",
       "      <td>NaN</td>\n",
       "      <td>I  LOVE  LPâ¤ï¸</td>\n",
       "      <td>0</td>\n",
       "      <td>NaN</td>\n",
       "      <td>NaN</td>\n",
       "      <td>NaN</td>\n",
       "      <td>NaN</td>\n",
       "    </tr>\n",
       "    <tr>\n",
       "      <th>1067334</th>\n",
       "      <td>EoejGgUNmVU</td>\n",
       "      <td>NaN</td>\n",
       "      <td>NaN</td>\n",
       "      <td>NaN</td>\n",
       "      <td>NaN</td>\n",
       "      <td>NaN</td>\n",
       "      <td>NaN</td>\n",
       "      <td>NaN</td>\n",
       "      <td>1</td>\n",
       "      <td>NaN</td>\n",
       "      <td>...</td>\n",
       "      <td>NaN</td>\n",
       "      <td>NaN</td>\n",
       "      <td>NaN</td>\n",
       "      <td>NaN</td>\n",
       "      <td>*L O S T  O N  Y O U*</td>\n",
       "      <td>0</td>\n",
       "      <td>NaN</td>\n",
       "      <td>NaN</td>\n",
       "      <td>NaN</td>\n",
       "      <td>NaN</td>\n",
       "    </tr>\n",
       "    <tr>\n",
       "      <th>1067335</th>\n",
       "      <td>EoejGgUNmVU</td>\n",
       "      <td>NaN</td>\n",
       "      <td>NaN</td>\n",
       "      <td>NaN</td>\n",
       "      <td>NaN</td>\n",
       "      <td>NaN</td>\n",
       "      <td>NaN</td>\n",
       "      <td>NaN</td>\n",
       "      <td>0</td>\n",
       "      <td>NaN</td>\n",
       "      <td>...</td>\n",
       "      <td>NaN</td>\n",
       "      <td>NaN</td>\n",
       "      <td>NaN</td>\n",
       "      <td>NaN</td>\n",
       "      <td>&lt;3</td>\n",
       "      <td>0</td>\n",
       "      <td>NaN</td>\n",
       "      <td>NaN</td>\n",
       "      <td>NaN</td>\n",
       "      <td>NaN</td>\n",
       "    </tr>\n",
       "    <tr>\n",
       "      <th>1067340</th>\n",
       "      <td>EoejGgUNmVU</td>\n",
       "      <td>NaN</td>\n",
       "      <td>NaN</td>\n",
       "      <td>NaN</td>\n",
       "      <td>NaN</td>\n",
       "      <td>NaN</td>\n",
       "      <td>NaN</td>\n",
       "      <td>NaN</td>\n",
       "      <td>0</td>\n",
       "      <td>NaN</td>\n",
       "      <td>...</td>\n",
       "      <td>NaN</td>\n",
       "      <td>NaN</td>\n",
       "      <td>NaN</td>\n",
       "      <td>NaN</td>\n",
       "      <td>IslÄ±ÄÄ± yeter...</td>\n",
       "      <td>0</td>\n",
       "      <td>NaN</td>\n",
       "      <td>NaN</td>\n",
       "      <td>NaN</td>\n",
       "      <td>NaN</td>\n",
       "    </tr>\n",
       "  </tbody>\n",
       "</table>\n",
       "<p>818232 rows × 22 columns</p>\n",
       "</div>"
      ],
      "text/plain": [
       "            video_id trending_date  \\\n",
       "0        SbOwzAl9ZfQ      17.14.11   \n",
       "1        klOV6Xh-DnI      17.14.11   \n",
       "2        6L2ZF7Qzsbk      17.14.11   \n",
       "3        hcY52MFWMDM      17.14.11   \n",
       "4        _OXDcGPVAa4      17.14.11   \n",
       "...              ...           ...   \n",
       "1067301  EoejGgUNmVU           NaN   \n",
       "1067308  EoejGgUNmVU           NaN   \n",
       "1067334  EoejGgUNmVU           NaN   \n",
       "1067335  EoejGgUNmVU           NaN   \n",
       "1067340  EoejGgUNmVU           NaN   \n",
       "\n",
       "                                                     title  \\\n",
       "0                           CapÃ­tulo 12 | MasterChef 2017   \n",
       "1        ALEXA EX-INTEGRANTE DEL GRUPO TIMBIRICHE RENUN...   \n",
       "2                 LOUIS CKAGÃ - EL PULSO DE LA REPÃBLICA   \n",
       "3         Sismo de 6.7 sacude Costa Rica 12 Noviembre 2017   \n",
       "4                 DOG HACKS | MUSAS LESSLIE LOS POLINESIOS   \n",
       "...                                                    ...   \n",
       "1067301                                                NaN   \n",
       "1067308                                                NaN   \n",
       "1067334                                                NaN   \n",
       "1067335                                                NaN   \n",
       "1067340                                                NaN   \n",
       "\n",
       "                     channel_title  category_id              publish_time  \\\n",
       "0                  MasterChef 2017         24.0  2017-11-13T06:06:22.000Z   \n",
       "1         Micky Contreras Martinez         22.0  2017-11-13T05:11:58.000Z   \n",
       "2        El Pulso De La RepÃºblica         25.0  2017-11-13T17:00:02.000Z   \n",
       "3                         Casanare         25.0  2017-11-13T03:47:10.000Z   \n",
       "4                            Musas         26.0  2017-11-13T19:17:48.000Z   \n",
       "...                            ...          ...                       ...   \n",
       "1067301                        NaN          NaN                       NaN   \n",
       "1067308                        NaN          NaN                       NaN   \n",
       "1067334                        NaN          NaN                       NaN   \n",
       "1067335                        NaN          NaN                       NaN   \n",
       "1067340                        NaN          NaN                       NaN   \n",
       "\n",
       "                                                      tags     views  likes  \\\n",
       "0        MasterChef Junior 2017|\"TV Azteca\"|\"recetas\"|\"...  310130.0   4182   \n",
       "1                                          La Voz Mexico 7  104972.0    271   \n",
       "2        Chumel Torres|\"El Pulso de la Republica\"|\"noti...  136064.0  10105   \n",
       "3               temblor|\"costa rica\"|\"sismo en costa rica\"   96153.0    378   \n",
       "4        MUSAS|\"lesslie\"|\"karen\"|\"hacks\"|\"perros\"|\"dogs...  499965.0  57781   \n",
       "...                                                    ...       ...    ...   \n",
       "1067301                                                NaN       NaN      0   \n",
       "1067308                                                NaN       NaN      0   \n",
       "1067334                                                NaN       NaN      1   \n",
       "1067335                                                NaN       NaN      0   \n",
       "1067340                                                NaN       NaN      0   \n",
       "\n",
       "         dislikes  ...  comments_disabled ratings_disabled  \\\n",
       "0           361.0  ...              False            False   \n",
       "1           174.0  ...              False            False   \n",
       "2           266.0  ...              False            False   \n",
       "3           171.0  ...              False            False   \n",
       "4           681.0  ...              False            False   \n",
       "...           ...  ...                ...              ...   \n",
       "1067301       NaN  ...                NaN              NaN   \n",
       "1067308       NaN  ...                NaN              NaN   \n",
       "1067334       NaN  ...                NaN              NaN   \n",
       "1067335       NaN  ...                NaN              NaN   \n",
       "1067340       NaN  ...                NaN              NaN   \n",
       "\n",
       "        video_error_or_removed  \\\n",
       "0                        False   \n",
       "1                        False   \n",
       "2                        False   \n",
       "3                        False   \n",
       "4                        False   \n",
       "...                        ...   \n",
       "1067301                    NaN   \n",
       "1067308                    NaN   \n",
       "1067334                    NaN   \n",
       "1067335                    NaN   \n",
       "1067340                    NaN   \n",
       "\n",
       "                                               description  \\\n",
       "0        Disfruta la presencia del Chef Torreblanca en ...   \n",
       "1        ALEXA EX-INTEGRANTE DEL GRUPO TIMBIRICHE RENUN...   \n",
       "2        La canciÃ³n del principio se llama âEste esp...   \n",
       "3        El video es de un Walmart en el pais centroame...   \n",
       "4        MI HERMANO NARRA MI RUTINA DE MAQUILLAJE\\nhttp...   \n",
       "...                                                    ...   \n",
       "1067301                                                NaN   \n",
       "1067308                                                NaN   \n",
       "1067334                                                NaN   \n",
       "1067335                                                NaN   \n",
       "1067340                                                NaN   \n",
       "\n",
       "                                              comment_text replies  \\\n",
       "0                                                      NaN     NaN   \n",
       "1                                                      NaN     NaN   \n",
       "2                                                      NaN     NaN   \n",
       "3                                                      NaN     NaN   \n",
       "4                                                      NaN     NaN   \n",
       "...                                                    ...     ...   \n",
       "1067301  Lost on you ! ð\\nOH My God I love this song...       0   \n",
       "1067308                                  I  LOVE  LPâ¤ï¸       0   \n",
       "1067334                              *L O S T  O N  Y O U*       0   \n",
       "1067335                                                 <3       0   \n",
       "1067340                                 IslÄ±ÄÄ± yeter...       0   \n",
       "\n",
       "           Category_name like_views dislike_views comment_views  \n",
       "0          Entertainment   1.348467      0.116403      0.592010  \n",
       "1         People & Blogs   0.258164      0.165758      0.351522  \n",
       "2        News & Politics   7.426652      0.195496      0.446114  \n",
       "3        News & Politics   0.393123      0.177842      0.216322  \n",
       "4          Howto & Style  11.557009      0.136210      1.485704  \n",
       "...                  ...        ...           ...           ...  \n",
       "1067301              NaN        NaN           NaN           NaN  \n",
       "1067308              NaN        NaN           NaN           NaN  \n",
       "1067334              NaN        NaN           NaN           NaN  \n",
       "1067335              NaN        NaN           NaN           NaN  \n",
       "1067340              NaN        NaN           NaN           NaN  \n",
       "\n",
       "[818232 rows x 22 columns]"
      ]
     },
     "execution_count": 317,
     "metadata": {},
     "output_type": "execute_result"
    }
   ],
   "source": [
    "df"
   ]
  },
  {
   "cell_type": "code",
   "execution_count": 318,
   "id": "76fac137-2ec1-4541-a8c0-81cd75c4e242",
   "metadata": {},
   "outputs": [
    {
     "data": {
      "text/plain": [
       "'CapÃ\\xadtulo 12 | MasterChef 2017'"
      ]
     },
     "execution_count": 318,
     "metadata": {},
     "output_type": "execute_result"
    }
   ],
   "source": [
    "df['title'][0]"
   ]
  },
  {
   "cell_type": "code",
   "execution_count": 321,
   "id": "063b6605-3d63-472f-b2ec-344060093285",
   "metadata": {},
   "outputs": [
    {
     "data": {
      "text/plain": [
       "'!\"#$%&\\'()*+,-./:;<=>?@[\\\\]^_`{|}~'"
      ]
     },
     "execution_count": 321,
     "metadata": {},
     "output_type": "execute_result"
    }
   ],
   "source": [
    "import string\n",
    "string.punctuation"
   ]
  },
  {
   "cell_type": "code",
   "execution_count": 323,
   "id": "3a47f477-d3f4-4283-8f3b-8e7f9d5509a6",
   "metadata": {},
   "outputs": [
    {
     "data": {
      "text/plain": [
       "['!\"#$%&\\'()*+,-./:;<=>?@[\\\\]^_`{|}~']"
      ]
     },
     "execution_count": 323,
     "metadata": {},
     "output_type": "execute_result"
    }
   ],
   "source": [
    "punctuation_list = [string.punctuation]\n",
    "punctuation_list"
   ]
  },
  {
   "cell_type": "code",
   "execution_count": 364,
   "id": "580e7c20-847b-4c9d-8e9e-70f25b78328f",
   "metadata": {},
   "outputs": [
    {
     "data": {
      "text/plain": [
       "1"
      ]
     },
     "execution_count": 364,
     "metadata": {},
     "output_type": "execute_result"
    }
   ],
   "source": [
    "len([char for char in df['title'][0] if char in string.punctuation])"
   ]
  },
  {
   "cell_type": "code",
   "execution_count": 386,
   "id": "d8ff4161-1442-4a4c-aa85-09b23bb12d1f",
   "metadata": {},
   "outputs": [
    {
     "data": {
      "text/plain": [
       "0       1.0\n",
       "1       3.0\n",
       "2       1.0\n",
       "3       1.0\n",
       "4       1.0\n",
       "       ... \n",
       "996     0.0\n",
       "997     7.0\n",
       "998     4.0\n",
       "999     0.0\n",
       "1000    1.0\n",
       "Name: Punctuation_count, Length: 1001, dtype: float64"
      ]
     },
     "execution_count": 386,
     "metadata": {},
     "output_type": "execute_result"
    }
   ],
   "source": [
    "def check_punc(title):\n",
    "    return len([char for char in title if char in string.punctuation])\n",
    "sample_df = df[0:1001]\n"
   ]
  },
  {
   "cell_type": "code",
   "execution_count": 392,
   "id": "ec16694c-69d1-4f7a-8d70-43e9f72e5eea",
   "metadata": {},
   "outputs": [
    {
     "data": {
      "text/plain": [
       "<function matplotlib.pyplot.show(close=None, block=None)>"
      ]
     },
     "execution_count": 392,
     "metadata": {},
     "output_type": "execute_result"
    },
    {
     "data": {
      "image/png": "[encoded data removed]",
      "text/plain": [
       "<Figure size 800x600 with 1 Axes>"
      ]
     },
     "metadata": {},
     "output_type": "display_data"
    }
   ],
   "source": [
    "plt.figure(figsize=(8,6))\n",
    "sns.boxplot(x='Punctuation_count',y='likes',data = sample_df)\n",
    "plt.show"
   ]
  },
  {
   "cell_type": "code",
   "execution_count": null,
   "id": "75a23d46-af4c-4a6c-84f0-936d6401fd2e",
   "metadata": {},
   "outputs": [],
   "source": []
  }
 ],
 "metadata": {
  "kernelspec": {
   "display_name": "Python 3 (ipykernel)",
   "language": "python",
   "name": "python3"
  },
  "language_info": {
   "codemirror_mode": {
    "name": "ipython",
    "version": 3
   },
   "file_extension": ".py",
   "mimetype": "text/x-python",
   "name": "python",
   "nbconvert_exporter": "python",
   "pygments_lexer": "ipython3",
   "version": "3.12.7"
  }
 },
 "nbformat": 4,
 "nbformat_minor": 5
}
